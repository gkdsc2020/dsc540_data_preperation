{
 "cells": [
  {
   "cell_type": "markdown",
   "id": "b74ad5c6-5ca4-48a2-93d8-d61d9b0899db",
   "metadata": {},
   "source": [
    "## Author# Ganesh Kale\n",
    "## Week# 1 & 2\n",
    "## Date# Sept 5, 2021"
   ]
  },
  {
   "cell_type": "markdown",
   "id": "acd35ad7-8071-48c0-9883-6381d95cdda8",
   "metadata": {},
   "source": [
    "### Exercise#1\n",
    "create list and list operations"
   ]
  },
  {
   "cell_type": "markdown",
   "id": "d81139c9-90af-492e-8f04-262d02051f3a",
   "metadata": {},
   "source": [
    "#### _import required libraries_"
   ]
  },
  {
   "cell_type": "code",
   "execution_count": 1,
   "id": "a69b324a-6970-4ef1-b760-5d9e7e583ba0",
   "metadata": {},
   "outputs": [],
   "source": [
    "import numpy as np  # for numeric operations\n",
    "import pandas as pd  # for data manipulation\n",
    "import matplotlib.pyplot as plt  # for data visualization\n",
    "import seaborn as sns  # for data visualization\n",
    "import random   # for generating random numbers\n",
    "\n",
    "from IPython.core.interactiveshell import InteractiveShell\n",
    "InteractiveShell.ast_node_interactivity = 'all'"
   ]
  },
  {
   "cell_type": "code",
   "execution_count": 38,
   "id": "e88e8c1d-44a8-418a-8842-7706bb7810ad",
   "metadata": {
    "tags": []
   },
   "outputs": [
    {
     "data": {
      "text/plain": [
       "[9, 48, 19, 85, 58, 21, 92, 74, 5, 22, 43, 44, 1, 76, 95, 9, 99, 84, 79, 18]"
      ]
     },
     "execution_count": 38,
     "metadata": {},
     "output_type": "execute_result"
    }
   ],
   "source": [
    "# create a list with random 20 numbers\n",
    "\n",
    "new_list = [random.randint(0,100) for x in range(0,20)]\n",
    "new_list"
   ]
  },
  {
   "cell_type": "code",
   "execution_count": 39,
   "id": "0e113710-7e08-42fa-8ff9-7dd49fe17f97",
   "metadata": {
    "tags": []
   },
   "outputs": [
    {
     "data": {
      "text/plain": [
       "[1, 5, 9, 9, 18, 19, 21, 22, 43, 44, 48, 58, 74, 76, 79, 84, 85, 92, 95, 99]"
      ]
     },
     "execution_count": 39,
     "metadata": {},
     "output_type": "execute_result"
    }
   ],
   "source": [
    "# iterate over the list using for loop and sort the list ascending order\n",
    "\n",
    "temp = 0\n",
    "\n",
    "for i in range(0,len(new_list)):\n",
    "    for j in range(i+1,len(new_list)):\n",
    "        if new_list[i] > new_list[j]:\n",
    "            temp = new_list[i]\n",
    "            new_list[i] = new_list[j]\n",
    "            new_list[j] = temp\n",
    "\n",
    "# sorted list\n",
    "new_list"
   ]
  },
  {
   "cell_type": "code",
   "execution_count": 40,
   "id": "aa55326a-c95a-483a-b3bc-eb5f7f6524e2",
   "metadata": {
    "tags": []
   },
   "outputs": [
    {
     "data": {
      "text/plain": [
       "[99, 95, 92, 85, 84, 79, 76, 74, 58, 48, 44, 43, 22, 21, 19, 18, 9, 9, 5, 1]"
      ]
     },
     "execution_count": 40,
     "metadata": {},
     "output_type": "execute_result"
    }
   ],
   "source": [
    "# Another way - sort list using python's built in function sort , descending sort\n",
    "\n",
    "new_list.sort(reverse=True)\n",
    "new_list"
   ]
  },
  {
   "cell_type": "code",
   "execution_count": 41,
   "id": "2ca57f31-c66d-4b84-8c54-de9a000dc405",
   "metadata": {
    "tags": []
   },
   "outputs": [
    {
     "data": {
      "text/plain": [
       "[99, 95, 92, 85, 84, 79, 76, 74, 58, 48, 44, 43, 22, 21, 19, 18, 9, 9, 5, 1, 102, 102, 109, 110, 109]"
      ]
     },
     "execution_count": 41,
     "metadata": {},
     "output_type": "execute_result"
    }
   ],
   "source": [
    "# generate random numbers and add to list \n",
    "# generate 5 random numbers and add to list\n",
    "\n",
    "for x in range(0,5):\n",
    "    num = random.randint(101,110)\n",
    "    new_list.append(num)\n",
    "\n",
    "new_list"
   ]
  },
  {
   "cell_type": "markdown",
   "id": "933963df-b965-4ac4-b352-8ccb00d6d39f",
   "metadata": {},
   "source": [
    "### Exercise#2\n",
    "Create a line chart with Matplotlib "
   ]
  },
  {
   "cell_type": "code",
   "execution_count": 6,
   "id": "b2623f2b-91ba-485e-af87-548916e4d2aa",
   "metadata": {},
   "outputs": [],
   "source": [
    "# load data into data frame\n",
    "\n",
    "filepath = \"/Users/ganeshkale/work/dsc540_data_prep/Data/world-population.xlsm\"\n",
    "population = pd.read_excel(filepath)"
   ]
  },
  {
   "cell_type": "code",
   "execution_count": 7,
   "id": "d0e6ebbc-a9ff-403f-9eb9-c24b9153816d",
   "metadata": {},
   "outputs": [
    {
     "data": {
      "text/html": [
       "<div>\n",
       "<style scoped>\n",
       "    .dataframe tbody tr th:only-of-type {\n",
       "        vertical-align: middle;\n",
       "    }\n",
       "\n",
       "    .dataframe tbody tr th {\n",
       "        vertical-align: top;\n",
       "    }\n",
       "\n",
       "    .dataframe thead th {\n",
       "        text-align: right;\n",
       "    }\n",
       "</style>\n",
       "<table border=\"1\" class=\"dataframe\">\n",
       "  <thead>\n",
       "    <tr style=\"text-align: right;\">\n",
       "      <th></th>\n",
       "      <th>Year</th>\n",
       "      <th>Population</th>\n",
       "    </tr>\n",
       "  </thead>\n",
       "  <tbody>\n",
       "    <tr>\n",
       "      <th>0</th>\n",
       "      <td>1960</td>\n",
       "      <td>3028654024</td>\n",
       "    </tr>\n",
       "    <tr>\n",
       "      <th>1</th>\n",
       "      <td>1961</td>\n",
       "      <td>3068356747</td>\n",
       "    </tr>\n",
       "    <tr>\n",
       "      <th>2</th>\n",
       "      <td>1962</td>\n",
       "      <td>3121963107</td>\n",
       "    </tr>\n",
       "    <tr>\n",
       "      <th>3</th>\n",
       "      <td>1963</td>\n",
       "      <td>3187471383</td>\n",
       "    </tr>\n",
       "    <tr>\n",
       "      <th>4</th>\n",
       "      <td>1964</td>\n",
       "      <td>3253112403</td>\n",
       "    </tr>\n",
       "  </tbody>\n",
       "</table>\n",
       "</div>"
      ],
      "text/plain": [
       "   Year  Population\n",
       "0  1960  3028654024\n",
       "1  1961  3068356747\n",
       "2  1962  3121963107\n",
       "3  1963  3187471383\n",
       "4  1964  3253112403"
      ]
     },
     "execution_count": 7,
     "metadata": {},
     "output_type": "execute_result"
    }
   ],
   "source": [
    "# display head of df\n",
    "\n",
    "population.head()"
   ]
  },
  {
   "cell_type": "code",
   "execution_count": 8,
   "id": "5700d944-16cb-42ed-805d-691d56add6da",
   "metadata": {},
   "outputs": [
    {
     "data": {
      "image/png": "[encoded data removed]",
      "text/plain": [
       "<Figure size 1080x504 with 1 Axes>"
      ]
     },
     "metadata": {
      "needs_background": "light"
     },
     "output_type": "display_data"
    }
   ],
   "source": [
    "# create line chart using matplotlib\n",
    "\n",
    "plt.figure(figsize=(15,7))\n",
    "plt.plot('Year', 'Population', data=population,color='r')\n",
    "plt.xlabel('Year')\n",
    "plt.ylabel('Population(Billions)')\n",
    "plt.title('World Population');"
   ]
  },
  {
   "cell_type": "markdown",
   "id": "573fefba-a236-4e63-b681-b8d37d6d860d",
   "metadata": {},
   "source": [
    "### Exercise#3\n",
    "Complete the following activities from Data Wrangling with Python Book"
   ]
  },
  {
   "cell_type": "markdown",
   "id": "ada2fd33-7315-4556-84ce-5af204ae46bc",
   "metadata": {},
   "source": [
    "a. Data Wrangling with Python: Activity 1 page 17\n",
    " \n",
    " Handling List"
   ]
  },
  {
   "cell_type": "code",
   "execution_count": 9,
   "id": "e6a221a4-0974-4a0c-b2d2-a2e3604b6693",
   "metadata": {},
   "outputs": [],
   "source": [
    "# create list of 100 random numbers and get difference of length of randome list and list with numbers divisible by 3\n",
    "\n",
    "lens = []\n",
    "for i in range(0,3):   # running for 3 times to get 3 lenght differences\n",
    "    lst = [random.randint(0,100) for x in range(0,100)]   # list with 100 random numbers\n",
    "    new_lst = [x for x in lst if x%3==0]   # new list with numbers divisible by 3\n",
    "    diff = len(lst) - len(new_lst) \n",
    "    lens.append(diff)                      # add diff of length original and new list in another list"
   ]
  },
  {
   "cell_type": "code",
   "execution_count": 10,
   "id": "12d0862e-bea9-464e-93b8-6580efb3a142",
   "metadata": {},
   "outputs": [
    {
     "data": {
      "text/plain": [
       "[61, 63, 64]"
      ]
     },
     "execution_count": 10,
     "metadata": {},
     "output_type": "execute_result"
    }
   ],
   "source": [
    "# display diff of two list from each iteration\n",
    "\n",
    "lens"
   ]
  },
  {
   "cell_type": "code",
   "execution_count": 11,
   "id": "6c82d61d-61ac-41e5-845e-3c4acc90f48d",
   "metadata": {},
   "outputs": [
    {
     "data": {
      "text/plain": [
       "'Arithmatic Mean of differences of two lists is 62.67'"
      ]
     },
     "execution_count": 11,
     "metadata": {},
     "output_type": "execute_result"
    }
   ],
   "source": [
    "# take arithmatic mean of all diff from lens lsit\n",
    "\n",
    "f\"Arithmatic Mean of differences of two lists is {round(np.mean(lens),2)}\""
   ]
  },
  {
   "cell_type": "markdown",
   "id": "defccb25-7396-4ce5-b823-964e9d56a29f",
   "metadata": {},
   "source": [
    "#### END"
   ]
  },
  {
   "cell_type": "markdown",
   "id": "b7d10c7e-4cd1-4b1d-8ed8-be7a2df36a65",
   "metadata": {},
   "source": [
    "b. Data Wrangling with Python: Activity 2 page 31"
   ]
  },
  {
   "cell_type": "code",
   "execution_count": 12,
   "id": "a64e3764-097d-4e35-9b58-ec12e05cc283",
   "metadata": {},
   "outputs": [],
   "source": [
    "# multiline variable from Pride and Prejudice book chapter#1\n",
    "\n",
    "multiline_text = '''It is a truth universally acknowledged, that a single man in possession of a good fortune, must be in want of a wife.\n",
    "However little known the feelings or views of such a man may be on his first entering a neighbourhood, this truth is so well fixed in the minds of the surrounding families, that he is considered as the rightful property of some one or other of their daughters.\n",
    "“My dear Mr. Bennet,” said his lady to him one day, “have you heard that Netherfield Park is let at last?”\n",
    "Mr. Bennet replied that he had not.\n",
    "“But it is,” returned she; “for Mrs. Long has just been here, and she told me all about it.”\n",
    "Mr. Bennet made no answer.\n",
    "“Do not you want to know who has taken it?” cried his wife impatiently.\n",
    "“You want to tell me, and I have no objection to hearing it.”\n",
    "This was invitation enough.\n",
    "“Why, my dear, you must know, Mrs. Long says that Netherfield is taken by a young man of large fortune from the north of England; that he came down on Monday in a chaise and four to see the place, and was so much delighted with it that he agreed with Mr. Morris immediately; that he is to take possession before Michaelmas, and some of his servants are to be in the house by the end of next week.”\n",
    "“What is his name?”\n",
    "“Bingley.”\n",
    "“Is he married or single?”\n",
    "“Oh! single, my dear, to be sure! A single man of large fortune; four or five thousand a year. What a fine thing for our girls!”\n",
    "“How so? how can it affect them?”\n",
    "“My dear Mr. Bennet,” replied his wife, “how can you be so tiresome! You must know that I am thinking of his marrying one of them.”\n",
    "“Is that his design in settling here?”\n",
    "“Design! nonsense, how can you talk so! But it is very likely that he may fall in love with one of them, and therefore you must visit him as soon as he comes.”\n",
    "“I see no occasion for that. You and the girls may go, or you may send them by themselves, which perhaps will be still better, for as you are as handsome as any of them, Mr. Bingley might like you the best of the party.”\n",
    "“My dear, you flatter me. I certainly have had my share of beauty, but I do not pretend to be anything extraordinary now. When a woman has five grown-up daughters, she ought to give over thinking of her own beauty.”\n",
    "“In such cases, a woman has not often much beauty to think of.”\n",
    "“But, my dear, you must indeed go and see Mr. Bingley when he comes into the neighbourhood.”\n",
    "“It is more than I engage for, I assure you.”\n",
    "“But consider your daughters. Only think what an establishment it would be for one of them. Sir William and Lady Lucas are determined to go, merely on that account, for in general, you know, they visit no newcomers. Indeed you must go, for it will be impossible for us to visit him, if you do not.”\n",
    "“You are over scrupulous, surely. I dare say Mr. Bingley will be very glad to see you; and I will send a few lines by you to assure him of my hearty consent to his marrying whichever he chooses of the girls; though I must throw in a good word for my little Lizzy.”\n",
    "“I desire you will do no such thing. Lizzy is not a bit better than the others; and I am sure she is not half so handsome as Jane, nor half so good-humoured as Lydia. But you are always giving her the preference.”\n",
    "“They have none of them much to recommend them,” replied he; “they are all silly and ignorant like other girls; but Lizzy has something more of quickness than her sisters.”\n",
    "“Mr. Bennet, how can you abuse your own children in such a way? You take delight in vexing me. You have no compassion on my poor nerves.”\n",
    "“You mistake me, my dear. I have a high respect for your nerves. They are my old friends. I have heard you mention them with consideration these twenty years at least.”\n",
    "“Ah, you do not know what I suffer.”\n",
    "“But I hope you will get over it, and live to see many young men of four thousand a year come into the neighbourhood.”\n",
    "“It will be no use to us, if twenty such should come, since you will not visit them.”\n",
    "“Depend upon it, my dear, that when there are twenty, I will visit them all.”\n",
    "Mr. Bennet was so odd a mixture of quick parts, sarcastic humour, reserve, and caprice, that the experience of three-and-twenty years had been insufficient to make his wife understand his character. Her mind was less difficult to develop. She was a woman of mean understanding, little information, and uncertain temper. When she was discontented, she fancied herself nervous. The business of her life was to get her daughters married; its solace was visiting and news.'''"
   ]
  },
  {
   "cell_type": "code",
   "execution_count": 13,
   "id": "9f6af802-1ba3-4b9b-8719-37c3e8511c02",
   "metadata": {},
   "outputs": [
    {
     "data": {
      "text/plain": [
       "str"
      ]
     },
     "execution_count": 13,
     "metadata": {},
     "output_type": "execute_result"
    },
    {
     "data": {
      "text/plain": [
       "4440"
      ]
     },
     "execution_count": 13,
     "metadata": {},
     "output_type": "execute_result"
    }
   ],
   "source": [
    "# display type and length of variable\n",
    "\n",
    "type(multiline_text)\n",
    "len(multiline_text)"
   ]
  },
  {
   "cell_type": "code",
   "execution_count": 14,
   "id": "ed90534c-7f8a-4003-a1ab-43a40a2db6dd",
   "metadata": {},
   "outputs": [
    {
     "data": {
      "text/plain": [
       "'it is a truth universally acknowledged that a single man in possession of a good fortune must be in want of a wife however little known the feelings or views of such a man may be on his first entering a neighbourhood this truth is so well fixed in the minds of the surrounding families that he is considered as the rightful property of some one or other of their daughters my dear mr bennet said his lady to him one day have you heard that netherfield park is let at last mr bennet replied that he had not but it is returned she for mrs long has just been here and she told me all about it mr bennet made no answer do not you want to know who has taken it cried his wife impatiently you want to tell me and i have no objection to hearing it this was invitation enough why my dear you must know mrs long says that netherfield is taken by a young man of large fortune from the north of england that he came down on monday in a chaise and four to see the place and was so much delighted with it that he agreed with mr morris immediately that he is to take possession before michaelmas and some of his servants are to be in the house by the end of next week what is his name bingley is he married or single oh single my dear to be sure a single man of large fortune four or five thousand a year what a fine thing for our girls how so how can it affect them my dear mr bennet replied his wife how can you be so tiresome you must know that i am thinking of his marrying one of them is that his design in settling here design nonsense how can you talk so but it is very likely that he may fall in love with one of them and therefore you must visit him as soon as he comes i see no occasion for that you and the girls may go or you may send them by themselves which perhaps will be still better for as you are as handsome as any of them mr bingley might like you the best of the party my dear you flatter me i certainly have had my share of beauty but i do not pretend to be anything extraordinary now when a woman has five grownup daughters she ought to give over thinking of her own beauty in such cases a woman has not often much beauty to think of but my dear you must indeed go and see mr bingley when he comes into the neighbourhood it is more than i engage for i assure you but consider your daughters only think what an establishment it would be for one of them sir william and lady lucas are determined to go merely on that account for in general you know they visit no newcomers indeed you must go for it will be impossible for us to visit him if you do not you are over scrupulous surely i dare say mr bingley will be very glad to see you and i will send a few lines by you to assure him of my hearty consent to his marrying whichever he chooses of the girls though i must throw in a good word for my little lizzy i desire you will do no such thing lizzy is not a bit better than the others and i am sure she is not half so handsome as jane nor half so goodhumoured as lydia but you are always giving her the preference they have none of them much to recommend them replied he they are all silly and ignorant like other girls but lizzy has something more of quickness than her sisters mr bennet how can you abuse your own children in such a way you take delight in vexing me you have no compassion on my poor nerves you mistake me my dear i have a high respect for your nerves they are my old friends i have heard you mention them with consideration these twenty years at least ah you do not know what i suffer but i hope you will get over it and live to see many young men of four thousand a year come into the neighbourhood it will be no use to us if twenty such should come since you will not visit them depend upon it my dear that when there are twenty i will visit them all mr bennet was so odd a mixture of quick parts sarcastic humour reserve and caprice that the experience of threeandtwenty years had been insufficient to make his wife understand his character her mind was less difficult to develop she was a woman of mean understanding little information and uncertain temper when she was discontented she fancied herself nervous the business of her life was to get her daughters married its solace was visiting and news'"
      ]
     },
     "execution_count": 14,
     "metadata": {},
     "output_type": "execute_result"
    }
   ],
   "source": [
    "# remove new lines, remove symbols/punctuations from string and lower case of entire string to avoide case-sensitivity\n",
    "\n",
    "import string\n",
    "\n",
    "# function to clean texts\n",
    "\n",
    "def clean_texts(texts):\n",
    "    new_text = texts.replace('\\n', ' ')\n",
    "    new_text = new_text.replace('“','')\n",
    "    new_text = new_text.replace('”','')\n",
    "    new_text = new_text.translate(str.maketrans(\"\",\"\",string.punctuation))\n",
    "    new_text = new_text.lower()\n",
    "    return new_text\n",
    "    \n",
    "\n",
    "new_text = clean_texts(multiline_text)\n",
    "new_text"
   ]
  },
  {
   "cell_type": "code",
   "execution_count": 47,
   "id": "a5b5ba53-ab80-4027-991e-a9e69dcb6112",
   "metadata": {
    "tags": []
   },
   "outputs": [
    {
     "data": {
      "text/plain": [
       "['it', 'is', 'a', 'truth', 'universally', 'acknowledged', 'that', 'a', 'single', 'man', 'in', 'possession', 'of', 'a', 'good', 'fortune', 'must', 'be', 'in', 'want', 'of', 'a', 'wife', 'however', 'little', 'known', 'the', 'feelings', 'or', 'views', 'of', 'such', 'a', 'man', 'may', 'be', 'on', 'his', 'first', 'entering', 'a', 'neighbourhood', 'this', 'truth', 'is', 'so', 'well', 'fixed', 'in', 'the', 'minds', 'of', 'the', 'surrounding', 'families', 'that', 'he', 'is', 'considered', 'as', 'the', 'rightful', 'property', 'of', 'some', 'one', 'or', 'other', 'of', 'their', 'daughters', 'my', 'dear', 'mr', 'bennet', 'said', 'his', 'lady', 'to', 'him', 'one', 'day', 'have', 'you', 'heard', 'that', 'netherfield', 'park', 'is', 'let', 'at', 'last', 'mr', 'bennet', 'replied', 'that', 'he', 'had', 'not', 'but', 'it', 'is', 'returned', 'she', 'for', 'mrs', 'long', 'has', 'just', 'been', 'here', 'and', 'she', 'told', 'me', 'all', 'about', 'it', 'mr', 'bennet', 'made', 'no', 'answer', 'do', 'not', 'you', 'want', 'to', 'know', 'who', 'has', 'taken', 'it', 'cried', 'his', 'wife', 'impatiently', 'you', 'want', 'to', 'tell', 'me', 'and', 'i', 'have', 'no', 'objection', 'to', 'hearing', 'it', 'this', 'was', 'invitation', 'enough', 'why', 'my', 'dear', 'you', 'must', 'know', 'mrs', 'long', 'says', 'that', 'netherfield', 'is', 'taken', 'by', 'a', 'young', 'man', 'of', 'large', 'fortune', 'from', 'the', 'north', 'of', 'england', 'that', 'he', 'came', 'down', 'on', 'monday', 'in', 'a', 'chaise', 'and', 'four', 'to', 'see', 'the', 'place', 'and', 'was', 'so', 'much', 'delighted', 'with', 'it', 'that', 'he', 'agreed', 'with', 'mr', 'morris', 'immediately', 'that', 'he', 'is', 'to', 'take', 'possession', 'before', 'michaelmas', 'and', 'some', 'of', 'his', 'servants', 'are', 'to', 'be', 'in', 'the', 'house', 'by', 'the', 'end', 'of', 'next', 'week', 'what', 'is', 'his', 'name', 'bingley', 'is', 'he', 'married', 'or', 'single', 'oh', 'single', 'my', 'dear', 'to', 'be', 'sure', 'a', 'single', 'man', 'of', 'large', 'fortune', 'four', 'or', 'five', 'thousand', 'a', 'year', 'what', 'a', 'fine', 'thing', 'for', 'our', 'girls', 'how', 'so', 'how', 'can', 'it', 'affect', 'them', 'my', 'dear', 'mr', 'bennet', 'replied', 'his', 'wife', 'how', 'can', 'you', 'be', 'so', 'tiresome', 'you', 'must', 'know', 'that', 'i', 'am', 'thinking', 'of', 'his', 'marrying', 'one', 'of', 'them', 'is', 'that', 'his', 'design', 'in', 'settling', 'here', 'design', 'nonsense', 'how', 'can', 'you', 'talk', 'so', 'but', 'it', 'is', 'very', 'likely', 'that', 'he', 'may', 'fall', 'in', 'love', 'with', 'one', 'of', 'them', 'and', 'therefore', 'you', 'must', 'visit', 'him', 'as', 'soon', 'as', 'he', 'comes', 'i', 'see', 'no', 'occasion', 'for', 'that', 'you', 'and', 'the', 'girls', 'may', 'go', 'or', 'you', 'may', 'send', 'them', 'by', 'themselves', 'which', 'perhaps', 'will', 'be', 'still', 'better', 'for', 'as', 'you', 'are', 'as', 'handsome', 'as', 'any', 'of', 'them', 'mr', 'bingley', 'might', 'like', 'you', 'the', 'best', 'of', 'the', 'party', 'my', 'dear', 'you', 'flatter', 'me', 'i', 'certainly', 'have', 'had', 'my', 'share', 'of', 'beauty', 'but', 'i', 'do', 'not', 'pretend', 'to', 'be', 'anything', 'extraordinary', 'now', 'when', 'a', 'woman', 'has', 'five', 'grownup', 'daughters', 'she', 'ought', 'to', 'give', 'over', 'thinking', 'of', 'her', 'own', 'beauty', 'in', 'such', 'cases', 'a', 'woman', 'has', 'not', 'often', 'much', 'beauty', 'to', 'think', 'of', 'but', 'my', 'dear', 'you', 'must', 'indeed', 'go', 'and', 'see', 'mr', 'bingley', 'when', 'he', 'comes', 'into', 'the', 'neighbourhood', 'it', 'is', 'more', 'than', 'i', 'engage', 'for', 'i', 'assure', 'you', 'but', 'consider', 'your', 'daughters', 'only', 'think', 'what', 'an', 'establishment', 'it', 'would', 'be', 'for', 'one', 'of', 'them', 'sir', 'william', 'and', 'lady', 'lucas', 'are', 'determined', 'to', 'go', 'merely', 'on', 'that', 'account', 'for', 'in', 'general', 'you', 'know', 'they', 'visit', 'no', 'newcomers', 'indeed', 'you', 'must', 'go', 'for', 'it', 'will', 'be', 'impossible', 'for', 'us', 'to', 'visit', 'him', 'if', 'you', 'do', 'not', 'you', 'are', 'over', 'scrupulous', 'surely', 'i', 'dare', 'say', 'mr', 'bingley', 'will', 'be', 'very', 'glad', 'to', 'see', 'you', 'and', 'i', 'will', 'send', 'a', 'few', 'lines', 'by', 'you', 'to', 'assure', 'him', 'of', 'my', 'hearty', 'consent', 'to', 'his', 'marrying', 'whichever', 'he', 'chooses', 'of', 'the', 'girls', 'though', 'i', 'must', 'throw', 'in', 'a', 'good', 'word', 'for', 'my', 'little', 'lizzy', 'i', 'desire', 'you', 'will', 'do', 'no', 'such', 'thing', 'lizzy', 'is', 'not', 'a', 'bit', 'better', 'than', 'the', 'others', 'and', 'i', 'am', 'sure', 'she', 'is', 'not', 'half', 'so', 'handsome', 'as', 'jane', 'nor', 'half', 'so', 'goodhumoured', 'as', 'lydia', 'but', 'you', 'are', 'always', 'giving', 'her', 'the', 'preference', 'they', 'have', 'none', 'of', 'them', 'much', 'to', 'recommend', 'them', 'replied', 'he', 'they', 'are', 'all', 'silly', 'and', 'ignorant', 'like', 'other', 'girls', 'but', 'lizzy', 'has', 'something', 'more', 'of', 'quickness', 'than', 'her', 'sisters', 'mr', 'bennet', 'how', 'can', 'you', 'abuse', 'your', 'own', 'children', 'in', 'such', 'a', 'way', 'you', 'take', 'delight', 'in', 'vexing', 'me', 'you', 'have', 'no', 'compassion', 'on', 'my', 'poor', 'nerves', 'you', 'mistake', 'me', 'my', 'dear', 'i', 'have', 'a', 'high', 'respect', 'for', 'your', 'nerves', 'they', 'are', 'my', 'old', 'friends', 'i', 'have', 'heard', 'you', 'mention', 'them', 'with', 'consideration', 'these', 'twenty', 'years', 'at', 'least', 'ah', 'you', 'do', 'not', 'know', 'what', 'i', 'suffer', 'but', 'i', 'hope', 'you', 'will', 'get', 'over', 'it', 'and', 'live', 'to', 'see', 'many', 'young', 'men', 'of', 'four', 'thousand', 'a', 'year', 'come', 'into', 'the', 'neighbourhood', 'it', 'will', 'be', 'no', 'use', 'to', 'us', 'if', 'twenty', 'such', 'should', 'come', 'since', 'you', 'will', 'not', 'visit', 'them', 'depend', 'upon', 'it', 'my', 'dear', 'that', 'when', 'there', 'are', 'twenty', 'i', 'will', 'visit', 'them', 'all', 'mr', 'bennet', 'was', 'so', 'odd', 'a', 'mixture', 'of', 'quick', 'parts', 'sarcastic', 'humour', 'reserve', 'and', 'caprice', 'that', 'the', 'experience', 'of', 'threeandtwenty', 'years', 'had', 'been', 'insufficient', 'to', 'make', 'his', 'wife', 'understand', 'his', 'character', 'her', 'mind', 'was', 'less', 'difficult', 'to', 'develop', 'she', 'was', 'a', 'woman', 'of', 'mean', 'understanding', 'little', 'information', 'and', 'uncertain', 'temper', 'when', 'she', 'was', 'discontented', 'she', 'fancied', 'herself', 'nervous', 'the', 'business', 'of', 'her', 'life', 'was', 'to', 'get', 'her', 'daughters', 'married', 'its', 'solace', 'was', 'visiting', 'and', 'news']"
      ]
     },
     "execution_count": 47,
     "metadata": {},
     "output_type": "execute_result"
    },
    {
     "data": {
      "text/plain": [
       "848"
      ]
     },
     "execution_count": 47,
     "metadata": {},
     "output_type": "execute_result"
    }
   ],
   "source": [
    "# split string into list and display list and length of list\n",
    "\n",
    "text_list = [x.replace('\"','') for x in new_text.split()]\n",
    "text_list                                               \n",
    "len(text_list)"
   ]
  },
  {
   "cell_type": "code",
   "execution_count": 48,
   "id": "4663705b-e8d4-4d5c-989f-f81dd4f0e1ae",
   "metadata": {},
   "outputs": [
    {
     "data": {
      "text/plain": [
       "['handsome', 'for', 'and', 'our', 'nerves', 'than', 'my', 'less', 'was', 'flatter', 'just', 'years', 'house', 'occasion', 'have', 'lines', 'consideration', 'bit', 'i', 'upon', 'much', 'desire', 'should', 'soon', 'often', 'am', 'answer', 'cases', 'married', 'nonsense', 'account', 'says', 'said', 'design', 'not', 'mr', 'children', 'made', 'impatiently', 'indeed', 'still', 'reserve', 'known', 'tiresome', 'only', 'make', 'experience', 'thing', 'scrupulous', 'general', 'business', 'all', 'his', 'monday', 'woman', 'chooses', 'when', 'bingley', 'at', 'possession', 'anything', 'on', 'lydia', 'these', 'depend', 'a', 'word', 'mind', 'many', 'to', 'extraordinary', 'twenty', 'heard', 'insufficient', 'live', 'always', 'must', 'their', 'considered', 'newcomers', 'year', 'will', 'sure', 'visit', 'name', 'man', 'see', 'none', 'lizzy', 'mrs', 'old', 'sisters', 'mixture', 'be', 'perhaps', 'better', 'acknowledged', 'this', 'compassion', 'other', 'news', 'take', 'no', 'use', 'vexing', 'william', 'surely', 'pretend', 'delighted', 'replied', 'which', 'hearing', 'very', 'but', 'do', 'goodhumoured', 'that', 'with', 'thousand', 'mean', 'some', 'since', 'want', 'parts', 'chaise', 'engage', 'giving', 'daughters', 'now', 'she', 'him', 'determined', 'so', 'agreed', 'it', 'families', 'lucas', 'objection', 'way', 'cried', 'here', 'suffer', 'friends', 'abuse', 'sir', 'hearty', 'may', 'few', 'difficult', 'ignorant', 'who', 'had', 'fall', 'go', 'sarcastic', 'silly', 'last', 'england', 'has', 'discontented', 'five', 'or', 'hope', 'something', 'her', 'assure', 'get', 'more', 'think', 'they', 'by', 'dare', 'entering', 'however', 'wife', 'least', 'me', 'glad', 'marrying', 'merely', 'would', 'establishment', 'thinking', 'came', 'quickness', 'know', 'mistake', 'give', 'them', 'little', 'the', 'party', 'minds', 'visiting', 'day', 'character', 'views', 'rightful', 'fancied', 'settling', 'four', 'your', 'men', 'about', 'place', 'bennet', 'its', 'solace', 'enough', 'mention', 'dear', 'large', 'information', 'threeandtwenty', 'talk', 'best', 'over', 'quick', 'delight', 'share', 'let', 'ah', 'like', 'respect', 'beauty', 'say', 'been', 'fine', 'themselves', 'morris', 'life', 'invitation', 'others', 'property', 'is', 'half', 'park', 'tell', 'develop', 'what', 'servants', 'poor', 'end', 'us', 'might', 'throw', 'from', 'neighbourhood', 'uncertain', 'come', 'likely', 'fixed', 'comes', 'though', 'in', 'as', 'of', 'grownup', 'netherfield', 'good', 'before', 'next', 'into', 'herself', 'fortune', 'if', 'own', 'nervous', 'surrounding', 'whichever', 'returned', 'one', 'universally', 'preference', 'first', 'lady', 'well', 'understand', 'nor', 'ought', 'an', 'truth', 'are', 'long', 'there', 'immediately', 'humour', 'you', 'girls', 'any', 'impossible', 'affect', 'consider', 'can', 'caprice', 'single', 'he', 'certainly', 'feelings', 'taken', 'temper', 'michaelmas', 'down', 'send', 'understanding', 'therefore', 'high', 'why', 'jane', 'odd', 'week', 'how', 'recommend', 'love', 'north', 'told', 'such', 'oh', 'consent', 'young']"
      ]
     },
     "execution_count": 48,
     "metadata": {},
     "output_type": "execute_result"
    },
    {
     "data": {
      "text/plain": [
       "320"
      ]
     },
     "execution_count": 48,
     "metadata": {},
     "output_type": "execute_result"
    }
   ],
   "source": [
    "# list of unique words\n",
    "\n",
    "unique_text_list = list(set(text_list))\n",
    "unique_text_list                       \n",
    "len(unique_text_list)"
   ]
  },
  {
   "cell_type": "code",
   "execution_count": 49,
   "id": "630e5d47-2db3-4535-925c-f1a339a71318",
   "metadata": {},
   "outputs": [
    {
     "data": {
      "text/plain": [
       "{'handsome': 2, 'for': 11, 'and': 16, 'our': 1, 'nerves': 2, 'than': 3, 'my': 13, 'less': 1, 'was': 8, 'flatter': 1, 'just': 1, 'years': 2, 'house': 1, 'occasion': 1, 'have': 7, 'lines': 1, 'consideration': 1, 'bit': 1, 'i': 17, 'upon': 1, 'much': 3, 'desire': 1, 'should': 1, 'soon': 1, 'often': 1, 'am': 2, 'answer': 1, 'cases': 1, 'married': 2, 'nonsense': 1, 'account': 1, 'says': 1, 'said': 1, 'design': 2, 'not': 9, 'mr': 10, 'children': 1, 'made': 1, 'impatiently': 1, 'indeed': 2, 'still': 1, 'reserve': 1, 'known': 1, 'tiresome': 1, 'only': 1, 'make': 1, 'experience': 1, 'thing': 2, 'scrupulous': 1, 'general': 1, 'business': 1, 'all': 3, 'his': 11, 'monday': 1, 'woman': 3, 'chooses': 1, 'when': 4, 'bingley': 4, 'at': 2, 'possession': 2, 'anything': 1, 'on': 4, 'lydia': 1, 'these': 1, 'depend': 1, 'a': 21, 'word': 1, 'mind': 1, 'many': 1, 'to': 22, 'extraordinary': 1, 'twenty': 3, 'heard': 2, 'insufficient': 1, 'live': 1, 'always': 1, 'must': 7, 'their': 1, 'considered': 1, 'newcomers': 1, 'year': 2, 'will': 9, 'sure': 2, 'visit': 5, 'name': 1, 'man': 4, 'see': 5, 'none': 1, 'lizzy': 3, 'mrs': 2, 'old': 1, 'sisters': 1, 'mixture': 1, 'be': 11, 'perhaps': 1, 'better': 2, 'acknowledged': 1, 'this': 2, 'compassion': 1, 'other': 2, 'news': 1, 'take': 2, 'no': 7, 'use': 1, 'vexing': 1, 'william': 1, 'surely': 1, 'pretend': 1, 'delighted': 1, 'replied': 3, 'which': 1, 'hearing': 1, 'very': 2, 'but': 8, 'do': 5, 'goodhumoured': 1, 'that': 15, 'with': 4, 'thousand': 2, 'mean': 1, 'some': 2, 'since': 1, 'want': 3, 'parts': 1, 'chaise': 1, 'engage': 1, 'giving': 1, 'daughters': 4, 'now': 1, 'she': 7, 'him': 4, 'determined': 1, 'so': 8, 'agreed': 1, 'it': 14, 'families': 1, 'lucas': 1, 'objection': 1, 'way': 1, 'cried': 1, 'here': 2, 'suffer': 1, 'friends': 1, 'abuse': 1, 'sir': 1, 'hearty': 1, 'may': 4, 'few': 1, 'difficult': 1, 'ignorant': 1, 'who': 1, 'had': 3, 'fall': 1, 'go': 4, 'sarcastic': 1, 'silly': 1, 'last': 1, 'england': 1, 'has': 5, 'discontented': 1, 'five': 2, 'or': 5, 'hope': 1, 'something': 1, 'her': 6, 'assure': 2, 'get': 2, 'more': 2, 'think': 2, 'they': 4, 'by': 4, 'dare': 1, 'entering': 1, 'however': 1, 'wife': 4, 'least': 1, 'me': 5, 'glad': 1, 'marrying': 2, 'merely': 1, 'would': 1, 'establishment': 1, 'thinking': 2, 'came': 1, 'quickness': 1, 'know': 5, 'mistake': 1, 'give': 1, 'them': 11, 'little': 3, 'the': 18, 'party': 1, 'minds': 1, 'visiting': 1, 'day': 1, 'character': 1, 'views': 1, 'rightful': 1, 'fancied': 1, 'settling': 1, 'four': 3, 'your': 3, 'men': 1, 'about': 1, 'place': 1, 'bennet': 6, 'its': 1, 'solace': 1, 'enough': 1, 'mention': 1, 'dear': 8, 'large': 2, 'information': 1, 'threeandtwenty': 1, 'talk': 1, 'best': 1, 'over': 3, 'quick': 1, 'delight': 1, 'share': 1, 'let': 1, 'ah': 1, 'like': 2, 'respect': 1, 'beauty': 3, 'say': 1, 'been': 2, 'fine': 1, 'themselves': 1, 'morris': 1, 'life': 1, 'invitation': 1, 'others': 1, 'property': 1, 'is': 14, 'half': 2, 'park': 1, 'tell': 1, 'develop': 1, 'what': 4, 'servants': 1, 'poor': 1, 'end': 1, 'us': 2, 'might': 1, 'throw': 1, 'from': 1, 'neighbourhood': 3, 'uncertain': 1, 'come': 2, 'likely': 1, 'fixed': 1, 'comes': 2, 'though': 1, 'in': 12, 'as': 8, 'of': 29, 'grownup': 1, 'netherfield': 2, 'good': 2, 'before': 1, 'next': 1, 'into': 2, 'herself': 1, 'fortune': 3, 'if': 2, 'own': 2, 'nervous': 1, 'surrounding': 1, 'whichever': 1, 'returned': 1, 'one': 5, 'universally': 1, 'preference': 1, 'first': 1, 'lady': 2, 'well': 1, 'understand': 1, 'nor': 1, 'ought': 1, 'an': 1, 'truth': 2, 'are': 8, 'long': 2, 'there': 1, 'immediately': 1, 'humour': 1, 'you': 31, 'girls': 4, 'any': 1, 'impossible': 1, 'affect': 1, 'consider': 1, 'can': 4, 'caprice': 1, 'single': 4, 'he': 11, 'certainly': 1, 'feelings': 1, 'taken': 2, 'temper': 1, 'michaelmas': 1, 'down': 1, 'send': 2, 'understanding': 1, 'therefore': 1, 'high': 1, 'why': 1, 'jane': 1, 'odd': 1, 'week': 1, 'how': 5, 'recommend': 1, 'love': 1, 'north': 1, 'told': 1, 'such': 5, 'oh': 1, 'consent': 1, 'young': 2}"
      ]
     },
     "execution_count": 49,
     "metadata": {},
     "output_type": "execute_result"
    }
   ],
   "source": [
    "# create dictionary of uniques words and counts\n",
    "\n",
    "text_dict = {x:text_list.count(x) for x in unique_text_list}\n",
    "top_words = sorted(text_dict.items(), key=lambda item:item[1],reverse=True)\n",
    "text_dict"
   ]
  },
  {
   "cell_type": "code",
   "execution_count": 50,
   "id": "b5757e31-aa25-482c-b48d-092c423c359b",
   "metadata": {},
   "outputs": [
    {
     "data": {
      "text/plain": [
       "[('you', 31), ('of', 29), ('to', 22), ('a', 21), ('the', 18), ('i', 17), ('and', 16), ('that', 15), ('it', 14), ('is', 14), ('my', 13), ('in', 12), ('for', 11), ('his', 11), ('be', 11), ('them', 11), ('he', 11), ('mr', 10), ('not', 9), ('will', 9), ('was', 8), ('but', 8), ('so', 8), ('dear', 8), ('as', 8)]"
      ]
     },
     "execution_count": 50,
     "metadata": {},
     "output_type": "execute_result"
    }
   ],
   "source": [
    "# display top 25 unique words with their counts\n",
    "\n",
    "top_words[:25]"
   ]
  },
  {
   "cell_type": "markdown",
   "id": "336833fa-5d50-4782-9657-33532b2af2c4",
   "metadata": {},
   "source": [
    "#### END"
   ]
  },
  {
   "cell_type": "markdown",
   "id": "3292f74a-ceb2-46f5-b227-95bbf2d10a9b",
   "metadata": {},
   "source": [
    "c. Data Wrangling with Python: Activity 3 page 49"
   ]
  },
  {
   "cell_type": "code",
   "execution_count": 19,
   "id": "b36ceb56-be6b-41fd-be47-c5909b97dc2b",
   "metadata": {},
   "outputs": [],
   "source": [
    "#  import permuations and combinations from itertools\n",
    "\n",
    "from itertools import permutations, combinations, dropwhile, repeat"
   ]
  },
  {
   "cell_type": "code",
   "execution_count": 20,
   "id": "a0dfc48b-79dd-4881-bade-750aeb7c38d9",
   "metadata": {},
   "outputs": [
    {
     "data": {
      "text/plain": [
       "\u001b[0;31mInit signature:\u001b[0m \u001b[0mpermutations\u001b[0m\u001b[0;34m(\u001b[0m\u001b[0miterable\u001b[0m\u001b[0;34m,\u001b[0m \u001b[0mr\u001b[0m\u001b[0;34m=\u001b[0m\u001b[0;32mNone\u001b[0m\u001b[0;34m)\u001b[0m\u001b[0;34m\u001b[0m\u001b[0;34m\u001b[0m\u001b[0m\n",
       "\u001b[0;31mDocstring:\u001b[0m     \n",
       "Return successive r-length permutations of elements in the iterable.\n",
       "\n",
       "permutations(range(3), 2) --> (0,1), (0,2), (1,0), (1,2), (2,0), (2,1)\n",
       "\u001b[0;31mType:\u001b[0m           type\n",
       "\u001b[0;31mSubclasses:\u001b[0m     \n"
      ]
     },
     "metadata": {},
     "output_type": "display_data"
    }
   ],
   "source": [
    "# method definitions of -\n",
    "\n",
    "permutations?"
   ]
  },
  {
   "cell_type": "code",
   "execution_count": 21,
   "id": "596a1fa7-21ce-49f4-adee-84b2da3a6d8b",
   "metadata": {},
   "outputs": [
    {
     "data": {
      "text/plain": [
       "\u001b[0;31mInit signature:\u001b[0m \u001b[0mcombinations\u001b[0m\u001b[0;34m(\u001b[0m\u001b[0miterable\u001b[0m\u001b[0;34m,\u001b[0m \u001b[0mr\u001b[0m\u001b[0;34m)\u001b[0m\u001b[0;34m\u001b[0m\u001b[0;34m\u001b[0m\u001b[0m\n",
       "\u001b[0;31mDocstring:\u001b[0m     \n",
       "Return successive r-length combinations of elements in the iterable.\n",
       "\n",
       "combinations(range(4), 3) --> (0,1,2), (0,1,3), (0,2,3), (1,2,3)\n",
       "\u001b[0;31mType:\u001b[0m           type\n",
       "\u001b[0;31mSubclasses:\u001b[0m     \n"
      ]
     },
     "metadata": {},
     "output_type": "display_data"
    }
   ],
   "source": [
    "# method definitions of -\n",
    "\n",
    "combinations?"
   ]
  },
  {
   "cell_type": "code",
   "execution_count": 22,
   "id": "232fcd6f-d28d-43f4-84c2-1e56db099c97",
   "metadata": {},
   "outputs": [
    {
     "data": {
      "text/plain": [
       "\u001b[0;31mInit signature:\u001b[0m \u001b[0mdropwhile\u001b[0m\u001b[0;34m(\u001b[0m\u001b[0mpredicate\u001b[0m\u001b[0;34m,\u001b[0m \u001b[0miterable\u001b[0m\u001b[0;34m,\u001b[0m \u001b[0;34m/\u001b[0m\u001b[0;34m)\u001b[0m\u001b[0;34m\u001b[0m\u001b[0;34m\u001b[0m\u001b[0m\n",
       "\u001b[0;31mDocstring:\u001b[0m     \n",
       "Drop items from the iterable while predicate(item) is true.\n",
       "\n",
       "Afterwards, return every element until the iterable is exhausted.\n",
       "\u001b[0;31mType:\u001b[0m           type\n",
       "\u001b[0;31mSubclasses:\u001b[0m     \n"
      ]
     },
     "metadata": {},
     "output_type": "display_data"
    }
   ],
   "source": [
    "dropwhile?"
   ]
  },
  {
   "cell_type": "code",
   "execution_count": 23,
   "id": "eba59de2-77d2-4691-b6c6-c3afd1882660",
   "metadata": {},
   "outputs": [
    {
     "name": "stdout",
     "output_type": "stream",
     "text": [
      "(0, 1, 2)\n",
      "(0, 2, 1)\n",
      "(1, 0, 2)\n",
      "(1, 2, 0)\n",
      "(2, 0, 1)\n",
      "(2, 1, 0)\n",
      "<class 'itertools.dropwhile'>\n"
     ]
    },
    {
     "data": {
      "text/plain": [
       "[[1, 2], [2, 1], [1, 0, 2], [1, 2, 0], [2, 0, 1], [2, 1, 0]]"
      ]
     },
     "execution_count": 23,
     "metadata": {},
     "output_type": "execute_result"
    }
   ],
   "source": [
    "# generate all possible 3 digit numbers using 0,1,2 and drop 0 from tuples with leading 0 and store as list\n",
    "\n",
    "perm_list = []\n",
    "perm = permutations([0,1,2],3)\n",
    "for i in perm:\n",
    "    assert isinstance(i , tuple), \"Not a tuple\"\n",
    "    print(i)\n",
    "    tup_nozeros = dropwhile(lambda x:x==0,i)\n",
    "    perm_list.append(list(tup_nozeros))\n",
    "\n",
    "print(type(tup_nozeros))\n",
    "perm_list"
   ]
  },
  {
   "cell_type": "code",
   "execution_count": 24,
   "id": "ffac183d-9b7e-4210-b074-c256cc97cbf6",
   "metadata": {},
   "outputs": [],
   "source": [
    "#  function to generate whole number from list of numbers\n",
    "\n",
    "def create_number(num_list):\n",
    "    int_nums = []\n",
    "    for lst in num_list:\n",
    "        string_num_list = [str(n) for n in lst]\n",
    "        str_num =''.join(string_num_list)\n",
    "        int_nums.append(int(str_num))\n",
    "    return int_nums"
   ]
  },
  {
   "cell_type": "code",
   "execution_count": 25,
   "id": "84fdd2b7-81bb-464a-9400-4524c6651466",
   "metadata": {},
   "outputs": [
    {
     "name": "stdout",
     "output_type": "stream",
     "text": [
      " 12:  <class 'int'>\n",
      " 21:  <class 'int'>\n",
      "102:  <class 'int'>\n",
      "120:  <class 'int'>\n",
      "201:  <class 'int'>\n",
      "210:  <class 'int'>\n"
     ]
    }
   ],
   "source": [
    "# generate integers from above list perm_list\n",
    "\n",
    "final_integers = create_number(perm_list)\n",
    "for integer in final_integers:\n",
    "    print(f\"{integer:3}:  {type(integer)}\")"
   ]
  },
  {
   "cell_type": "markdown",
   "id": "540b6832-a4a6-47b4-a1d6-c48d20242524",
   "metadata": {},
   "source": [
    "#### END"
   ]
  },
  {
   "cell_type": "markdown",
   "id": "63be92c6-99c6-4d50-96de-9754498f930e",
   "metadata": {},
   "source": [
    "d. Data Wrangling with Python: Activity 4 page 59"
   ]
  },
  {
   "cell_type": "code",
   "execution_count": 26,
   "id": "e3006bfe-49bb-4288-9041-647ef6a974a4",
   "metadata": {},
   "outputs": [],
   "source": [
    "# import required funcs\n",
    "\n",
    "from itertools import zip_longest"
   ]
  },
  {
   "cell_type": "code",
   "execution_count": 27,
   "id": "3a3c031a-ad63-47cb-a6b2-bcbc7641bda5",
   "metadata": {},
   "outputs": [
    {
     "data": {
      "text/plain": [
       "\u001b[0;31mInit signature:\u001b[0m \u001b[0mzip_longest\u001b[0m\u001b[0;34m(\u001b[0m\u001b[0mself\u001b[0m\u001b[0;34m,\u001b[0m \u001b[0;34m/\u001b[0m\u001b[0;34m,\u001b[0m \u001b[0;34m*\u001b[0m\u001b[0margs\u001b[0m\u001b[0;34m,\u001b[0m \u001b[0;34m**\u001b[0m\u001b[0mkwargs\u001b[0m\u001b[0;34m)\u001b[0m\u001b[0;34m\u001b[0m\u001b[0;34m\u001b[0m\u001b[0m\n",
       "\u001b[0;31mDocstring:\u001b[0m     \n",
       "zip_longest(iter1 [,iter2 [...]], [fillvalue=None]) --> zip_longest object\n",
       "\n",
       "Return a zip_longest object whose .__next__() method returns a tuple where\n",
       "the i-th element comes from the i-th iterable argument.  The .__next__()\n",
       "method continues until the longest iterable in the argument sequence\n",
       "is exhausted and then it raises StopIteration.  When the shorter iterables\n",
       "are exhausted, the fillvalue is substituted in their place.  The fillvalue\n",
       "defaults to None or can be specified by a keyword argument.\n",
       "\u001b[0;31mType:\u001b[0m           type\n",
       "\u001b[0;31mSubclasses:\u001b[0m     \n"
      ]
     },
     "metadata": {},
     "output_type": "display_data"
    }
   ],
   "source": [
    "zip_longest?"
   ]
  },
  {
   "cell_type": "code",
   "execution_count": 28,
   "id": "ed9ff97e-1ca7-45bc-aa91-8e34bb59d5da",
   "metadata": {},
   "outputs": [],
   "source": [
    "# creaet function to creaet dict with values from file, using itertools zip_logest method\n",
    "\n",
    "def csv_reader(header, line, fillvalue=None):\n",
    "    \n",
    "    csv_values = dict(zip_longest(header,line,fillvalue=fillvalue))  # create dictionary of output\n",
    "    return csv_values    "
   ]
  },
  {
   "cell_type": "code",
   "execution_count": 29,
   "id": "95f380a5-1bfd-4b27-8cea-df9d0a307e92",
   "metadata": {
    "tags": []
   },
   "outputs": [
    {
     "name": "stdout",
     "output_type": "stream",
     "text": [
      "{'Region': 'Central America and the Caribbean', 'Country': 'Antigua and Barbuda ', 'Item Type': 'Baby Food', 'Sales Channel': 'Online', 'Order Priority': 'M', 'Order Date': '12/20/2013', 'Order ID': '957081544', 'Ship Date': '1/11/2014', 'Units Sold': '552', 'Unit Price': '255.28', 'Unit Cost': '159.42', 'Total Revenue': '140914.56', 'Total Cost': '87999.84', 'Total Profit': '52914.72'} \n",
      "\n",
      "{'Region': 'Central America and the Caribbean', 'Country': 'Panama', 'Item Type': 'Snacks', 'Sales Channel': 'Offline', 'Order Priority': 'C', 'Order Date': '7/5/2010', 'Order ID': '301644504', 'Ship Date': '7/26/2010', 'Units Sold': '2167', 'Unit Price': '152.58', 'Unit Cost': '97.44', 'Total Revenue': '330640.86', 'Total Cost': '211152.48', 'Total Profit': '119488.38'} \n",
      "\n",
      "{'Region': 'Europe', 'Country': 'Czech Republic', 'Item Type': 'Beverages', 'Sales Channel': 'Offline', 'Order Priority': 'C', 'Order Date': '9/12/2011', 'Order ID': '478051030', 'Ship Date': '9/29/2011', 'Units Sold': '4778', 'Unit Price': '47.45', 'Unit Cost': '31.79', 'Total Revenue': '226716.10', 'Total Cost': '151892.62', 'Total Profit': '74823.48'} \n",
      "\n",
      "{'Region': 'Asia', 'Country': 'North Korea', 'Item Type': 'Cereal', 'Sales Channel': 'Offline', 'Order Priority': 'L', 'Order Date': '5/13/2010', 'Order ID': '892599952', 'Ship Date': '6/15/2010', 'Units Sold': '9016', 'Unit Price': '205.70', 'Unit Cost': '117.11', 'Total Revenue': '1854591.20', 'Total Cost': '1055863.76', 'Total Profit': '798727.44'} \n",
      "\n",
      "{'Region': 'Asia', 'Country': 'Sri Lanka', 'Item Type': 'Snacks', 'Sales Channel': 'Offline', 'Order Priority': 'C', 'Order Date': '7/20/2015', 'Order ID': '571902596', 'Ship Date': '7/27/2015', 'Units Sold': '7542', 'Unit Price': '152.58', 'Unit Cost': '97.44', 'Total Revenue': '1150758.36', 'Total Cost': '734892.48', 'Total Profit': '415865.88'} \n",
      "\n",
      "{'Region': 'Middle East and North Africa', 'Country': 'Morocco', 'Item Type': 'Personal Care', 'Sales Channel': 'Offline', 'Order Priority': 'L', 'Order Date': '11/8/2010', 'Order ID': '412882792', 'Ship Date': '11/22/2010', 'Units Sold': '48', 'Unit Price': '81.73', 'Unit Cost': '56.67', 'Total Revenue': '3923.04', 'Total Cost': '2720.16', 'Total Profit': '1202.88'} \n",
      "\n",
      "{'Region': 'Australia and Oceania', 'Country': 'Federated States of Micronesia', 'Item Type': 'Clothes', 'Sales Channel': 'Offline', 'Order Priority': 'H', 'Order Date': '3/28/2011', 'Order ID': '932776868', 'Ship Date': '5/10/2011', 'Units Sold': '8258', 'Unit Price': '109.28', 'Unit Cost': '35.84', 'Total Revenue': '902434.24', 'Total Cost': '295966.72', 'Total Profit': '606467.52'} \n",
      "\n",
      "{'Region': 'Europe', 'Country': 'Bosnia and Herzegovina', 'Item Type': 'Clothes', 'Sales Channel': 'Online', 'Order Priority': 'M', 'Order Date': '10/14/2013', 'Order ID': '919133651', 'Ship Date': '11/4/2013', 'Units Sold': '927', 'Unit Price': '109.28', 'Unit Cost': '35.84', 'Total Revenue': '101302.56', 'Total Cost': '33223.68', 'Total Profit': '68078.88'} \n",
      "\n",
      "{'Region': 'Middle East and North Africa', 'Country': 'Afghanistan', 'Item Type': 'Clothes', 'Sales Channel': 'Offline', 'Order Priority': 'M', 'Order Date': '8/27/2016', 'Order ID': '579814469', 'Ship Date': '10/5/2016', 'Units Sold': '8841', 'Unit Price': '109.28', 'Unit Cost': '35.84', 'Total Revenue': '966144.48', 'Total Cost': '316861.44', 'Total Profit': '649283.04'} \n",
      "\n",
      "{'Region': 'Sub-Saharan Africa', 'Country': 'Ethiopia', 'Item Type': 'Baby Food', 'Sales Channel': 'Online', 'Order Priority': 'M', 'Order Date': '4/13/2015', 'Order ID': '192993152', 'Ship Date': '5/7/2015', 'Units Sold': '9817', 'Unit Price': '255.28', 'Unit Cost': '159.42', 'Total Revenue': '2506083.76', 'Total Cost': '1565026.14', 'Total Profit': '941057.62'} \n",
      "\n",
      "{'Region': 'Middle East and North Africa', 'Country': 'Turkey', 'Item Type': 'Office Supplies', 'Sales Channel': 'Offline', 'Order Priority': 'C', 'Order Date': '9/25/2013', 'Order ID': '557156026', 'Ship Date': '10/15/2013', 'Units Sold': '3704', 'Unit Price': '651.21', 'Unit Cost': '524.96', 'Total Revenue': '2412081.84', 'Total Cost': '1944451.84', 'Total Profit': '467630.00'} \n",
      "\n",
      "{'Region': 'Middle East and North Africa', 'Country': 'Oman', 'Item Type': 'Cosmetics', 'Sales Channel': 'Online', 'Order Priority': 'M', 'Order Date': '5/12/2013', 'Order ID': '741101920', 'Ship Date': '5/17/2013', 'Units Sold': '7382', 'Unit Price': '437.20', 'Unit Cost': '263.33', 'Total Revenue': '3227410.40', 'Total Cost': '1943902.06', 'Total Profit': '1283508.34'} \n",
      "\n",
      "{'Region': 'Asia', 'Country': 'Malaysia', 'Item Type': 'Cereal', 'Sales Channel': 'Offline', 'Order Priority': 'L', 'Order Date': '7/31/2016', 'Order ID': '333942162', 'Ship Date': '8/25/2016', 'Units Sold': '9762', 'Unit Price': '205.70', 'Unit Cost': '117.11', 'Total Revenue': '2008043.40', 'Total Cost': '1143227.82', 'Total Profit': '864815.58'} \n",
      "\n",
      "{'Region': 'Central America and the Caribbean', 'Country': 'Saint Lucia', 'Item Type': 'Cosmetics', 'Sales Channel': 'Offline', 'Order Priority': 'H', 'Order Date': '7/6/2015', 'Order ID': '795100581', 'Ship Date': '7/16/2015', 'Units Sold': '6786', 'Unit Price': '437.20', 'Unit Cost': '263.33', 'Total Revenue': '2966839.20', 'Total Cost': '1786957.38', 'Total Profit': '1179881.82'} \n",
      "\n",
      "{'Region': 'Central America and the Caribbean', 'Country': 'Saint Vincent and the Grenadines', 'Item Type': 'Baby Food', 'Sales Channel': 'Online', 'Order Priority': 'L', 'Order Date': '11/28/2010', 'Order ID': '504313504', 'Ship Date': '12/3/2010', 'Units Sold': '6428', 'Unit Price': '255.28', 'Unit Cost': '159.42', 'Total Revenue': '1640939.84', 'Total Cost': '1024751.76', 'Total Profit': '616188.08'} \n",
      "\n",
      "{'Region': 'Middle East and North Africa', 'Country': 'Lebanon', 'Item Type': 'Meat', 'Sales Channel': 'Offline', 'Order Priority': 'H', 'Order Date': '12/17/2015', 'Order ID': '611629760', 'Ship Date': '1/31/2016', 'Units Sold': '3693', 'Unit Price': '421.89', 'Unit Cost': '364.69', 'Total Revenue': '1558039.77', 'Total Cost': '1346800.17', 'Total Profit': '211239.60'} \n",
      "\n",
      "{'Region': 'Europe', 'Country': 'Austria', 'Item Type': 'Cereal', 'Sales Channel': 'Offline', 'Order Priority': 'C', 'Order Date': '8/13/2014', 'Order ID': '987410676', 'Ship Date': '9/6/2014', 'Units Sold': '5616', 'Unit Price': '205.70', 'Unit Cost': '117.11', 'Total Revenue': '1155211.20', 'Total Cost': '657689.76', 'Total Profit': '497521.44'} \n",
      "\n"
     ]
    }
   ],
   "source": [
    "# open the sales_record file and add values in dictionary and print top 15 lines\n",
    "\n",
    "file_path_sales = \"/Users/ganeshkale/work/dsc540_data_prep/Data/sales_record.csv\"\n",
    "\n",
    "with open(file_path_sales,'r') as file:\n",
    "    first_line = file.readline()\n",
    "    col_names = first_line.strip().split(',')\n",
    "    for idx,line in enumerate(file):\n",
    "        csv_val_dict = csv_reader(col_names,line.strip().split(','))   # call function and add csv values to dict keys\n",
    "        print(csv_val_dict,'\\n')\n",
    "        if idx>15:                                                     # print first 15 lines\n",
    "            break"
   ]
  },
  {
   "cell_type": "markdown",
   "id": "5a077ba0-4a08-43e0-bfe8-981e0b6ff1f9",
   "metadata": {},
   "source": [
    "# END"
   ]
  }
 ],
 "metadata": {
  "kernelspec": {
   "display_name": "Python 3",
   "language": "python",
   "name": "python3"
  },
  "language_info": {
   "codemirror_mode": {
    "name": "ipython",
    "version": 3
   },
   "file_extension": ".py",
   "mimetype": "text/x-python",
   "name": "python",
   "nbconvert_exporter": "python",
   "pygments_lexer": "ipython3",
   "version": "3.8.2"
  }
 },
 "nbformat": 4,
 "nbformat_minor": 5
}
