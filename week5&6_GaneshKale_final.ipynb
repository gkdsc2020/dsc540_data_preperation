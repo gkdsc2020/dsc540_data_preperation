{
 "cells": [
  {
   "cell_type": "markdown",
   "id": "6f1397ff-35b1-482e-b9d3-514edaf88bc8",
   "metadata": {},
   "source": [
    "## Author# Ganesh Kale\n",
    "## Week# 5 & 6\n",
    "## Date# Oct 01, 2021"
   ]
  },
  {
   "cell_type": "markdown",
   "id": "31d6d0c5-9e18-4fa5-b8d0-fa028067fc77",
   "metadata": {},
   "source": [
    "#### _import required packages_"
   ]
  },
  {
   "cell_type": "code",
   "execution_count": 1,
   "id": "c30a698e-25f2-4c80-95b4-c031e1066268",
   "metadata": {},
   "outputs": [],
   "source": [
    "import numpy as np  # for numeric operations\n",
    "import pandas as pd  # for data manipulation\n",
    "import matplotlib.pyplot as plt  # for data visualization\n",
    "import seaborn as sns  # for data visualization\n",
    "import random   # for generating random numbers\n",
    "\n",
    "from IPython.core.interactiveshell import InteractiveShell\n",
    "InteractiveShell.ast_node_interactivity = 'all'\n",
    "\n",
    "# import packages required for webscraping\n",
    "\n",
    "import requests\n",
    "from bs4 import BeautifulSoup"
   ]
  },
  {
   "cell_type": "markdown",
   "id": "75ead07d-2a1a-4a20-9488-334926e9ad50",
   "metadata": {},
   "source": [
    "### Exercise - 1"
   ]
  },
  {
   "cell_type": "markdown",
   "id": "e16da23f-ab35-47fb-bab0-0ad622d3a380",
   "metadata": {},
   "source": [
    "### Extract table from html page"
   ]
  },
  {
   "cell_type": "code",
   "execution_count": 2,
   "id": "9034b102-6994-4ece-9053-c33626f24a01",
   "metadata": {},
   "outputs": [],
   "source": [
    "# html page path\n",
    "\n",
    "page_path = \"/Users/ganeshkale/work/dsc540_data_prep/Data/wikipedia_gdp.html\"\n",
    "\n",
    "# open the html page\n",
    "\n",
    "with open(page_path, 'r') as fh:\n",
    "    \n",
    "    soup = BeautifulSoup(fh)   # create bs4 instance by passing filehandler\n",
    "    \n",
    "    tables = soup.find_all('table')     # find all the tables   "
   ]
  },
  {
   "cell_type": "code",
   "execution_count": 3,
   "id": "e340526c-043c-42de-946e-574c4c259786",
   "metadata": {},
   "outputs": [
    {
     "name": "stdout",
     "output_type": "stream",
     "text": [
      "9\n"
     ]
    }
   ],
   "source": [
    "# total table in html page\n",
    "\n",
    "print(len(tables))"
   ]
  },
  {
   "cell_type": "code",
   "execution_count": 4,
   "id": "5f083805-270e-4c04-b2fc-66c15ae57b48",
   "metadata": {},
   "outputs": [],
   "source": [
    "# get the appropriate table from all tables using class\n",
    "\n",
    "wiki_table = soup.find('table', attrs={'class':'\"wikitable\"|}'})"
   ]
  },
  {
   "cell_type": "code",
   "execution_count": 5,
   "id": "b6fcef06-97ff-41c7-a7ca-91ed4aa67c77",
   "metadata": {},
   "outputs": [],
   "source": [
    "# get all the rows under table element\n",
    "\n",
    "all_rows = wiki_table.tbody.findAll('tr')"
   ]
  },
  {
   "cell_type": "code",
   "execution_count": 6,
   "id": "be0e739d-4b65-403f-a9e1-b322eb1dfcb3",
   "metadata": {},
   "outputs": [
    {
     "data": {
      "text/plain": [
       "['International Monetary Fund', 'World Bank', 'United Nations']"
      ]
     },
     "execution_count": 6,
     "metadata": {},
     "output_type": "execute_result"
    }
   ],
   "source": [
    "# get the sources names \n",
    "\n",
    "sources_list = []\n",
    "\n",
    "for td in all_rows[0].findAll('td'):    # all_rows - contains sources row and actual table rows, here we get sources row at 0 index\n",
    "    sources_list.append(td.find('a').getText())      # find tag a and get text as source\n",
    "    \n",
    "# display the sources names\n",
    "sources_list"
   ]
  },
  {
   "cell_type": "code",
   "execution_count": 7,
   "id": "80df0962-1ca7-40f9-929f-ccf1eb569dc1",
   "metadata": {
    "tags": []
   },
   "outputs": [],
   "source": [
    "# get data and headers for each sources and store in dict\n",
    "\n",
    "data_tables = {}\n",
    "headers = {}\n",
    "\n",
    "count = 0\n",
    "for table in all_rows[1].findAll('table'):     # get the table details \n",
    "    temph = []\n",
    "    tempd = []\n",
    "    for head in table.find('thead').findAll('th'):     # find head and header for each table\n",
    "        temph.append(head.getText().strip())            # strip header new line char and store in list \n",
    "    headers['head'+str(count)] = temph                  # store each table header in dict as list\n",
    "    \n",
    "    for row in table.tbody.find_all('tr'):            # get table rows for each table\n",
    "        tempd.append([td.getText().strip() for td in row.find_all('td')])      # store data for each table in temp list\n",
    "    data_tables['table'+str(count)] = tempd           # store data as list\n",
    "    count+=1"
   ]
  },
  {
   "cell_type": "code",
   "execution_count": 8,
   "id": "44c6ecd3-61a2-419a-9c7b-c72197e19d85",
   "metadata": {},
   "outputs": [
    {
     "data": {
      "text/plain": [
       "{'head0': ['Rank', 'Country', 'GDP(US$MM)'],\n",
       " 'head1': ['Rank', 'Country', 'GDP(US$MM)'],\n",
       " 'head2': ['Rank', 'Country', 'GDP(US$MM)']}"
      ]
     },
     "execution_count": 8,
     "metadata": {},
     "output_type": "execute_result"
    }
   ],
   "source": [
    "# display headers of table\n",
    "\n",
    "headers"
   ]
  },
  {
   "cell_type": "code",
   "execution_count": 9,
   "id": "b74d7ff9-a48f-4164-8a7f-d9edb97b0805",
   "metadata": {},
   "outputs": [
    {
     "name": "stdout",
     "output_type": "stream",
     "text": [
      "\n",
      " Top 5 rows for table table0\n"
     ]
    },
    {
     "data": {
      "text/plain": [
       "[['', 'World[19]', '79,865,481'],\n",
       " ['1', 'United States', '19,390,600'],\n",
       " ['2', 'China[n 1]', '12,014,610'],\n",
       " ['3', 'Japan', '4,872,135'],\n",
       " ['4', 'Germany', '3,684,816']]"
      ]
     },
     "execution_count": 9,
     "metadata": {},
     "output_type": "execute_result"
    },
    {
     "name": "stdout",
     "output_type": "stream",
     "text": [
      "\n",
      " Top 5 rows for table table1\n"
     ]
    },
    {
     "data": {
      "text/plain": [
       "[['', 'World', '7007806837870000000♠80,683,787'],\n",
       " ['1', 'United States', '7007193906040000000♠19,390,604'],\n",
       " ['', 'European Union[23]', '7007172776980000000♠17,277,698'],\n",
       " ['2', 'China[n 4]', '7007122377000000000♠12,237,700'],\n",
       " ['3', 'Japan', '7006487213700000000♠4,872,137']]"
      ]
     },
     "execution_count": 9,
     "metadata": {},
     "output_type": "execute_result"
    },
    {
     "name": "stdout",
     "output_type": "stream",
     "text": [
      "\n",
      " Top 5 rows for table table2\n"
     ]
    },
    {
     "data": {
      "text/plain": [
       "[['', 'World[24]', '7007756484480000000♠75,648,448'],\n",
       " ['1', 'United States', '7007186244750000000♠18,624,475'],\n",
       " ['2', 'China[n 4]', '7007112182810000000♠11,218,281'],\n",
       " ['3', 'Japan', '7006493621100000000♠4,936,211'],\n",
       " ['4', 'Germany', '7006347779600000000♠3,477,796']]"
      ]
     },
     "execution_count": 9,
     "metadata": {},
     "output_type": "execute_result"
    }
   ],
   "source": [
    "# display data for each table - few rows\n",
    "\n",
    "for idx, data in data_tables.items():\n",
    "    print(\"\\n Top 5 rows for table\",idx)\n",
    "    data[:5]"
   ]
  },
  {
   "cell_type": "code",
   "execution_count": 10,
   "id": "f9ced058-2fb7-4763-98db-1375ba97bf6b",
   "metadata": {},
   "outputs": [],
   "source": [
    "# for table 2 and 3 we see GDP value is not correct and need to be cleaned\n",
    "\n",
    "cleaned_data_tables = {}\n",
    "\n",
    "for idx, data in data_tables.items():\n",
    "    if idx != 'table0':\n",
    "        temp = []\n",
    "        for item in data:\n",
    "            gdp_val = item[2].split('♠')[1]\n",
    "            temp.append(item[:2]+[gdp_val])\n",
    "        cleaned_data_tables[idx] = temp\n",
    "    else:\n",
    "        cleaned_data_tables[idx] = data"
   ]
  },
  {
   "cell_type": "code",
   "execution_count": 11,
   "id": "50350f0f-1f6f-47f7-a685-4ca815807588",
   "metadata": {
    "tags": []
   },
   "outputs": [
    {
     "name": "stdout",
     "output_type": "stream",
     "text": [
      "\n",
      " Top 5 rows for table table0\n"
     ]
    },
    {
     "data": {
      "text/plain": [
       "[['', 'World[19]', '79,865,481'],\n",
       " ['1', 'United States', '19,390,600'],\n",
       " ['2', 'China[n 1]', '12,014,610'],\n",
       " ['3', 'Japan', '4,872,135'],\n",
       " ['4', 'Germany', '3,684,816']]"
      ]
     },
     "execution_count": 11,
     "metadata": {},
     "output_type": "execute_result"
    },
    {
     "name": "stdout",
     "output_type": "stream",
     "text": [
      "\n",
      " Top 5 rows for table table1\n"
     ]
    },
    {
     "data": {
      "text/plain": [
       "[['', 'World', '80,683,787'],\n",
       " ['1', 'United States', '19,390,604'],\n",
       " ['', 'European Union[23]', '17,277,698'],\n",
       " ['2', 'China[n 4]', '12,237,700'],\n",
       " ['3', 'Japan', '4,872,137']]"
      ]
     },
     "execution_count": 11,
     "metadata": {},
     "output_type": "execute_result"
    },
    {
     "name": "stdout",
     "output_type": "stream",
     "text": [
      "\n",
      " Top 5 rows for table table2\n"
     ]
    },
    {
     "data": {
      "text/plain": [
       "[['', 'World[24]', '75,648,448'],\n",
       " ['1', 'United States', '18,624,475'],\n",
       " ['2', 'China[n 4]', '11,218,281'],\n",
       " ['3', 'Japan', '4,936,211'],\n",
       " ['4', 'Germany', '3,477,796']]"
      ]
     },
     "execution_count": 11,
     "metadata": {},
     "output_type": "execute_result"
    }
   ],
   "source": [
    "# display data for each table - few rows\n",
    "\n",
    "for idx, data in cleaned_data_tables.items():\n",
    "    print(\"\\n Top 5 rows for table\",idx)\n",
    "    data[:5]"
   ]
  },
  {
   "cell_type": "code",
   "execution_count": 12,
   "id": "1801b1c8-bc1e-4ee4-a97f-5e5bdf60d95e",
   "metadata": {},
   "outputs": [
    {
     "name": "stdout",
     "output_type": "stream",
     "text": [
      "The GDP Data Table for Source:  International Monetary Fund\n",
      "************************************************************ \n",
      "\n"
     ]
    },
    {
     "data": {
      "text/html": [
       "<div>\n",
       "<style scoped>\n",
       "    .dataframe tbody tr th:only-of-type {\n",
       "        vertical-align: middle;\n",
       "    }\n",
       "\n",
       "    .dataframe tbody tr th {\n",
       "        vertical-align: top;\n",
       "    }\n",
       "\n",
       "    .dataframe thead th {\n",
       "        text-align: right;\n",
       "    }\n",
       "</style>\n",
       "<table border=\"1\" class=\"dataframe\">\n",
       "  <thead>\n",
       "    <tr style=\"text-align: right;\">\n",
       "      <th></th>\n",
       "      <th>Rank</th>\n",
       "      <th>Country</th>\n",
       "      <th>GDP(US$MM)</th>\n",
       "    </tr>\n",
       "  </thead>\n",
       "  <tbody>\n",
       "    <tr>\n",
       "      <th>0</th>\n",
       "      <td></td>\n",
       "      <td>World[19]</td>\n",
       "      <td>79,865,481</td>\n",
       "    </tr>\n",
       "    <tr>\n",
       "      <th>1</th>\n",
       "      <td>1</td>\n",
       "      <td>United States</td>\n",
       "      <td>19,390,600</td>\n",
       "    </tr>\n",
       "    <tr>\n",
       "      <th>2</th>\n",
       "      <td>2</td>\n",
       "      <td>China[n 1]</td>\n",
       "      <td>12,014,610</td>\n",
       "    </tr>\n",
       "    <tr>\n",
       "      <th>3</th>\n",
       "      <td>3</td>\n",
       "      <td>Japan</td>\n",
       "      <td>4,872,135</td>\n",
       "    </tr>\n",
       "    <tr>\n",
       "      <th>4</th>\n",
       "      <td>4</td>\n",
       "      <td>Germany</td>\n",
       "      <td>3,684,816</td>\n",
       "    </tr>\n",
       "  </tbody>\n",
       "</table>\n",
       "</div>"
      ],
      "text/plain": [
       "  Rank        Country  GDP(US$MM)\n",
       "0           World[19]  79,865,481\n",
       "1    1  United States  19,390,600\n",
       "2    2     China[n 1]  12,014,610\n",
       "3    3          Japan   4,872,135\n",
       "4    4        Germany   3,684,816"
      ]
     },
     "execution_count": 12,
     "metadata": {},
     "output_type": "execute_result"
    },
    {
     "name": "stdout",
     "output_type": "stream",
     "text": [
      "The GDP Data Table for Source:  World Bank\n",
      "************************************************************ \n",
      "\n"
     ]
    },
    {
     "data": {
      "text/html": [
       "<div>\n",
       "<style scoped>\n",
       "    .dataframe tbody tr th:only-of-type {\n",
       "        vertical-align: middle;\n",
       "    }\n",
       "\n",
       "    .dataframe tbody tr th {\n",
       "        vertical-align: top;\n",
       "    }\n",
       "\n",
       "    .dataframe thead th {\n",
       "        text-align: right;\n",
       "    }\n",
       "</style>\n",
       "<table border=\"1\" class=\"dataframe\">\n",
       "  <thead>\n",
       "    <tr style=\"text-align: right;\">\n",
       "      <th></th>\n",
       "      <th>Rank</th>\n",
       "      <th>Country</th>\n",
       "      <th>GDP(US$MM)</th>\n",
       "    </tr>\n",
       "  </thead>\n",
       "  <tbody>\n",
       "    <tr>\n",
       "      <th>0</th>\n",
       "      <td></td>\n",
       "      <td>World</td>\n",
       "      <td>80,683,787</td>\n",
       "    </tr>\n",
       "    <tr>\n",
       "      <th>1</th>\n",
       "      <td>1</td>\n",
       "      <td>United States</td>\n",
       "      <td>19,390,604</td>\n",
       "    </tr>\n",
       "    <tr>\n",
       "      <th>2</th>\n",
       "      <td></td>\n",
       "      <td>European Union[23]</td>\n",
       "      <td>17,277,698</td>\n",
       "    </tr>\n",
       "    <tr>\n",
       "      <th>3</th>\n",
       "      <td>2</td>\n",
       "      <td>China[n 4]</td>\n",
       "      <td>12,237,700</td>\n",
       "    </tr>\n",
       "    <tr>\n",
       "      <th>4</th>\n",
       "      <td>3</td>\n",
       "      <td>Japan</td>\n",
       "      <td>4,872,137</td>\n",
       "    </tr>\n",
       "  </tbody>\n",
       "</table>\n",
       "</div>"
      ],
      "text/plain": [
       "  Rank             Country  GDP(US$MM)\n",
       "0                    World  80,683,787\n",
       "1    1       United States  19,390,604\n",
       "2       European Union[23]  17,277,698\n",
       "3    2          China[n 4]  12,237,700\n",
       "4    3               Japan   4,872,137"
      ]
     },
     "execution_count": 12,
     "metadata": {},
     "output_type": "execute_result"
    },
    {
     "name": "stdout",
     "output_type": "stream",
     "text": [
      "The GDP Data Table for Source:  United Nations\n",
      "************************************************************ \n",
      "\n"
     ]
    },
    {
     "data": {
      "text/html": [
       "<div>\n",
       "<style scoped>\n",
       "    .dataframe tbody tr th:only-of-type {\n",
       "        vertical-align: middle;\n",
       "    }\n",
       "\n",
       "    .dataframe tbody tr th {\n",
       "        vertical-align: top;\n",
       "    }\n",
       "\n",
       "    .dataframe thead th {\n",
       "        text-align: right;\n",
       "    }\n",
       "</style>\n",
       "<table border=\"1\" class=\"dataframe\">\n",
       "  <thead>\n",
       "    <tr style=\"text-align: right;\">\n",
       "      <th></th>\n",
       "      <th>Rank</th>\n",
       "      <th>Country</th>\n",
       "      <th>GDP(US$MM)</th>\n",
       "    </tr>\n",
       "  </thead>\n",
       "  <tbody>\n",
       "    <tr>\n",
       "      <th>0</th>\n",
       "      <td></td>\n",
       "      <td>World[24]</td>\n",
       "      <td>75,648,448</td>\n",
       "    </tr>\n",
       "    <tr>\n",
       "      <th>1</th>\n",
       "      <td>1</td>\n",
       "      <td>United States</td>\n",
       "      <td>18,624,475</td>\n",
       "    </tr>\n",
       "    <tr>\n",
       "      <th>2</th>\n",
       "      <td>2</td>\n",
       "      <td>China[n 4]</td>\n",
       "      <td>11,218,281</td>\n",
       "    </tr>\n",
       "    <tr>\n",
       "      <th>3</th>\n",
       "      <td>3</td>\n",
       "      <td>Japan</td>\n",
       "      <td>4,936,211</td>\n",
       "    </tr>\n",
       "    <tr>\n",
       "      <th>4</th>\n",
       "      <td>4</td>\n",
       "      <td>Germany</td>\n",
       "      <td>3,477,796</td>\n",
       "    </tr>\n",
       "  </tbody>\n",
       "</table>\n",
       "</div>"
      ],
      "text/plain": [
       "  Rank        Country  GDP(US$MM)\n",
       "0           World[24]  75,648,448\n",
       "1    1  United States  18,624,475\n",
       "2    2     China[n 4]  11,218,281\n",
       "3    3          Japan   4,936,211\n",
       "4    4        Germany   3,477,796"
      ]
     },
     "execution_count": 12,
     "metadata": {},
     "output_type": "execute_result"
    }
   ],
   "source": [
    "# create dataframe for each source data\n",
    "\n",
    "all_dfs = []   # store all three dfs\n",
    "\n",
    "for i in range(3):\n",
    "    print('The GDP Data Table for Source: ',sources_list[i])\n",
    "    print('*'*60, '\\n')\n",
    "    df = pd.DataFrame(data = cleaned_data_tables['table'+str(i)], columns=headers['head'+str(i)])\n",
    "    all_dfs.append(df)\n",
    "    df.head()"
   ]
  },
  {
   "cell_type": "markdown",
   "id": "520913f1-0c4e-45eb-bd2d-70d473276ec7",
   "metadata": {},
   "source": [
    "### END"
   ]
  },
  {
   "cell_type": "markdown",
   "id": "0d2af24d-a7f5-4236-a0d1-df8debb28c06",
   "metadata": {},
   "source": [
    "# Extract Table from webpage  - This was done by opening given link and scraping website tabular data"
   ]
  },
  {
   "cell_type": "code",
   "execution_count": 13,
   "id": "bed6b606-e53e-491e-9625-7eb95a34ddc3",
   "metadata": {},
   "outputs": [],
   "source": [
    "# store the webpage link for table to download in variable\n",
    "\n",
    "url =  \"https://en.wikipedia.org/wiki/List_of_countries_by_GDP_(nominal)\"\n",
    "\n",
    "page = requests.get(url)      # access the web page"
   ]
  },
  {
   "cell_type": "code",
   "execution_count": 14,
   "id": "e47722d7-cc15-469a-a70e-32c6d81d9cc0",
   "metadata": {},
   "outputs": [],
   "source": [
    "# save the page object in soup object\n",
    "\n",
    "soup = BeautifulSoup(page.text, 'lxml')"
   ]
  },
  {
   "cell_type": "code",
   "execution_count": 15,
   "id": "a45abc10-c6bd-46df-9796-c9fb8e4dde35",
   "metadata": {
    "tags": []
   },
   "outputs": [],
   "source": [
    "# find the table in the soup object\n",
    "\n",
    "table = soup.find('table', attrs={'class':'wikitable'})\n"
   ]
  },
  {
   "cell_type": "code",
   "execution_count": 16,
   "id": "3ba4010a-26f7-4409-a3c6-6ec5e1a08046",
   "metadata": {},
   "outputs": [],
   "source": [
    "# get all the rows under table element\n",
    "\n",
    "table_rows = table.tbody.find_all('tr')"
   ]
  },
  {
   "cell_type": "code",
   "execution_count": 18,
   "id": "d36bf1d5-d8b1-4936-bf81-27cb6a968239",
   "metadata": {},
   "outputs": [],
   "source": [
    "# store main headers in the list\n",
    "\n",
    "main_headers = table_rows[0]\n",
    "\n",
    "# find all the headers from main_headers and remove new line chars and store in list\n",
    "\n",
    "main_headers_names = [head.get_text().strip() for head in main_headers.findAll('th')]"
   ]
  },
  {
   "cell_type": "code",
   "execution_count": 19,
   "id": "9d697041-e734-43e3-9ed2-9f6d789489f2",
   "metadata": {},
   "outputs": [
    {
     "data": {
      "text/plain": [
       "['Country or territory', 'Region', 'IMF[1]', 'UN[12]', 'World Bank[13]']"
      ]
     },
     "execution_count": 19,
     "metadata": {},
     "output_type": "execute_result"
    }
   ],
   "source": [
    "# display main headers\n",
    "\n",
    "main_headers_names"
   ]
  },
  {
   "cell_type": "code",
   "execution_count": 21,
   "id": "c4d098a0-0737-4cf5-a13a-12ede804f645",
   "metadata": {},
   "outputs": [],
   "source": [
    "# store sub headers in the list\n",
    "\n",
    "sub_headers = table_rows[1]\n",
    "\n",
    "# find all the headers from main_headers and remove new line chars and store in list\n",
    "\n",
    "sub_headers_names = [head.get_text().strip() for head in sub_headers.findAll('th')]"
   ]
  },
  {
   "cell_type": "code",
   "execution_count": 22,
   "id": "7a36559e-9443-45cb-a079-39b03f849d93",
   "metadata": {},
   "outputs": [
    {
     "data": {
      "text/plain": [
       "['Estimate', 'Year', 'Estimate', 'Year', 'Estimate', 'Year']"
      ]
     },
     "execution_count": 22,
     "metadata": {},
     "output_type": "execute_result"
    }
   ],
   "source": [
    "# display sub headers\n",
    "\n",
    "sub_headers_names"
   ]
  },
  {
   "cell_type": "code",
   "execution_count": 23,
   "id": "91e263ca-9c24-4bf9-8817-7a9c40561a23",
   "metadata": {},
   "outputs": [],
   "source": [
    "# find all the data from each row excpet top 2\n",
    "\n",
    "data = table_rows[3:]\n",
    "\n",
    "# using list comprehension get data from each rows for each column and store in nested list\n",
    "\n",
    "rows = [[td.get_text().strip().encode(\"ascii\", \"ignore\").decode().replace('*','') for td in tr.find_all('td')] for tr in data]"
   ]
  },
  {
   "cell_type": "code",
   "execution_count": 24,
   "id": "2127c6dd-b6ed-4ae2-b7d5-02f8181ece2a",
   "metadata": {
    "tags": []
   },
   "outputs": [
    {
     "data": {
      "text/plain": [
       "[['China',\n",
       "  'Asia',\n",
       "  '16,642,318',\n",
       "  '[n 2]2021',\n",
       "  '14,342,933',\n",
       "  '[n 3]2020',\n",
       "  '14,722,731',\n",
       "  '2020'],\n",
       " ['Japan',\n",
       "  'Asia',\n",
       "  '5,378,136',\n",
       "  '2021',\n",
       "  '5,082,465',\n",
       "  '2020',\n",
       "  '5,064,873',\n",
       "  '2019'],\n",
       " ['Germany',\n",
       "  'Europe',\n",
       "  '4,319,286',\n",
       "  '2021',\n",
       "  '3,861,123',\n",
       "  '2020',\n",
       "  '3,806,060',\n",
       "  '2020'],\n",
       " ['United Kingdom',\n",
       "  'Europe',\n",
       "  '3,124,650',\n",
       "  '2021',\n",
       "  '2,826,441',\n",
       "  '2020',\n",
       "  '2,707,744',\n",
       "  '2020']]"
      ]
     },
     "execution_count": 24,
     "metadata": {},
     "output_type": "execute_result"
    }
   ],
   "source": [
    "# display top 4 data from rows nested list\n",
    "\n",
    "rows[:4]"
   ]
  },
  {
   "cell_type": "code",
   "execution_count": 25,
   "id": "5ce3cb9e-b3f0-4720-99a2-a16d759357a2",
   "metadata": {},
   "outputs": [
    {
     "data": {
      "text/plain": [
       "['Country or territory',\n",
       " 'Region',\n",
       " 'IMF[1]-Estimate',\n",
       " 'IMF[1]-Year',\n",
       " 'UN[12]-Estimate',\n",
       " 'UN[12]-Year',\n",
       " 'World Bank[13]-Estimate',\n",
       " 'World Bank[13]-Year']"
      ]
     },
     "execution_count": 25,
     "metadata": {},
     "output_type": "execute_result"
    }
   ],
   "source": [
    "# create one header by clubing main and sub header \n",
    "\n",
    "headers = []\n",
    "\n",
    "for head in main_headers_names[2:]:\n",
    "    for item in ['Estimate', 'Year']:\n",
    "        new_col = head+'-'+item\n",
    "        headers.append(new_col)\n",
    "\n",
    "# dislplay final headers by adding new headers to main headers\n",
    "\n",
    "final_headers = main_headers_names[:2]+headers\n",
    "final_headers"
   ]
  },
  {
   "cell_type": "code",
   "execution_count": 26,
   "id": "6ee1ef0d-9e6c-4376-85ff-4de0da3829c5",
   "metadata": {},
   "outputs": [],
   "source": [
    "# save retrieved data in dataframe\n",
    "\n",
    "gdp = pd.DataFrame(data=rows, columns=final_headers)"
   ]
  },
  {
   "cell_type": "code",
   "execution_count": 27,
   "id": "d1fbbfaa-2f1b-485f-9b0f-2d4e1a35784e",
   "metadata": {},
   "outputs": [
    {
     "data": {
      "text/plain": [
       "(212, 8)"
      ]
     },
     "execution_count": 27,
     "metadata": {},
     "output_type": "execute_result"
    },
    {
     "data": {
      "text/html": [
       "<div>\n",
       "<style scoped>\n",
       "    .dataframe tbody tr th:only-of-type {\n",
       "        vertical-align: middle;\n",
       "    }\n",
       "\n",
       "    .dataframe tbody tr th {\n",
       "        vertical-align: top;\n",
       "    }\n",
       "\n",
       "    .dataframe thead th {\n",
       "        text-align: right;\n",
       "    }\n",
       "</style>\n",
       "<table border=\"1\" class=\"dataframe\">\n",
       "  <thead>\n",
       "    <tr style=\"text-align: right;\">\n",
       "      <th></th>\n",
       "      <th>Country or territory</th>\n",
       "      <th>Region</th>\n",
       "      <th>IMF[1]-Estimate</th>\n",
       "      <th>IMF[1]-Year</th>\n",
       "      <th>UN[12]-Estimate</th>\n",
       "      <th>UN[12]-Year</th>\n",
       "      <th>World Bank[13]-Estimate</th>\n",
       "      <th>World Bank[13]-Year</th>\n",
       "    </tr>\n",
       "  </thead>\n",
       "  <tbody>\n",
       "    <tr>\n",
       "      <th>0</th>\n",
       "      <td>China</td>\n",
       "      <td>Asia</td>\n",
       "      <td>16,642,318</td>\n",
       "      <td>[n 2]2021</td>\n",
       "      <td>14,342,933</td>\n",
       "      <td>[n 3]2020</td>\n",
       "      <td>14,722,731</td>\n",
       "      <td>2020</td>\n",
       "    </tr>\n",
       "    <tr>\n",
       "      <th>1</th>\n",
       "      <td>Japan</td>\n",
       "      <td>Asia</td>\n",
       "      <td>5,378,136</td>\n",
       "      <td>2021</td>\n",
       "      <td>5,082,465</td>\n",
       "      <td>2020</td>\n",
       "      <td>5,064,873</td>\n",
       "      <td>2019</td>\n",
       "    </tr>\n",
       "    <tr>\n",
       "      <th>2</th>\n",
       "      <td>Germany</td>\n",
       "      <td>Europe</td>\n",
       "      <td>4,319,286</td>\n",
       "      <td>2021</td>\n",
       "      <td>3,861,123</td>\n",
       "      <td>2020</td>\n",
       "      <td>3,806,060</td>\n",
       "      <td>2020</td>\n",
       "    </tr>\n",
       "    <tr>\n",
       "      <th>3</th>\n",
       "      <td>United Kingdom</td>\n",
       "      <td>Europe</td>\n",
       "      <td>3,124,650</td>\n",
       "      <td>2021</td>\n",
       "      <td>2,826,441</td>\n",
       "      <td>2020</td>\n",
       "      <td>2,707,744</td>\n",
       "      <td>2020</td>\n",
       "    </tr>\n",
       "    <tr>\n",
       "      <th>4</th>\n",
       "      <td>India</td>\n",
       "      <td>Asia</td>\n",
       "      <td>3,049,704</td>\n",
       "      <td>2021</td>\n",
       "      <td>2,891,582</td>\n",
       "      <td>2020</td>\n",
       "      <td>2,622,984</td>\n",
       "      <td>2020</td>\n",
       "    </tr>\n",
       "  </tbody>\n",
       "</table>\n",
       "</div>"
      ],
      "text/plain": [
       "  Country or territory  Region IMF[1]-Estimate IMF[1]-Year UN[12]-Estimate  \\\n",
       "0                China    Asia      16,642,318   [n 2]2021      14,342,933   \n",
       "1                Japan    Asia       5,378,136        2021       5,082,465   \n",
       "2              Germany  Europe       4,319,286        2021       3,861,123   \n",
       "3       United Kingdom  Europe       3,124,650        2021       2,826,441   \n",
       "4                India    Asia       3,049,704        2021       2,891,582   \n",
       "\n",
       "  UN[12]-Year World Bank[13]-Estimate World Bank[13]-Year  \n",
       "0   [n 3]2020              14,722,731                2020  \n",
       "1        2020               5,064,873                2019  \n",
       "2        2020               3,806,060                2020  \n",
       "3        2020               2,707,744                2020  \n",
       "4        2020               2,622,984                2020  "
      ]
     },
     "execution_count": 27,
     "metadata": {},
     "output_type": "execute_result"
    }
   ],
   "source": [
    "# display shape and head of new gdp data frame\n",
    "\n",
    "gdp.shape\n",
    "gdp.head()"
   ]
  },
  {
   "cell_type": "code",
   "execution_count": 28,
   "id": "9e5aaf44-76f4-43e5-a675-b9ca891b0409",
   "metadata": {},
   "outputs": [],
   "source": [
    "#  save the data into csv file\n",
    "\n",
    "gdp.to_csv('wiki_gdp_dat_by_country.csv',index=False)"
   ]
  },
  {
   "cell_type": "markdown",
   "id": "1ca52d9b-c964-480a-9306-b50d20d538b7",
   "metadata": {},
   "source": [
    "### END"
   ]
  },
  {
   "cell_type": "markdown",
   "id": "1ac219f1-4b0b-48ce-9094-bec3464abc1d",
   "metadata": {},
   "source": [
    "### Exercise-2"
   ]
  },
  {
   "cell_type": "code",
   "execution_count": 29,
   "id": "72600c83-327b-4689-b65e-b933c0cfa913",
   "metadata": {},
   "outputs": [],
   "source": [
    "# load the csv file data\n",
    "\n",
    "filepath =  \"/Users/ganeshkale/work/dsc540_data_prep/Data/visit_data.csv\"\n",
    "\n",
    "visits = pd.read_csv(filepath)"
   ]
  },
  {
   "cell_type": "code",
   "execution_count": 30,
   "id": "7cb6f609-ef17-49e9-bbbf-70c5001a2cdf",
   "metadata": {},
   "outputs": [
    {
     "data": {
      "text/plain": [
       "(1000, 7)"
      ]
     },
     "execution_count": 30,
     "metadata": {},
     "output_type": "execute_result"
    },
    {
     "data": {
      "text/html": [
       "<div>\n",
       "<style scoped>\n",
       "    .dataframe tbody tr th:only-of-type {\n",
       "        vertical-align: middle;\n",
       "    }\n",
       "\n",
       "    .dataframe tbody tr th {\n",
       "        vertical-align: top;\n",
       "    }\n",
       "\n",
       "    .dataframe thead th {\n",
       "        text-align: right;\n",
       "    }\n",
       "</style>\n",
       "<table border=\"1\" class=\"dataframe\">\n",
       "  <thead>\n",
       "    <tr style=\"text-align: right;\">\n",
       "      <th></th>\n",
       "      <th>id</th>\n",
       "      <th>first_name</th>\n",
       "      <th>last_name</th>\n",
       "      <th>email</th>\n",
       "      <th>gender</th>\n",
       "      <th>ip_address</th>\n",
       "      <th>visit</th>\n",
       "    </tr>\n",
       "  </thead>\n",
       "  <tbody>\n",
       "    <tr>\n",
       "      <th>0</th>\n",
       "      <td>1</td>\n",
       "      <td>Sonny</td>\n",
       "      <td>Dahl</td>\n",
       "      <td>sdahl0@mysql.com</td>\n",
       "      <td>Male</td>\n",
       "      <td>135.36.96.183</td>\n",
       "      <td>1225.0</td>\n",
       "    </tr>\n",
       "    <tr>\n",
       "      <th>1</th>\n",
       "      <td>2</td>\n",
       "      <td>NaN</td>\n",
       "      <td>NaN</td>\n",
       "      <td>dhoovart1@hud.gov</td>\n",
       "      <td>NaN</td>\n",
       "      <td>237.165.194.143</td>\n",
       "      <td>919.0</td>\n",
       "    </tr>\n",
       "    <tr>\n",
       "      <th>2</th>\n",
       "      <td>3</td>\n",
       "      <td>Gar</td>\n",
       "      <td>Armal</td>\n",
       "      <td>garmal2@technorati.com</td>\n",
       "      <td>NaN</td>\n",
       "      <td>166.43.137.224</td>\n",
       "      <td>271.0</td>\n",
       "    </tr>\n",
       "    <tr>\n",
       "      <th>3</th>\n",
       "      <td>4</td>\n",
       "      <td>Chiarra</td>\n",
       "      <td>Nulty</td>\n",
       "      <td>cnulty3@newyorker.com</td>\n",
       "      <td>NaN</td>\n",
       "      <td>139.98.137.108</td>\n",
       "      <td>1002.0</td>\n",
       "    </tr>\n",
       "    <tr>\n",
       "      <th>4</th>\n",
       "      <td>5</td>\n",
       "      <td>NaN</td>\n",
       "      <td>NaN</td>\n",
       "      <td>sleaver4@elegantthemes.com</td>\n",
       "      <td>NaN</td>\n",
       "      <td>46.117.117.27</td>\n",
       "      <td>2434.0</td>\n",
       "    </tr>\n",
       "  </tbody>\n",
       "</table>\n",
       "</div>"
      ],
      "text/plain": [
       "   id first_name last_name                       email gender  \\\n",
       "0   1      Sonny      Dahl            sdahl0@mysql.com   Male   \n",
       "1   2        NaN       NaN           dhoovart1@hud.gov    NaN   \n",
       "2   3        Gar     Armal      garmal2@technorati.com    NaN   \n",
       "3   4    Chiarra     Nulty       cnulty3@newyorker.com    NaN   \n",
       "4   5        NaN       NaN  sleaver4@elegantthemes.com    NaN   \n",
       "\n",
       "        ip_address   visit  \n",
       "0    135.36.96.183  1225.0  \n",
       "1  237.165.194.143   919.0  \n",
       "2   166.43.137.224   271.0  \n",
       "3   139.98.137.108  1002.0  \n",
       "4    46.117.117.27  2434.0  "
      ]
     },
     "execution_count": 30,
     "metadata": {},
     "output_type": "execute_result"
    }
   ],
   "source": [
    "# display shape and head of the dataset\n",
    "\n",
    "visits.shape\n",
    "visits.head()"
   ]
  },
  {
   "cell_type": "code",
   "execution_count": 31,
   "id": "21e2084d-3dbe-43f3-8da3-da67876fb933",
   "metadata": {},
   "outputs": [
    {
     "data": {
      "text/plain": [
       "'There are 0 duplicate rows in the dataset'"
      ]
     },
     "execution_count": 31,
     "metadata": {},
     "output_type": "execute_result"
    }
   ],
   "source": [
    "# check for the duplicates rows in entire dataset, \n",
    "\n",
    "no_of_dup = visits.duplicated(subset=None, keep='first').sum()\n",
    "\n",
    "f\"There are {no_of_dup} duplicate rows in the dataset\""
   ]
  },
  {
   "cell_type": "code",
   "execution_count": 32,
   "id": "3bfe920f-817e-4383-83b7-07d3da1a8f0a",
   "metadata": {},
   "outputs": [
    {
     "name": "stdout",
     "output_type": "stream",
     "text": [
      "Number of duplicate rows in column id is: 0\n",
      "Number of duplicate rows in column first_name is: 320\n",
      "Number of duplicate rows in column last_name is: 299\n",
      "Number of duplicate rows in column email is: 0\n",
      "Number of duplicate rows in column gender is: 997\n",
      "Number of duplicate rows in column ip_address is: 0\n",
      "Number of duplicate rows in column visit is: 164\n"
     ]
    }
   ],
   "source": [
    "#  check duplicates in each column of df\n",
    "\n",
    "for col in visits.columns:\n",
    "    print(f'Number of duplicate rows in column {col} is: {visits[col].duplicated().sum()}')\n",
    "    \n",
    "# there are no duplicates in email and ip address means no duplicates overall as we have seen in last step"
   ]
  },
  {
   "cell_type": "code",
   "execution_count": 33,
   "id": "209bdfbe-fd88-4aef-b66b-8bbbc7213482",
   "metadata": {},
   "outputs": [
    {
     "name": "stdout",
     "output_type": "stream",
     "text": [
      "Number of nan values in column id is: 0\n",
      "Number of nan values in column first_name is: 296\n",
      "Number of nan values in column last_name is: 296\n",
      "Number of nan values in column email is: 0\n",
      "Number of nan values in column gender is: 505\n",
      "Number of nan values in column ip_address is: 0\n",
      "Number of nan values in column visit is: 26\n"
     ]
    }
   ],
   "source": [
    "# display column with nan value count\n",
    "\n",
    "for col in visits.columns:\n",
    "    print(f'Number of nan values in column {col} is: {visits[col].isna().sum()}')\n",
    "    \n",
    "# there are nan values in first_name, last_name, gender and visit columns. Gender column has more nan values and \n",
    "# visit column has less nan values"
   ]
  },
  {
   "cell_type": "code",
   "execution_count": 34,
   "id": "9e850842-7710-493f-8057-75a0501702e0",
   "metadata": {},
   "outputs": [
    {
     "data": {
      "image/png": "[encoded data removed]",
      "text/plain": [
       "<Figure size 1728x720 with 3 Axes>"
      ]
     },
     "metadata": {
      "needs_background": "light"
     },
     "output_type": "display_data"
    }
   ],
   "source": [
    "# display column with nan values for entire df\n",
    "\n",
    "import missingno as msno\n",
    "\n",
    "msno.bar(visits, color='b');\n",
    "\n",
    "\n",
    "# there are 4 columns with missing or nan values"
   ]
  },
  {
   "cell_type": "code",
   "execution_count": 35,
   "id": "1ad52d8f-65bf-4601-b941-48917b5fe01d",
   "metadata": {},
   "outputs": [],
   "source": [
    "# remove missing data or nan values from visit columns since it has lower nan values and this can be treated as outliers\n",
    "\n",
    "visits_no_nan = visits.dropna(subset=['visit'])"
   ]
  },
  {
   "cell_type": "code",
   "execution_count": 36,
   "id": "d763257b-e324-4498-999c-7472fba82cfc",
   "metadata": {},
   "outputs": [
    {
     "data": {
      "text/plain": [
       "(974, 7)"
      ]
     },
     "execution_count": 36,
     "metadata": {},
     "output_type": "execute_result"
    },
    {
     "data": {
      "text/html": [
       "<div>\n",
       "<style scoped>\n",
       "    .dataframe tbody tr th:only-of-type {\n",
       "        vertical-align: middle;\n",
       "    }\n",
       "\n",
       "    .dataframe tbody tr th {\n",
       "        vertical-align: top;\n",
       "    }\n",
       "\n",
       "    .dataframe thead th {\n",
       "        text-align: right;\n",
       "    }\n",
       "</style>\n",
       "<table border=\"1\" class=\"dataframe\">\n",
       "  <thead>\n",
       "    <tr style=\"text-align: right;\">\n",
       "      <th></th>\n",
       "      <th>id</th>\n",
       "      <th>first_name</th>\n",
       "      <th>last_name</th>\n",
       "      <th>email</th>\n",
       "      <th>gender</th>\n",
       "      <th>ip_address</th>\n",
       "      <th>visit</th>\n",
       "    </tr>\n",
       "  </thead>\n",
       "  <tbody>\n",
       "    <tr>\n",
       "      <th>0</th>\n",
       "      <td>1</td>\n",
       "      <td>Sonny</td>\n",
       "      <td>Dahl</td>\n",
       "      <td>sdahl0@mysql.com</td>\n",
       "      <td>Male</td>\n",
       "      <td>135.36.96.183</td>\n",
       "      <td>1225.0</td>\n",
       "    </tr>\n",
       "    <tr>\n",
       "      <th>1</th>\n",
       "      <td>2</td>\n",
       "      <td>NaN</td>\n",
       "      <td>NaN</td>\n",
       "      <td>dhoovart1@hud.gov</td>\n",
       "      <td>NaN</td>\n",
       "      <td>237.165.194.143</td>\n",
       "      <td>919.0</td>\n",
       "    </tr>\n",
       "    <tr>\n",
       "      <th>2</th>\n",
       "      <td>3</td>\n",
       "      <td>Gar</td>\n",
       "      <td>Armal</td>\n",
       "      <td>garmal2@technorati.com</td>\n",
       "      <td>NaN</td>\n",
       "      <td>166.43.137.224</td>\n",
       "      <td>271.0</td>\n",
       "    </tr>\n",
       "    <tr>\n",
       "      <th>3</th>\n",
       "      <td>4</td>\n",
       "      <td>Chiarra</td>\n",
       "      <td>Nulty</td>\n",
       "      <td>cnulty3@newyorker.com</td>\n",
       "      <td>NaN</td>\n",
       "      <td>139.98.137.108</td>\n",
       "      <td>1002.0</td>\n",
       "    </tr>\n",
       "    <tr>\n",
       "      <th>4</th>\n",
       "      <td>5</td>\n",
       "      <td>NaN</td>\n",
       "      <td>NaN</td>\n",
       "      <td>sleaver4@elegantthemes.com</td>\n",
       "      <td>NaN</td>\n",
       "      <td>46.117.117.27</td>\n",
       "      <td>2434.0</td>\n",
       "    </tr>\n",
       "  </tbody>\n",
       "</table>\n",
       "</div>"
      ],
      "text/plain": [
       "   id first_name last_name                       email gender  \\\n",
       "0   1      Sonny      Dahl            sdahl0@mysql.com   Male   \n",
       "1   2        NaN       NaN           dhoovart1@hud.gov    NaN   \n",
       "2   3        Gar     Armal      garmal2@technorati.com    NaN   \n",
       "3   4    Chiarra     Nulty       cnulty3@newyorker.com    NaN   \n",
       "4   5        NaN       NaN  sleaver4@elegantthemes.com    NaN   \n",
       "\n",
       "        ip_address   visit  \n",
       "0    135.36.96.183  1225.0  \n",
       "1  237.165.194.143   919.0  \n",
       "2   166.43.137.224   271.0  \n",
       "3   139.98.137.108  1002.0  \n",
       "4    46.117.117.27  2434.0  "
      ]
     },
     "execution_count": 36,
     "metadata": {},
     "output_type": "execute_result"
    }
   ],
   "source": [
    "# display shape and head of new df with no nan values\n",
    "\n",
    "visits_no_nan.shape\n",
    "visits_no_nan.head()\n",
    "\n",
    "\n",
    "# there were around 663 rows with nan values in original dataset so removed 26 rows from visit column"
   ]
  },
  {
   "cell_type": "code",
   "execution_count": 37,
   "id": "e3ba5d02-8a24-4b39-a15c-8a186f71e6cc",
   "metadata": {},
   "outputs": [
    {
     "name": "stdout",
     "output_type": "stream",
     "text": [
      "The original dataset have total rows: 1000 and dataset after removing outliers have total rows: 974, the dataset size difference is:26 rows\n"
     ]
    }
   ],
   "source": [
    "# display dataset size difference between two datasets\n",
    "\n",
    "print(f'The original dataset have total rows: {visits.shape[0]} and dataset after removing outliers have total rows: {visits_no_nan.shape[0]}, the dataset size difference is:{visits.shape[0]-visits_no_nan.shape[0]} rows')"
   ]
  },
  {
   "cell_type": "code",
   "execution_count": 38,
   "id": "76bde91d-acfd-4b25-a27c-0087f25386cd",
   "metadata": {},
   "outputs": [
    {
     "data": {
      "image/png": "[encoded data removed]",
      "text/plain": [
       "<Figure size 1008x504 with 1 Axes>"
      ]
     },
     "metadata": {
      "needs_background": "light"
     },
     "output_type": "display_data"
    }
   ],
   "source": [
    "# display outliers in the dataset for visit column using box-plot\n",
    "\n",
    "plt.figure(figsize=(14,7))\n",
    "\n",
    "sns.set(style='white')\n",
    "sns.boxplot(data=visits_no_nan, x = 'visit');\n",
    "\n",
    "# based on box plot , we dont see any outliers in visit column, not data outside min and max "
   ]
  },
  {
   "cell_type": "code",
   "execution_count": 39,
   "id": "8e9e5bb2-ecb4-4f41-9f76-49af35d54780",
   "metadata": {},
   "outputs": [
    {
     "data": {
      "image/png": "[encoded data removed]",
      "text/plain": [
       "<Figure size 1008x504 with 1 Axes>"
      ]
     },
     "metadata": {},
     "output_type": "display_data"
    }
   ],
   "source": [
    "# display outliers by plotting histplot for visit column\n",
    "\n",
    "plt.figure(figsize=(14,7))\n",
    "sns.histplot(data=visits_no_nan, x='visit', bins=20);\n",
    "\n",
    "# there are no outliers in visit column"
   ]
  },
  {
   "cell_type": "code",
   "execution_count": 40,
   "id": "179ef612-75fc-4b88-9658-868da3724aef",
   "metadata": {},
   "outputs": [
    {
     "data": {
      "image/png": "[encoded data removed]",
      "text/plain": [
       "<Figure size 1008x504 with 1 Axes>"
      ]
     },
     "metadata": {},
     "output_type": "display_data"
    }
   ],
   "source": [
    "# see distribution of gender column to see any outlier or unexpected value\n",
    "\n",
    "plt.figure(figsize=(14,7))\n",
    "\n",
    "sns.countplot(data=visits_no_nan, x = 'gender');\n",
    "\n",
    "# it seems no outlier or unexpected value in gender column"
   ]
  },
  {
   "cell_type": "markdown",
   "id": "bc18328c-f53d-4799-b413-ae9ef7776a46",
   "metadata": {},
   "source": [
    "## END"
   ]
  },
  {
   "cell_type": "markdown",
   "id": "219239a2-844a-49c3-b73f-6fe4021571ad",
   "metadata": {},
   "source": [
    "### Exercise-3"
   ]
  },
  {
   "cell_type": "code",
   "execution_count": 41,
   "id": "3d3bbd8b-f292-49f1-9398-256f0da4bf79",
   "metadata": {},
   "outputs": [],
   "source": [
    "# import the sqlite package\n",
    "\n",
    "import sqlite3"
   ]
  },
  {
   "cell_type": "code",
   "execution_count": 42,
   "id": "7fb69284-c8e8-4be5-bc6b-c41eea693ad7",
   "metadata": {},
   "outputs": [],
   "source": [
    "# define query to create table\n",
    "\n",
    "query = '''create table temp \n",
    "        (name varchar(30), address varchar(100), city varchar(20), state varchar(20), zip integer, phone_num varchar(15))\n",
    "'''"
   ]
  },
  {
   "cell_type": "code",
   "execution_count": 43,
   "id": "ad1c30d5-2427-476b-b92c-1019cdfbcb11",
   "metadata": {},
   "outputs": [],
   "source": [
    "# establish connection to sqlite db\n",
    "\n",
    "con = sqlite3.connect('mydata.sqlite')"
   ]
  },
  {
   "cell_type": "code",
   "execution_count": 47,
   "id": "cf198ec0-85fd-4115-9569-8fe592f2a9b8",
   "metadata": {
    "tags": []
   },
   "outputs": [
    {
     "data": {
      "text/plain": [
       "<sqlite3.Cursor at 0x14b1078f0>"
      ]
     },
     "execution_count": 47,
     "metadata": {},
     "output_type": "execute_result"
    }
   ],
   "source": [
    "# run the query on sqllite db\n",
    "\n",
    "con.execute(query)"
   ]
  },
  {
   "cell_type": "code",
   "execution_count": 48,
   "id": "c0c2a465-054a-4e7a-b488-8dd881da2327",
   "metadata": {},
   "outputs": [],
   "source": [
    "# commit the last command on db\n",
    "\n",
    "con.commit()"
   ]
  },
  {
   "cell_type": "code",
   "execution_count": 49,
   "id": "a902c919-c955-4515-8631-5749f7063efd",
   "metadata": {},
   "outputs": [],
   "source": [
    "# create data to insert into newly created table\n",
    "\n",
    "data = [('john','101 Main St','New York','NY', 10001, \"211-101-1001\"),\n",
    "      ('adam','9400 wade blvd','Frisco','TX', 75035, \"469-202-1001\"),\n",
    "       ('mike','302 Cedar Dr','Wilmington','DE', 19801, \"610-303-1001\"),\n",
    "       ('bob','1832 Preston Rd','Plano','TX', 75027, \"932-404-1001\"),\n",
    "       ('jason','201 Central Ave','Phoenix','AZ', 85001, \"602-505-1001\"),\n",
    "       ('steve','300 W Columnbus Dr','Phoenix','AZ', 85035, \"602-606-1001\"),\n",
    "       ('jeff','1900 Ohio Dr','Plano','TX', 75024, \"332-707-1001\"),\n",
    "       ('carl','1901 Nemaans Rd','Wilmington','DE', 19011, \"445-808-1001\"),\n",
    "       ('tony','1734 Parkwood dr','Dover','DE', 19810, \"302-909-1001\"),\n",
    "       ('paul','404 Manhatten Rd','New York','NY', 10011, \"214-100-1001\")]"
   ]
  },
  {
   "cell_type": "code",
   "execution_count": 50,
   "id": "cfd647ea-f300-4504-82d2-6e59fa603cdf",
   "metadata": {},
   "outputs": [],
   "source": [
    "# insert statement to run on new table\n",
    "\n",
    "stmt = \"INSERT INTO temp VALUES(?, ?, ?, ?, ?, ?)\""
   ]
  },
  {
   "cell_type": "code",
   "execution_count": 51,
   "id": "5c576e66-b97e-451d-96d3-b94486967170",
   "metadata": {},
   "outputs": [
    {
     "data": {
      "text/plain": [
       "<sqlite3.Cursor at 0x14b141030>"
      ]
     },
     "execution_count": 51,
     "metadata": {},
     "output_type": "execute_result"
    }
   ],
   "source": [
    "# run insert statement repeatendly\n",
    "\n",
    "con.executemany(stmt, data)"
   ]
  },
  {
   "cell_type": "code",
   "execution_count": 52,
   "id": "126cbea3-e9c6-49ce-9514-1e3c54eba8e7",
   "metadata": {},
   "outputs": [],
   "source": [
    "# commit the insert stement command on db\n",
    "\n",
    "con.commit()"
   ]
  },
  {
   "cell_type": "code",
   "execution_count": 53,
   "id": "6ee64e49-5e9c-4670-bf32-bb09d2b58c46",
   "metadata": {},
   "outputs": [],
   "source": [
    "# create cursor to fetch reconds from the new table\n",
    "\n",
    "cursor = con.execute('select * from temp')"
   ]
  },
  {
   "cell_type": "code",
   "execution_count": 54,
   "id": "eb21cef1-f771-49f7-b793-8e76938fad04",
   "metadata": {},
   "outputs": [],
   "source": [
    "# fetch rows from the table\n",
    "\n",
    "rows = cursor.fetchall()"
   ]
  },
  {
   "cell_type": "code",
   "execution_count": 55,
   "id": "a9e16424-a41b-44f7-b7a6-9465194e374c",
   "metadata": {},
   "outputs": [
    {
     "data": {
      "text/plain": [
       "[('john', '101 Main St', 'New York', 'NY', 10001, '211-101-1001'),\n",
       " ('adam', '9400 wade blvd', 'Frisco', 'TX', 75035, '469-202-1001'),\n",
       " ('mike', '302 Cedar Dr', 'Wilmington', 'DE', 19801, '610-303-1001'),\n",
       " ('bob', '1832 Preston Rd', 'Plano', 'TX', 75027, '932-404-1001'),\n",
       " ('jason', '201 Central Ave', 'Phoenix', 'AZ', 85001, '602-505-1001'),\n",
       " ('steve', '300 W Columnbus Dr', 'Phoenix', 'AZ', 85035, '602-606-1001'),\n",
       " ('jeff', '1900 Ohio Dr', 'Plano', 'TX', 75024, '332-707-1001'),\n",
       " ('carl', '1901 Nemaans Rd', 'Wilmington', 'DE', 19011, '445-808-1001'),\n",
       " ('tony', '1734 Parkwood dr', 'Dover', 'DE', 19810, '302-909-1001'),\n",
       " ('paul', '404 Manhatten Rd', 'New York', 'NY', 10011, '214-100-1001')]"
      ]
     },
     "execution_count": 55,
     "metadata": {},
     "output_type": "execute_result"
    }
   ],
   "source": [
    "# display the rows fetched from table\n",
    "\n",
    "rows"
   ]
  },
  {
   "cell_type": "code",
   "execution_count": 56,
   "id": "c6e07471-a8ca-4b3a-89d2-71c117a64b7c",
   "metadata": {},
   "outputs": [],
   "source": [
    "# create table column names list\n",
    "\n",
    "col_names = []\n",
    "\n",
    "for col in cursor.description:\n",
    "    col_names.append(col[0])"
   ]
  },
  {
   "cell_type": "code",
   "execution_count": 57,
   "id": "8e92adb1-199d-4c38-b61f-53f326fa5663",
   "metadata": {},
   "outputs": [
    {
     "data": {
      "text/plain": [
       "['name', 'address', 'city', 'state', 'zip', 'phone_num']"
      ]
     },
     "execution_count": 57,
     "metadata": {},
     "output_type": "execute_result"
    }
   ],
   "source": [
    "# display column names\n",
    "\n",
    "col_names"
   ]
  },
  {
   "cell_type": "code",
   "execution_count": 58,
   "id": "452568e1-ccc2-4a91-9f1c-7dbc0335f37f",
   "metadata": {},
   "outputs": [],
   "source": [
    "# create dataframe usinf rows from the table\n",
    "\n",
    "sqlite_df = pd.DataFrame(data=rows, columns=col_names)"
   ]
  },
  {
   "cell_type": "code",
   "execution_count": 59,
   "id": "22150d63-e5c2-4054-8573-a044bb143668",
   "metadata": {},
   "outputs": [
    {
     "data": {
      "text/plain": [
       "(10, 6)"
      ]
     },
     "execution_count": 59,
     "metadata": {},
     "output_type": "execute_result"
    },
    {
     "data": {
      "text/html": [
       "<div>\n",
       "<style scoped>\n",
       "    .dataframe tbody tr th:only-of-type {\n",
       "        vertical-align: middle;\n",
       "    }\n",
       "\n",
       "    .dataframe tbody tr th {\n",
       "        vertical-align: top;\n",
       "    }\n",
       "\n",
       "    .dataframe thead th {\n",
       "        text-align: right;\n",
       "    }\n",
       "</style>\n",
       "<table border=\"1\" class=\"dataframe\">\n",
       "  <thead>\n",
       "    <tr style=\"text-align: right;\">\n",
       "      <th></th>\n",
       "      <th>name</th>\n",
       "      <th>address</th>\n",
       "      <th>city</th>\n",
       "      <th>state</th>\n",
       "      <th>zip</th>\n",
       "      <th>phone_num</th>\n",
       "    </tr>\n",
       "  </thead>\n",
       "  <tbody>\n",
       "    <tr>\n",
       "      <th>0</th>\n",
       "      <td>john</td>\n",
       "      <td>101 Main St</td>\n",
       "      <td>New York</td>\n",
       "      <td>NY</td>\n",
       "      <td>10001</td>\n",
       "      <td>211-101-1001</td>\n",
       "    </tr>\n",
       "    <tr>\n",
       "      <th>1</th>\n",
       "      <td>adam</td>\n",
       "      <td>9400 wade blvd</td>\n",
       "      <td>Frisco</td>\n",
       "      <td>TX</td>\n",
       "      <td>75035</td>\n",
       "      <td>469-202-1001</td>\n",
       "    </tr>\n",
       "    <tr>\n",
       "      <th>2</th>\n",
       "      <td>mike</td>\n",
       "      <td>302 Cedar Dr</td>\n",
       "      <td>Wilmington</td>\n",
       "      <td>DE</td>\n",
       "      <td>19801</td>\n",
       "      <td>610-303-1001</td>\n",
       "    </tr>\n",
       "    <tr>\n",
       "      <th>3</th>\n",
       "      <td>bob</td>\n",
       "      <td>1832 Preston Rd</td>\n",
       "      <td>Plano</td>\n",
       "      <td>TX</td>\n",
       "      <td>75027</td>\n",
       "      <td>932-404-1001</td>\n",
       "    </tr>\n",
       "    <tr>\n",
       "      <th>4</th>\n",
       "      <td>jason</td>\n",
       "      <td>201 Central Ave</td>\n",
       "      <td>Phoenix</td>\n",
       "      <td>AZ</td>\n",
       "      <td>85001</td>\n",
       "      <td>602-505-1001</td>\n",
       "    </tr>\n",
       "    <tr>\n",
       "      <th>5</th>\n",
       "      <td>steve</td>\n",
       "      <td>300 W Columnbus Dr</td>\n",
       "      <td>Phoenix</td>\n",
       "      <td>AZ</td>\n",
       "      <td>85035</td>\n",
       "      <td>602-606-1001</td>\n",
       "    </tr>\n",
       "    <tr>\n",
       "      <th>6</th>\n",
       "      <td>jeff</td>\n",
       "      <td>1900 Ohio Dr</td>\n",
       "      <td>Plano</td>\n",
       "      <td>TX</td>\n",
       "      <td>75024</td>\n",
       "      <td>332-707-1001</td>\n",
       "    </tr>\n",
       "    <tr>\n",
       "      <th>7</th>\n",
       "      <td>carl</td>\n",
       "      <td>1901 Nemaans Rd</td>\n",
       "      <td>Wilmington</td>\n",
       "      <td>DE</td>\n",
       "      <td>19011</td>\n",
       "      <td>445-808-1001</td>\n",
       "    </tr>\n",
       "    <tr>\n",
       "      <th>8</th>\n",
       "      <td>tony</td>\n",
       "      <td>1734 Parkwood dr</td>\n",
       "      <td>Dover</td>\n",
       "      <td>DE</td>\n",
       "      <td>19810</td>\n",
       "      <td>302-909-1001</td>\n",
       "    </tr>\n",
       "    <tr>\n",
       "      <th>9</th>\n",
       "      <td>paul</td>\n",
       "      <td>404 Manhatten Rd</td>\n",
       "      <td>New York</td>\n",
       "      <td>NY</td>\n",
       "      <td>10011</td>\n",
       "      <td>214-100-1001</td>\n",
       "    </tr>\n",
       "  </tbody>\n",
       "</table>\n",
       "</div>"
      ],
      "text/plain": [
       "    name             address        city state    zip     phone_num\n",
       "0   john         101 Main St    New York    NY  10001  211-101-1001\n",
       "1   adam      9400 wade blvd      Frisco    TX  75035  469-202-1001\n",
       "2   mike        302 Cedar Dr  Wilmington    DE  19801  610-303-1001\n",
       "3    bob     1832 Preston Rd       Plano    TX  75027  932-404-1001\n",
       "4  jason     201 Central Ave     Phoenix    AZ  85001  602-505-1001\n",
       "5  steve  300 W Columnbus Dr     Phoenix    AZ  85035  602-606-1001\n",
       "6   jeff        1900 Ohio Dr       Plano    TX  75024  332-707-1001\n",
       "7   carl     1901 Nemaans Rd  Wilmington    DE  19011  445-808-1001\n",
       "8   tony    1734 Parkwood dr       Dover    DE  19810  302-909-1001\n",
       "9   paul    404 Manhatten Rd    New York    NY  10011  214-100-1001"
      ]
     },
     "execution_count": 59,
     "metadata": {},
     "output_type": "execute_result"
    }
   ],
   "source": [
    "# display dataframe shape and top 5 rows\n",
    "\n",
    "sqlite_df.shape\n",
    "sqlite_df"
   ]
  },
  {
   "cell_type": "code",
   "execution_count": 60,
   "id": "b45fd151-1cb4-4f0a-87bb-189e8b68c5e7",
   "metadata": {},
   "outputs": [],
   "source": [
    "# close the db connection\n",
    "\n",
    "con.close()"
   ]
  },
  {
   "cell_type": "markdown",
   "id": "17b2b3c9-85a9-44b0-82e3-2369714b53f6",
   "metadata": {
    "tags": []
   },
   "source": [
    "### END"
   ]
  }
 ],
 "metadata": {
  "kernelspec": {
   "display_name": "Python 3",
   "language": "python",
   "name": "python3"
  },
  "language_info": {
   "codemirror_mode": {
    "name": "ipython",
    "version": 3
   },
   "file_extension": ".py",
   "mimetype": "text/x-python",
   "name": "python",
   "nbconvert_exporter": "python",
   "pygments_lexer": "ipython3",
   "version": "3.8.2"
  }
 },
 "nbformat": 4,
 "nbformat_minor": 5
}
