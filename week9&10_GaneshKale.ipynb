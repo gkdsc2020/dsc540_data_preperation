{
 "cells": [
  {
   "cell_type": "markdown",
   "id": "e7e60ede-f2c8-482b-b2f0-662ebd261b9f",
   "metadata": {},
   "source": [
    "## Author# Ganesh Kale\n",
    "## Week# 9 & 10\n",
    "## Date# Oct 30, 2021"
   ]
  },
  {
   "cell_type": "markdown",
   "id": "abc686da-191e-4e02-a963-4ca7c4f4572b",
   "metadata": {},
   "source": [
    "### Activity 9"
   ]
  },
  {
   "cell_type": "markdown",
   "id": "09df36b7-cc9d-4faf-bcf9-d0ab66bcbeb6",
   "metadata": {},
   "source": [
    "#### _import required packages_"
   ]
  },
  {
   "cell_type": "code",
   "execution_count": 1,
   "id": "e8548186-fb04-47e0-a731-aa06f0ede0a8",
   "metadata": {},
   "outputs": [],
   "source": [
    "import numpy as np  # for numeric operations\n",
    "import pandas as pd  # for data manipulation\n",
    "import matplotlib.pyplot as plt  # for data visualization\n",
    "import seaborn as sns  # for data visualization\n",
    "import random   # for generating random numbers\n",
    "\n",
    "from IPython.core.interactiveshell import InteractiveShell\n",
    "InteractiveShell.ast_node_interactivity = 'all'\n",
    "\n",
    "from bs4 import BeautifulSoup       # for web ecraping   \n",
    "import re                          # regular expression\n",
    "import requests\n",
    "import ssl"
   ]
  },
  {
   "cell_type": "code",
   "execution_count": 2,
   "id": "82c8cbae-c2e2-43f9-99ee-f59226b94925",
   "metadata": {},
   "outputs": [],
   "source": [
    "#  Check the SSL certificate\n",
    "# Ignore SSL certificate errors\n",
    "\n",
    "ctx = ssl.create_default_context()\n",
    "ctx.check_hostname = False\n",
    "ctx.verify_mode = ssl.CERT_NONE\n"
   ]
  },
  {
   "cell_type": "code",
   "execution_count": 3,
   "id": "b0de0216-69ce-4592-8bd6-de6dec80f9c3",
   "metadata": {},
   "outputs": [],
   "source": [
    "# read the html from url\n",
    "\n",
    "url = 'https://www.gutenberg.org/browse/scores/top'\n",
    "\n",
    "gutenberg_page = requests.get(url)"
   ]
  },
  {
   "cell_type": "code",
   "execution_count": 4,
   "id": "b140834e-85cd-4a03-ac2a-4928219ab895",
   "metadata": {},
   "outputs": [],
   "source": [
    "# function to check web page request status\n",
    "\n",
    "def check_web_status(page):\n",
    "    '''\n",
    "    function to check status of web page request\n",
    "    page - response of the web page request\n",
    "    '''\n",
    "    if page.status_code == 200:\n",
    "        print('Sucess')\n",
    "        return 200\n",
    "    else:\n",
    "        print('Failed')\n",
    "        return -1    "
   ]
  },
  {
   "cell_type": "code",
   "execution_count": 5,
   "id": "5623821a-73d7-4c05-b4f4-40ebd1a684f2",
   "metadata": {},
   "outputs": [
    {
     "name": "stdout",
     "output_type": "stream",
     "text": [
      "Sucess\n"
     ]
    },
    {
     "data": {
      "text/plain": [
       "'The web request status is 200'"
      ]
     },
     "execution_count": 5,
     "metadata": {},
     "output_type": "execute_result"
    }
   ],
   "source": [
    "# check the status of the web request\n",
    "\n",
    "f\"The web request status is {check_web_status(gutenberg_page)}\""
   ]
  },
  {
   "cell_type": "code",
   "execution_count": 6,
   "id": "2b9d1a82-b583-4955-9011-e149de7fcc00",
   "metadata": {},
   "outputs": [
    {
     "name": "stdout",
     "output_type": "stream",
     "text": [
      "The encoding of the response is UTF-8\n",
      "The type of decoded response is <class 'str'>\n",
      "The length of decoded response is 58589\n"
     ]
    }
   ],
   "source": [
    "# decode the responze\n",
    "\n",
    "# check encoding of response\n",
    "\n",
    "encode = gutenberg_page.encoding\n",
    "print(f\"The encoding of the response is {encode}\")\n",
    "\n",
    "gutenberg_decode = gutenberg_page.content.decode(encode)\n",
    "print(f\"The type of decoded response is {type(gutenberg_decode)}\")\n",
    "print(f\"The length of decoded response is {len(gutenberg_decode)}\")"
   ]
  },
  {
   "cell_type": "code",
   "execution_count": 7,
   "id": "cbd98c86-546a-4044-bd74-1a44ec186310",
   "metadata": {},
   "outputs": [],
   "source": [
    "# store decoded rwesponse in bs4 object\n",
    "\n",
    "soup = BeautifulSoup(gutenberg_decode,'html.parser')"
   ]
  },
  {
   "cell_type": "code",
   "execution_count": 8,
   "id": "5f978731-980d-43b7-a24f-df2dad535a90",
   "metadata": {},
   "outputs": [],
   "source": [
    "# find all href links\n",
    "\n",
    "href_urls = soup.find_all('a',href = True)"
   ]
  },
  {
   "cell_type": "code",
   "execution_count": 9,
   "id": "51fa94a3-7716-44b3-8938-ba35897433a6",
   "metadata": {},
   "outputs": [],
   "source": [
    "# create list to store all valid href links in list\n",
    "\n",
    "href_lists = []\n",
    "\n",
    "for link in href_urls:\n",
    "    if len(link['href'])>6:       # only take valid hrefs and ignore just slashes or othet chars\n",
    "        href_lists.append(link['href'])        # append to list"
   ]
  },
  {
   "cell_type": "code",
   "execution_count": 10,
   "id": "2e487798-6602-4c8a-bc3a-d884cabbfe7e",
   "metadata": {},
   "outputs": [
    {
     "data": {
      "text/plain": [
       "['/about/',\n",
       " '/about/',\n",
       " '/policy/collection_development.html',\n",
       " '/about/contact_information.html',\n",
       " '/about/background/',\n",
       " '/policy/permission.html',\n",
       " '/policy/privacy_policy.html',\n",
       " '/policy/terms_of_use.html',\n",
       " '/ebooks/',\n",
       " '/ebooks/',\n",
       " '/ebooks/bookshelf/',\n",
       " '/browse/scores/top',\n",
       " '/ebooks/offline_catalogs.html',\n",
       " '/help/copyright.html',\n",
       " '/help/errata.html',\n",
       " '/help/file_formats.html',\n",
       " '/help/faq.html',\n",
       " '/policy/',\n",
       " '/help/public_domain_ebook_submission.html',\n",
       " '/help/submitting_your_own_work.html',\n",
       " '/help/mobile.html',\n",
       " '/attic/',\n",
       " '/donate/',\n",
       " '/donate/',\n",
       " '#books-last1',\n",
       " '#authors-last1',\n",
       " '#books-last7',\n",
       " '#authors-last7',\n",
       " '#books-last30',\n",
       " '#authors-last30']"
      ]
     },
     "execution_count": 10,
     "metadata": {},
     "output_type": "execute_result"
    }
   ],
   "source": [
    "# display top 30 hrefs\n",
    "\n",
    "href_lists[:30]"
   ]
  },
  {
   "cell_type": "code",
   "execution_count": 11,
   "id": "e661eb6f-ac65-4ec6-941f-343a8c3a90b5",
   "metadata": {},
   "outputs": [],
   "source": [
    "# get all the indices for link '#authors-last30'\n",
    "# beacuse top 100 ebooks are between this tag of first two occurances\n",
    "\n",
    "idx_list = []\n",
    "idx = 0\n",
    "\n",
    "for _ in range(href_lists.count('#authors-last30')):\n",
    "    idx = href_lists.index('#authors-last30',idx)\n",
    "    if not idx in idx_list:\n",
    "        idx_list.append(idx)\n",
    "        idx+=1\n",
    "    else:\n",
    "        break"
   ]
  },
  {
   "cell_type": "code",
   "execution_count": 12,
   "id": "8e374eae-7d1f-4cc7-8edf-5964a75e7476",
   "metadata": {},
   "outputs": [
    {
     "data": {
      "text/plain": [
       "['/ebooks/1342',\n",
       " '/ebooks/84',\n",
       " '/ebooks/11',\n",
       " '/ebooks/2701',\n",
       " '/ebooks/345',\n",
       " '/ebooks/98',\n",
       " '/ebooks/41',\n",
       " '/ebooks/66628',\n",
       " '/ebooks/66627',\n",
       " '/ebooks/1661']"
      ]
     },
     "execution_count": 12,
     "metadata": {},
     "output_type": "execute_result"
    }
   ],
   "source": [
    "# refind the list if links for top 100 ebooks and display 10 links\n",
    "\n",
    "href_lists_final = href_lists[idx_list[0]+1:idx_list[1]]\n",
    "href_lists_final[:10]"
   ]
  },
  {
   "cell_type": "code",
   "execution_count": 13,
   "id": "5ebb1ada-e0f7-4100-b0f9-c60f186689d4",
   "metadata": {},
   "outputs": [],
   "source": [
    "# find the book numbers and save in the list\n",
    "#  all the links starts with 'ebooks' so we are going to look for link with this word and get book#\n",
    "\n",
    "book_nums = []\n",
    "pat = re.compile(r'[0-9]+')\n",
    "\n",
    "for link in href_lists_final:\n",
    "    if 'ebooks' in link:\n",
    "        link = link.strip()    # remove white spaces if any\n",
    "        num = pat.findall(link)[0]\n",
    "        if num.isdigit():\n",
    "            book_nums.append(num)"
   ]
  },
  {
   "cell_type": "code",
   "execution_count": 14,
   "id": "851b4c5e-77b9-46d2-b1b8-eb3a46053834",
   "metadata": {},
   "outputs": [
    {
     "name": "stdout",
     "output_type": "stream",
     "text": [
      "The total ebooks: 100\n",
      "The ebooks numbers: ['1342', '84', '11', '2701', '345', '98', '41', '66628', '66627', '1661', '25344', '46', '32992', '174', '4980', '1952', '1080', '219', '5200', '42324', '1232', '43', '1260', '32449', '2591', '66631', '408', '2542', '205', '4300', '64317', '66632', '2554', '1727', '48809', '2600', '63256', '16', '844', '66630', '76', '1184', '5740', '74', '6130', '514', '3207', '45', '996', '58585', '1497', '2148', '10007', '28054', '30254', '23', '1400', '2852', '7370', '5739', '55', '120', '16328', '3600', '36', '66623', '158', '4363', '10', '766', '160', '2814', '203', '135', '730', '42884', '36853', '1250', '27827', '66626', '24518', '768', '1998', '209', '66622', '779', '215', '244', '829', '61', '15399', '521', '20203', '236', '863', '1399', '113', '2848', '161', '902']\n"
     ]
    }
   ],
   "source": [
    "# display length and 100 ebooks ids\n",
    "\n",
    "print(f\"The total ebooks: {len(book_nums)}\")\n",
    "print(f\"The ebooks numbers: {book_nums}\")"
   ]
  },
  {
   "cell_type": "code",
   "execution_count": 15,
   "id": "ddf36f05-235c-4876-80fb-bfc613e305bf",
   "metadata": {},
   "outputs": [
    {
     "data": {
      "text/plain": [
       "\"Top 100 | Project Gutenberg\\n\\n\\n\\n\\n\\n\\n\\n\\n\\n\\n\\n\\n\\n\\n\\n\\n\\n\\n\\n\\n\\n\\n\\n\\n\\n\\n\\nMenu▾\\n\\n\\n\\nAbout\\n          ▾\\n\\n▾\\n\\n\\nAbout Project Gutenberg\\nCollection Development\\nContact Us\\nHistory & Philosophy\\nPermissions & License\\nPrivacy Policy\\nTerms of Use\\n\\n\\n\\nSearch and Browse\\n      \\t  ▾\\n\\n▾\\n\\n\\nBook Search\\nBookshelves\\nFrequently Downloaded\\nOffline Catalogs\\n\\n\\n\\nHelp\\n          ▾\\n\\n▾\\n\\n\\nAll help topics →\\nCopyright Procedures\\nErrata, Fixes and Bug Reports\\nFile Formats\\nFrequently Asked Questions\\nPolicies →\\nPublic Domain eBook Submission\\nSubmitting Your Own Work\\nTablets, Phones and eReaders\\nThe Attic →\\n\\n\\nDonate\\n\\n\\n\\n\\n\\n\\n\\n\\n\\n\\nDonation\\n\\n\\n\\n\\n\\n\\n\\nFrequently Viewed or Downloaded\\nThese listings are based on the number of times each eBook gets downloaded.\\n      Multiple downloads from the same Internet address on the same day count as one download, and addresses that download more than 100 eBooks in a day are considered robots and are not counted.\\n\\nDownloaded Books\\n2021-10-30141396\\nlast 7 days1182856\\nlast 30 days4856424\\n\\n\\n\\nTop 100 EBooks yesterday\\nTop 100 Authors yesterday\\nTop 100 EBooks last 7 days\\nTop 100 Authors last 7 days\\nTop 100 EBooks last 30 days\\nTop 100 Authors last 30 days\\n\\n\\nTop 100 EBooks yesterday\\n\\nPride and Prejudice by Jane Austen (1310)\\nFrankenstein; Or, The Modern Prometheus by Mary Wollstonecraft Shelley (1261)\\nAlice's Adventures in Wonderland by Lewis Carroll (667)\\nMoby Dick; Or, The Whale by Herman Melville (638)\\nDracula by Bram Stoker (635)\\nA Tale of Two Cities by Charles Dickens (632)\\nThe Legend of Sleepy Hollow by Washington Irving (602)\\nThe Golden Chimney by Elizabeth Gerberding (579)\\nThe Cat's Paw by Natalie Sumner Lincoln (543)\\nThe Adventures of Sherlock Holmes by Arthur Conan Doyle (525)\\nThe Scarlet Letter by Nathaniel Hawthorne (479)\\nA Christmas Carol in Prose; Being a Ghost Story of Christmas by Charles Dickens (470)\\nThe Youngest Girl in the School by Evelyn Sharp (461)\\nThe Picture of Dorian Gray by Oscar Wilde (459)\\nOld Granny Fox by Thornton W.  Burgess (420)\\nThe Yellow Wallpaper by Charlotte Per\""
      ]
     },
     "execution_count": 15,
     "metadata": {},
     "output_type": "execute_result"
    }
   ],
   "source": [
    "# display soup object text 2000 chars\n",
    "\n",
    "soup.text[:2000].strip()"
   ]
  },
  {
   "cell_type": "code",
   "execution_count": 16,
   "id": "565ed6a4-6972-46a9-800f-cb66bb59bb4a",
   "metadata": {},
   "outputs": [],
   "source": [
    "#  extracts the name of top 100 ebooks\n",
    "\n",
    "top_100_ebooks_contents = soup.find_all('div', {'class':'page_content'})\n",
    "\n",
    "# list to store books names\n",
    "top_100_books_names = []\n",
    "\n",
    "# loop over the page contents to find first tag 'ol'\n",
    "# find 'li' tag and extract book names\n",
    "\n",
    "for ol in top_100_ebooks_contents:\n",
    "    a_tag = ol.find('a')    # find the first 'a' tag\n",
    "    if a_tag.text == 'Top 100 EBooks yesterday':\n",
    "        ol_tag = ol.find('ol')     # find the first 'ol' tag since it has 100 ebooks name\n",
    "        for li in ol_tag.find_all('li'):\n",
    "            top_100_books_names.append(li.text)      # store books names"
   ]
  },
  {
   "cell_type": "code",
   "execution_count": 17,
   "id": "77bf592a-4131-4b7f-a643-2d00dd3fd87b",
   "metadata": {},
   "outputs": [
    {
     "name": "stdout",
     "output_type": "stream",
     "text": [
      "The total extracted books are: 100\n",
      "********** The top 5 book names **********\n"
     ]
    },
    {
     "data": {
      "text/plain": [
       "['Pride and Prejudice by Jane Austen (1310)',\n",
       " 'Frankenstein; Or, The Modern Prometheus by Mary Wollstonecraft Shelley (1261)',\n",
       " \"Alice's Adventures in Wonderland by Lewis Carroll (667)\",\n",
       " 'Moby Dick; Or, The Whale by Herman Melville (638)',\n",
       " 'Dracula by Bram Stoker (635)']"
      ]
     },
     "execution_count": 17,
     "metadata": {},
     "output_type": "execute_result"
    }
   ],
   "source": [
    "# display few extracted book names\n",
    "\n",
    "print(f\"The total extracted books are: {len(top_100_books_names)}\")\n",
    "print('*'*10,'The top 5 book names', '*'*10)\n",
    "top_100_books_names[:5]"
   ]
  },
  {
   "cell_type": "code",
   "execution_count": 18,
   "id": "1795c166-a77c-4e70-84f6-d632dafeb30d",
   "metadata": {},
   "outputs": [],
   "source": [
    "# the book names are as shown on the web page\n",
    "# we use regex to clean the book names to remove numbers\n",
    "\n",
    "clean_ebook_names = []\n",
    "\n",
    "pat = re.compile(r'[0-9]+')\n",
    "\n",
    "for name in top_100_books_names:\n",
    "    idx = pat.search(name).span()[0]\n",
    "    clean_ebook_names.append(name[:idx-1].strip())"
   ]
  },
  {
   "cell_type": "code",
   "execution_count": 29,
   "id": "1d3e7e2d-e4c5-467b-b1b5-8d69f6d5ab02",
   "metadata": {},
   "outputs": [
    {
     "name": "stdout",
     "output_type": "stream",
     "text": [
      "Pride and Prejudice by Jane Austen\n",
      "Frankenstein; Or, The Modern Prometheus by Mary Wollstonecraft Shelley\n",
      "Alice's Adventures in Wonderland by Lewis Carroll\n",
      "Moby Dick; Or, The Whale by Herman Melville\n",
      "Dracula by Bram Stoker\n",
      "A Tale of Two Cities by Charles Dickens\n",
      "The Legend of Sleepy Hollow by Washington Irving\n",
      "The Golden Chimney by Elizabeth Gerberding\n",
      "The Cat's Paw by Natalie Sumner Lincoln\n",
      "The Adventures of Sherlock Holmes by Arthur Conan Doyle\n",
      "The Scarlet Letter by Nathaniel Hawthorne\n",
      "A Christmas Carol in Prose; Being a Ghost Story of Christmas by Charles Dickens\n",
      "The Youngest Girl in the School by Evelyn Sharp\n",
      "The Picture of Dorian Gray by Oscar Wilde\n",
      "Old Granny Fox by Thornton W.  Burgess\n",
      "The Yellow Wallpaper by Charlotte Perkins Gilman\n",
      "A Modest Proposal by Jonathan Swift\n",
      "Heart of Darkness by Joseph Conrad\n",
      "Metamorphosis by Franz Kafka\n",
      "Frankenstein; Or, The Modern Prometheus by Mary Wollstonecraft Shelley\n",
      "The Prince by Niccolò Machiavelli\n",
      "The Strange Case of Dr. Jekyll and Mr. Hyde by Robert Louis Stevenson\n",
      "Jane Eyre: An Autobiography by Charlotte Brontë\n",
      "Japanese Girls and Women by Alice Mabel Bacon\n",
      "Grimms' Fairy Tales by Jacob Grimm and Wilhelm Grimm\n",
      "After the Manner of Men by Arthur E. Becher and Francis Lynde\n",
      "The Souls of Black Folk by W. E. B.  Du Bois\n",
      "A Doll's House : a play by Henrik Ibsen\n",
      "Walden, and On The Duty Of Civil Disobedience by Henry David Thoreau\n",
      "Ulysses by James Joyce\n",
      "The Great Gatsby by F. Scott  Fitzgerald\n",
      "The Game of Go by Arthur Smith\n",
      "Crime and Punishment by Fyodor Dostoyevsky\n",
      "The Odyssey by Homer\n",
      "Plans and Illustrations of Prisons and Reformatories\n",
      "War and Peace by graf Leo Tolstoy\n",
      "The American Diary of a Japanese Girl by Yoné Noguchi\n",
      "Peter Pan by J. M.  Barrie\n",
      "The Importance of Being Earnest: A Trivial Comedy for Serious People by Oscar Wilde\n",
      "»Sie« am Seil by Eva von Baudissin\n",
      "Adventures of Huckleberry Finn by Mark Twain\n",
      "The Count of Monte Cristo, Illustrated by Alexandre Dumas\n",
      "Tractatus Logico-Philosophicus by Ludwig Wittgenstein\n",
      "The Adventures of Tom Sawyer, Complete by Mark Twain\n",
      "The Iliad by Homer\n",
      "Little Women by Louisa May Alcott\n",
      "Leviathan by Thomas Hobbes\n",
      "Anne of Green Gables by L. M.  Montgomery\n",
      "Don Quixote by Miguel de Cervantes Saavedra\n",
      "The Prophet by Kahlil Gibran\n",
      "The Republic by Plato\n",
      "The Works of Edgar Allan Poe — Volume\n",
      "Carmilla by Joseph Sheridan Le Fanu\n",
      "The Brothers Karamazov by Fyodor Dostoyevsky\n",
      "The Romance of Lust: A classic Victorian erotic novel by Anonymous\n",
      "Narrative of the Life of Frederick Douglass, an American Slave by Frederick Douglass\n",
      "Great Expectations by Charles Dickens\n",
      "The Hound of the Baskervilles by Arthur Conan Doyle\n",
      "Second Treatise of Government by John Locke\n",
      "Korean—English Dictionary by Leon Kuperman\n",
      "The Wonderful Wizard of Oz by L. Frank  Baum\n",
      "Treasure Island by Robert Louis Stevenson\n",
      "Beowulf: An Anglo-Saxon Epic Poem\n",
      "Essays of Michel de Montaigne — Complete by Michel de Montaigne\n",
      "The War of the Worlds by H. G.  Wells\n",
      "The Road to Bunker Hill by Shirley Barker\n",
      "Emma by Jane Austen\n",
      "Beyond Good and Evil by Friedrich Wilhelm Nietzsche\n",
      "The King James Version of the Bible\n",
      "David Copperfield by Charles Dickens\n",
      "The Awakening, and Selected Short Stories by Kate Chopin\n",
      "Dubliners by James Joyce\n",
      "Uncle Tom's Cabin by Harriet Beecher Stowe\n",
      "Les Misérables by Victor Hugo\n",
      "Oliver Twist by Charles Dickens\n",
      "The Philippine Islands,\n",
      "A Very Naughty Girl by L. T. Meade\n",
      "Anthem by Ayn Rand\n",
      "The Kama Sutra of Vatsyayana by Vatsyayana\n",
      "Adán y Eva en el paraíso by José María Eça de Queirós\n",
      "Memoirs of Extraordinary Popular Delusions and the Madness of Crowds by Charles Mackay\n",
      "Wuthering Heights by Emily Brontë\n",
      "Thus Spake Zarathustra: A Book for All and None by Friedrich Wilhelm Nietzsche\n",
      "The Turn of the Screw by Henry James\n",
      "Fiander's Widow by M. E. Francis\n",
      "The Tragical History of Doctor Faustus by Christopher Marlowe\n",
      "The Call of the Wild by Jack London\n",
      "A Study in Scarlet by Arthur Conan Doyle\n",
      "Gulliver's Travels into Several Remote Nations of the World by Jonathan Swift\n",
      "The Communist Manifesto by Friedrich Engels and Karl Marx\n",
      "The Interesting Narrative of the Life of Olaudah Equiano, Or Gustavus Vassa, The African by Equiano\n",
      "The Life and Adventures of Robinson Crusoe by Daniel Defoe\n",
      "Autobiography of Benjamin Franklin by Benjamin Franklin\n",
      "The Jungle Book by Rudyard Kipling\n",
      "The Mysterious Affair at Styles by Agatha Christie\n",
      "Anna Karenina by graf Leo Tolstoy\n",
      "The Secret Garden by Frances Hodgson Burnett\n",
      "Antiquities of the Jews by Flavius Josephus\n",
      "Sense and Sensibility by Jane Austen\n",
      "The Happy Prince, and Other Tales by Oscar Wilde\n"
     ]
    }
   ],
   "source": [
    "# display the top 100 ebook names\n",
    "\n",
    "for book in clean_ebook_names:\n",
    "    print(book)"
   ]
  },
  {
   "cell_type": "markdown",
   "id": "ea14d3de-704c-4ff4-97b2-84be4c6486f6",
   "metadata": {},
   "source": [
    "## END"
   ]
  },
  {
   "cell_type": "markdown",
   "id": "0d127c48-a05d-4896-b22e-0456ee0bbc83",
   "metadata": {},
   "source": [
    "### Activity 10"
   ]
  },
  {
   "cell_type": "markdown",
   "id": "0b0d2b36-8e0f-4233-b75f-d9485e5929f1",
   "metadata": {},
   "source": [
    "#### import required libraries"
   ]
  },
  {
   "cell_type": "code",
   "execution_count": 20,
   "id": "7b83c1e9-0627-4319-add4-3f368a18e3df",
   "metadata": {},
   "outputs": [],
   "source": [
    "import json\n",
    "import os\n",
    "\n",
    "from urllib import request, parse, error"
   ]
  },
  {
   "cell_type": "code",
   "execution_count": 21,
   "id": "395a123e-1e3e-46b2-8f9d-f9f5bb12952d",
   "metadata": {},
   "outputs": [],
   "source": [
    "# save url and api key in variables\n",
    "\n",
    "base_url = 'http://www.omdbapi.com/?'\n",
    "key_part = '&apikey='"
   ]
  },
  {
   "cell_type": "code",
   "execution_count": 22,
   "id": "34779c5d-b896-4276-87c2-d5a42f47547d",
   "metadata": {},
   "outputs": [],
   "source": [
    "# load apikey from json fiile\n",
    "\n",
    "with open('omdb_api_key.json') as file:\n",
    "    api_key = json.load(file)\n",
    "\n",
    "for key, value in api_key.items():\n",
    "    api_Key_var = key\n",
    "    api_key_value = value"
   ]
  },
  {
   "cell_type": "code",
   "execution_count": 23,
   "id": "5b4a6101-b2ec-4623-aa50-a46327dc9bab",
   "metadata": {},
   "outputs": [],
   "source": [
    "# create utility function to print movie data\n",
    "\n",
    "json_keys = ['Title', 'Year', 'Rated', 'Released', 'Runtime', 'Genre', 'Director', 'Writer', 'Actors', 'Plot', 'Language','Country', 'Awards', 'Ratings', 'Metascore', 'imdbRating', 'imdbVotes', 'imdbID']\n",
    "\n",
    "def print_json(data):\n",
    "    for k in json_keys:\n",
    "        if k in list(data.keys()):\n",
    "            print(f\"{k}:  {data[k]}\")"
   ]
  },
  {
   "cell_type": "code",
   "execution_count": 24,
   "id": "ff43a471-56fa-4bfc-815f-33dec8cbcc72",
   "metadata": {},
   "outputs": [],
   "source": [
    "# function to save poster of the movie from json data\n",
    "\n",
    "def save_poster_file(data):\n",
    "    title = data['Title']    # store movie title\n",
    "    poster_url = data['Poster']\n",
    "    poster_file = request.urlopen(poster_url).read()\n",
    "    \n",
    "#   save the file\n",
    "    save_loc = os.getcwd()+'/'+'Posters'+'/'\n",
    "    \n",
    "    file_name = save_loc+title\n",
    "    \n",
    "    with open(file_name,'wb') as f:\n",
    "        f.write(poster_file);\n"
   ]
  },
  {
   "cell_type": "code",
   "execution_count": 25,
   "id": "aeb3dbb3-e61e-4bd0-af73-0d56207640be",
   "metadata": {},
   "outputs": [],
   "source": [
    "# function to search movie from json data\n",
    "\n",
    "def search_movie(movie_title, save_poster):\n",
    "    \n",
    "    try:\n",
    "        # open api url\n",
    "        url = base_url+parse.urlencode({'t': str(movie_title)})+key_part+api_key_value\n",
    "        page = request.urlopen(url)\n",
    "        page_data = page.read()\n",
    "        data = json.loads(page_data)\n",
    "        \n",
    "        # check the response of json data\n",
    "\n",
    "        if data['Response'] =='True':\n",
    "            print_json(data)\n",
    "            \n",
    "            if save_poster in ['Yes', 'yes', 'YES']:\n",
    "                save_poster_file(data)\n",
    "            else:\n",
    "                print('Thanks')\n",
    "        else:\n",
    "            print(\"Unable to read movie details, error:\",data['Error'])\n",
    "            \n",
    "        \n",
    "    except error.URLError as er:\n",
    "        print('Error Received:',er)"
   ]
  },
  {
   "cell_type": "code",
   "execution_count": 26,
   "id": "02c3573b-b523-4254-a077-96c516c09982",
   "metadata": {
    "tags": []
   },
   "outputs": [
    {
     "name": "stdout",
     "output_type": "stream",
     "text": [
      "Requested Movie Details: \n",
      "****************************************\n",
      "Title:  Titanic\n",
      "Year:  1997\n",
      "Rated:  PG-13\n",
      "Released:  19 Dec 1997\n",
      "Runtime:  194 min\n",
      "Genre:  Drama, Romance\n",
      "Director:  James Cameron\n",
      "Writer:  James Cameron\n",
      "Actors:  Leonardo DiCaprio, Kate Winslet, Billy Zane\n",
      "Plot:  A seventeen-year-old aristocrat falls in love with a kind but poor artist aboard the luxurious, ill-fated R.M.S. Titanic.\n",
      "Language:  English, Swedish, Italian, French\n",
      "Country:  United States, Mexico, Australia\n",
      "Awards:  Won 11 Oscars. 125 wins & 83 nominations total\n",
      "Ratings:  [{'Source': 'Internet Movie Database', 'Value': '7.8/10'}, {'Source': 'Rotten Tomatoes', 'Value': '89%'}, {'Source': 'Metacritic', 'Value': '75/100'}]\n",
      "Metascore:  75\n",
      "imdbRating:  7.8\n",
      "imdbVotes:  1,098,236\n",
      "imdbID:  tt0120338\n"
     ]
    }
   ],
   "source": [
    "# Test the function by providing movie title and to download poster or not\n",
    "\n",
    "movie_title = 'Titanic'\n",
    "save_poster = 'yes'\n",
    "print('Requested Movie Details: ')\n",
    "print('*'*40)\n",
    "\n",
    "search_movie(movie_title,save_poster)"
   ]
  },
  {
   "cell_type": "code",
   "execution_count": 27,
   "id": "11648549-d1e8-40ca-acb1-be4b81cd411a",
   "metadata": {},
   "outputs": [
    {
     "name": "stdout",
     "output_type": "stream",
     "text": [
      "Requested Movie Details: \n",
      "****************************************\n",
      "Unable to read movie details, error: Movie not found!\n"
     ]
    }
   ],
   "source": [
    "# test function by providing invalid movie name\n",
    "\n",
    "movie_title = 'Random_error'\n",
    "save_poster = 'yes'\n",
    "print('Requested Movie Details: ')\n",
    "print('*'*40)\n",
    "\n",
    "search_movie(movie_title,save_poster)"
   ]
  },
  {
   "cell_type": "markdown",
   "id": "7f30621f-caf4-4973-8b91-fe3291ae399f",
   "metadata": {},
   "source": [
    "## END"
   ]
  },
  {
   "cell_type": "markdown",
   "id": "e7962dfb-b147-4f62-b018-36f4ab75ab0e",
   "metadata": {},
   "source": [
    "### Twitter API"
   ]
  },
  {
   "cell_type": "code",
   "execution_count": 215,
   "id": "c55b71b3-99a2-43fa-b1be-4e937116d254",
   "metadata": {},
   "outputs": [],
   "source": [
    "# # load required libraries\n",
    "\n",
    "import twitter"
   ]
  },
  {
   "cell_type": "code",
   "execution_count": 260,
   "id": "9b5f5ee8-f8d2-4588-b816-e8ca1280a7fb",
   "metadata": {},
   "outputs": [],
   "source": [
    "# get the key and tokens needed to access twitter data by running notebook where all keys are stored\n",
    "\n",
    "%run ./twitter_keys.ipynb"
   ]
  },
  {
   "cell_type": "code",
   "execution_count": 261,
   "id": "6c4a8899-1e4f-4255-a2c6-686e9b41f6de",
   "metadata": {},
   "outputs": [],
   "source": [
    "# authenticate access by providing required keys and tokens\n",
    "\n",
    "api = twitter.Api(consumer_key=api_key,\n",
    "  consumer_secret=api_key_secret,\n",
    "    access_token_key=access_token,\n",
    "    access_token_secret=access_token_secret)"
   ]
  },
  {
   "cell_type": "code",
   "execution_count": 253,
   "id": "d3b591cc-c1d3-41de-ae1f-b6024a09daa8",
   "metadata": {
    "tags": []
   },
   "outputs": [],
   "source": [
    "# get usertime line for specific screen name\n",
    "\n",
    "screen_name = 'BellevueU'\n",
    "tweets = api.GetUserTimeline(screen_name=screen_name,count=100) "
   ]
  },
  {
   "cell_type": "code",
   "execution_count": 256,
   "id": "87ac096d-1486-46ce-ae47-f00eafbf077f",
   "metadata": {},
   "outputs": [],
   "source": [
    "# create variables to pull twitter data and store info in\n",
    "\n",
    "tweets_text = []\n",
    "likes = []\n",
    "time = []\n",
    "retweet_count = []\n",
    "truncated = []\n",
    "\n",
    "# function to pull data from twitter and creaet dataframe\n",
    "\n",
    "def create_df(tweets):\n",
    "    for t in tweets:\n",
    "        tweets_text.append(t.text)\n",
    "        likes.append(t.favorite_count)\n",
    "        time.append(t.created_at)\n",
    "        retweet_count.append(t.retweet_count)\n",
    "        truncated.append(t.truncated)\n",
    "    \n",
    "    # create df and store all these info\n",
    "\n",
    "    df = pd.DataFrame({'tweets':tweets_text,'likes':likes,'times':time,'retweet_count':retweet_count,'truncated':truncated})\n",
    "    \n",
    "    return df"
   ]
  },
  {
   "cell_type": "code",
   "execution_count": 257,
   "id": "6857e9ac-69f8-4d11-b036-051ca98598f4",
   "metadata": {},
   "outputs": [
    {
     "data": {
      "text/plain": [
       "(100, 5)"
      ]
     },
     "execution_count": 257,
     "metadata": {},
     "output_type": "execute_result"
    },
    {
     "data": {
      "text/html": [
       "<div>\n",
       "<style scoped>\n",
       "    .dataframe tbody tr th:only-of-type {\n",
       "        vertical-align: middle;\n",
       "    }\n",
       "\n",
       "    .dataframe tbody tr th {\n",
       "        vertical-align: top;\n",
       "    }\n",
       "\n",
       "    .dataframe thead th {\n",
       "        text-align: right;\n",
       "    }\n",
       "</style>\n",
       "<table border=\"1\" class=\"dataframe\">\n",
       "  <thead>\n",
       "    <tr style=\"text-align: right;\">\n",
       "      <th></th>\n",
       "      <th>tweets</th>\n",
       "      <th>likes</th>\n",
       "      <th>times</th>\n",
       "      <th>retweet_count</th>\n",
       "      <th>truncated</th>\n",
       "    </tr>\n",
       "  </thead>\n",
       "  <tbody>\n",
       "    <tr>\n",
       "      <th>0</th>\n",
       "      <td>Happy #NationalCareerDevelopmentMonth! Every B...</td>\n",
       "      <td>3</td>\n",
       "      <td>Fri Nov 05 17:00:05 +0000 2021</td>\n",
       "      <td>0</td>\n",
       "      <td>True</td>\n",
       "    </tr>\n",
       "    <tr>\n",
       "      <th>1</th>\n",
       "      <td>It's an absolute honor for us to help our coun...</td>\n",
       "      <td>2</td>\n",
       "      <td>Thu Nov 04 15:22:26 +0000 2021</td>\n",
       "      <td>0</td>\n",
       "      <td>True</td>\n",
       "    </tr>\n",
       "    <tr>\n",
       "      <th>2</th>\n",
       "      <td>BOO! We make school less scary. #HappyHallowee...</td>\n",
       "      <td>2</td>\n",
       "      <td>Sun Oct 31 19:54:27 +0000 2021</td>\n",
       "      <td>0</td>\n",
       "      <td>False</td>\n",
       "    </tr>\n",
       "    <tr>\n",
       "      <th>3</th>\n",
       "      <td>What's your favorite thing about fall? Is it t...</td>\n",
       "      <td>0</td>\n",
       "      <td>Sat Oct 30 17:01:07 +0000 2021</td>\n",
       "      <td>0</td>\n",
       "      <td>True</td>\n",
       "    </tr>\n",
       "    <tr>\n",
       "      <th>4</th>\n",
       "      <td>https://t.co/dEIecVfwkw</td>\n",
       "      <td>3</td>\n",
       "      <td>Fri Oct 29 18:19:39 +0000 2021</td>\n",
       "      <td>1</td>\n",
       "      <td>False</td>\n",
       "    </tr>\n",
       "  </tbody>\n",
       "</table>\n",
       "</div>"
      ],
      "text/plain": [
       "                                              tweets  likes  \\\n",
       "0  Happy #NationalCareerDevelopmentMonth! Every B...      3   \n",
       "1  It's an absolute honor for us to help our coun...      2   \n",
       "2  BOO! We make school less scary. #HappyHallowee...      2   \n",
       "3  What's your favorite thing about fall? Is it t...      0   \n",
       "4                            https://t.co/dEIecVfwkw      3   \n",
       "\n",
       "                            times  retweet_count  truncated  \n",
       "0  Fri Nov 05 17:00:05 +0000 2021              0       True  \n",
       "1  Thu Nov 04 15:22:26 +0000 2021              0       True  \n",
       "2  Sun Oct 31 19:54:27 +0000 2021              0      False  \n",
       "3  Sat Oct 30 17:01:07 +0000 2021              0       True  \n",
       "4  Fri Oct 29 18:19:39 +0000 2021              1      False  "
      ]
     },
     "execution_count": 257,
     "metadata": {},
     "output_type": "execute_result"
    }
   ],
   "source": [
    "# dispaly head of df\n",
    "\n",
    "bu_df = create_df(tweets)\n",
    "\n",
    "# display shape and head of df\n",
    "\n",
    "bu_df.shape\n",
    "bu_df.head()"
   ]
  },
  {
   "cell_type": "markdown",
   "id": "fe62fde5-bab4-43f8-8bee-0c50bbbbca82",
   "metadata": {},
   "source": [
    "### Pull tweets of virendersehwag  - an Indian ex-cricketer "
   ]
  },
  {
   "cell_type": "code",
   "execution_count": 270,
   "id": "dcf73030-5e5c-4b25-9965-a21898c3df7e",
   "metadata": {},
   "outputs": [],
   "source": [
    "# get usertime line for specific screen name\n",
    "\n",
    "screen_name = 'virendersehwag'\n",
    "vieu_tweets = api.GetUserTimeline(screen_name=screen_name,count=600) "
   ]
  },
  {
   "cell_type": "code",
   "execution_count": 272,
   "id": "d3e57cc7-20f7-47a9-8a2b-167225b3663e",
   "metadata": {},
   "outputs": [
    {
     "data": {
      "text/plain": [
       "(600, 5)"
      ]
     },
     "execution_count": 272,
     "metadata": {},
     "output_type": "execute_result"
    },
    {
     "data": {
      "text/html": [
       "<div>\n",
       "<style scoped>\n",
       "    .dataframe tbody tr th:only-of-type {\n",
       "        vertical-align: middle;\n",
       "    }\n",
       "\n",
       "    .dataframe tbody tr th {\n",
       "        vertical-align: top;\n",
       "    }\n",
       "\n",
       "    .dataframe thead th {\n",
       "        text-align: right;\n",
       "    }\n",
       "</style>\n",
       "<table border=\"1\" class=\"dataframe\">\n",
       "  <thead>\n",
       "    <tr style=\"text-align: right;\">\n",
       "      <th></th>\n",
       "      <th>tweets</th>\n",
       "      <th>likes</th>\n",
       "      <th>times</th>\n",
       "      <th>retweet_count</th>\n",
       "      <th>truncated</th>\n",
       "    </tr>\n",
       "  </thead>\n",
       "  <tbody>\n",
       "    <tr>\n",
       "      <th>297</th>\n",
       "      <td>She has created history. \\nThe first ever woma...</td>\n",
       "      <td>42180</td>\n",
       "      <td>Mon Aug 30 02:57:54 +0000 2021</td>\n",
       "      <td>4398</td>\n",
       "      <td>True</td>\n",
       "    </tr>\n",
       "    <tr>\n",
       "      <th>65</th>\n",
       "      <td>#OpenHouse TODAY, Aug. 24, 3-6:30 p.m. on the ...</td>\n",
       "      <td>2</td>\n",
       "      <td>Tue Aug 24 17:11:21 +0000 2021</td>\n",
       "      <td>0</td>\n",
       "      <td>True</td>\n",
       "    </tr>\n",
       "    <tr>\n",
       "      <th>294</th>\n",
       "      <td>@DaleSteyn62 Go well, great man. You were fire...</td>\n",
       "      <td>17851</td>\n",
       "      <td>Tue Aug 31 10:35:23 +0000 2021</td>\n",
       "      <td>894</td>\n",
       "      <td>False</td>\n",
       "    </tr>\n",
       "    <tr>\n",
       "      <th>114</th>\n",
       "      <td>Thank you to each one of you who took time to ...</td>\n",
       "      <td>44214</td>\n",
       "      <td>Wed Oct 20 16:36:34 +0000 2021</td>\n",
       "      <td>1535</td>\n",
       "      <td>False</td>\n",
       "    </tr>\n",
       "    <tr>\n",
       "      <th>190</th>\n",
       "      <td>What Joy. Emotions.Hardwork. Innocence.  Perse...</td>\n",
       "      <td>20405</td>\n",
       "      <td>Sat Sep 04 13:07:30 +0000 2021</td>\n",
       "      <td>1688</td>\n",
       "      <td>True</td>\n",
       "    </tr>\n",
       "  </tbody>\n",
       "</table>\n",
       "</div>"
      ],
      "text/plain": [
       "                                                tweets  likes  \\\n",
       "297  She has created history. \\nThe first ever woma...  42180   \n",
       "65   #OpenHouse TODAY, Aug. 24, 3-6:30 p.m. on the ...      2   \n",
       "294  @DaleSteyn62 Go well, great man. You were fire...  17851   \n",
       "114  Thank you to each one of you who took time to ...  44214   \n",
       "190  What Joy. Emotions.Hardwork. Innocence.  Perse...  20405   \n",
       "\n",
       "                              times  retweet_count  truncated  \n",
       "297  Mon Aug 30 02:57:54 +0000 2021           4398       True  \n",
       "65   Tue Aug 24 17:11:21 +0000 2021              0       True  \n",
       "294  Tue Aug 31 10:35:23 +0000 2021            894      False  \n",
       "114  Wed Oct 20 16:36:34 +0000 2021           1535      False  \n",
       "190  Sat Sep 04 13:07:30 +0000 2021           1688       True  "
      ]
     },
     "execution_count": 272,
     "metadata": {},
     "output_type": "execute_result"
    }
   ],
   "source": [
    "# dispaly head of df\n",
    "\n",
    "viru = create_df(vieu_tweets)\n",
    "\n",
    "# display shape and sampel tweets of df\n",
    "\n",
    "viru.shape\n",
    "viru.sample(5)"
   ]
  },
  {
   "cell_type": "markdown",
   "id": "5d9de48b-7d2b-4b4d-97dc-b2eb637e6afd",
   "metadata": {},
   "source": [
    "## END"
   ]
  },
  {
   "cell_type": "markdown",
   "id": "14d45893-4ffd-408d-9028-0195472f44db",
   "metadata": {},
   "source": [
    "### Visualizations"
   ]
  },
  {
   "cell_type": "code",
   "execution_count": 61,
   "id": "814d6308-27f1-43f0-82c3-4236252eb174",
   "metadata": {},
   "outputs": [],
   "source": [
    "# load the data - austin housing prices\n",
    "\n",
    "austin = pd.read_csv('Data/austinHousingData.csv')"
   ]
  },
  {
   "cell_type": "code",
   "execution_count": 62,
   "id": "0c11e19f-73c0-49fc-8590-bacfd94e894a",
   "metadata": {
    "collapsed": true,
    "jupyter": {
     "outputs_hidden": true
    },
    "tags": []
   },
   "outputs": [
    {
     "data": {
      "text/plain": [
       "(15171, 29)"
      ]
     },
     "execution_count": 62,
     "metadata": {},
     "output_type": "execute_result"
    },
    {
     "data": {
      "text/html": [
       "<div>\n",
       "<style scoped>\n",
       "    .dataframe tbody tr th:only-of-type {\n",
       "        vertical-align: middle;\n",
       "    }\n",
       "\n",
       "    .dataframe tbody tr th {\n",
       "        vertical-align: top;\n",
       "    }\n",
       "\n",
       "    .dataframe thead th {\n",
       "        text-align: right;\n",
       "    }\n",
       "</style>\n",
       "<table border=\"1\" class=\"dataframe\">\n",
       "  <thead>\n",
       "    <tr style=\"text-align: right;\">\n",
       "      <th></th>\n",
       "      <th>zpid</th>\n",
       "      <th>city</th>\n",
       "      <th>streetAddress</th>\n",
       "      <th>zipcode</th>\n",
       "      <th>description</th>\n",
       "      <th>latitude</th>\n",
       "      <th>longitude</th>\n",
       "      <th>propertyTaxRate</th>\n",
       "      <th>garageSpaces</th>\n",
       "      <th>hasAssociation</th>\n",
       "      <th>...</th>\n",
       "      <th>numPriceChanges</th>\n",
       "      <th>latest_saledate</th>\n",
       "      <th>latest_salemonth</th>\n",
       "      <th>latest_saleyear</th>\n",
       "      <th>latestPriceSource</th>\n",
       "      <th>lotSizeSqFt</th>\n",
       "      <th>livingAreaSqFt</th>\n",
       "      <th>numOfBathrooms</th>\n",
       "      <th>numOfBedrooms</th>\n",
       "      <th>numOfStories</th>\n",
       "    </tr>\n",
       "  </thead>\n",
       "  <tbody>\n",
       "    <tr>\n",
       "      <th>0</th>\n",
       "      <td>111373431</td>\n",
       "      <td>pflugerville</td>\n",
       "      <td>14424 Lake Victor Dr</td>\n",
       "      <td>78660.0</td>\n",
       "      <td>14424 Lake Victor Dr, Pflugerville, TX 78660 i...</td>\n",
       "      <td>30.430632</td>\n",
       "      <td>-97.663078</td>\n",
       "      <td>1.98</td>\n",
       "      <td>2</td>\n",
       "      <td>True</td>\n",
       "      <td>...</td>\n",
       "      <td>5</td>\n",
       "      <td>9/2/19</td>\n",
       "      <td>9</td>\n",
       "      <td>2019</td>\n",
       "      <td>Coldwell Banker United, Realtors - South Austin</td>\n",
       "      <td>6011.0</td>\n",
       "      <td>2601</td>\n",
       "      <td>3.0</td>\n",
       "      <td>4</td>\n",
       "      <td>2</td>\n",
       "    </tr>\n",
       "    <tr>\n",
       "      <th>1</th>\n",
       "      <td>120900430</td>\n",
       "      <td>pflugerville</td>\n",
       "      <td>1104 Strickling Dr</td>\n",
       "      <td>78660.0</td>\n",
       "      <td>Absolutely GORGEOUS 4 Bedroom home with 2 full...</td>\n",
       "      <td>30.432672</td>\n",
       "      <td>-97.661697</td>\n",
       "      <td>1.98</td>\n",
       "      <td>2</td>\n",
       "      <td>True</td>\n",
       "      <td>...</td>\n",
       "      <td>1</td>\n",
       "      <td>10/13/20</td>\n",
       "      <td>10</td>\n",
       "      <td>2020</td>\n",
       "      <td>Agent Provided</td>\n",
       "      <td>6185.0</td>\n",
       "      <td>1768</td>\n",
       "      <td>2.0</td>\n",
       "      <td>4</td>\n",
       "      <td>1</td>\n",
       "    </tr>\n",
       "    <tr>\n",
       "      <th>2</th>\n",
       "      <td>2084491383</td>\n",
       "      <td>pflugerville</td>\n",
       "      <td>1408 Fort Dessau Rd</td>\n",
       "      <td>78660.0</td>\n",
       "      <td>Under construction - estimated completion in A...</td>\n",
       "      <td>30.409748</td>\n",
       "      <td>-97.639771</td>\n",
       "      <td>1.98</td>\n",
       "      <td>0</td>\n",
       "      <td>True</td>\n",
       "      <td>...</td>\n",
       "      <td>1</td>\n",
       "      <td>7/31/19</td>\n",
       "      <td>7</td>\n",
       "      <td>2019</td>\n",
       "      <td>Agent Provided</td>\n",
       "      <td>7840.0</td>\n",
       "      <td>1478</td>\n",
       "      <td>2.0</td>\n",
       "      <td>3</td>\n",
       "      <td>1</td>\n",
       "    </tr>\n",
       "    <tr>\n",
       "      <th>3</th>\n",
       "      <td>120901374</td>\n",
       "      <td>pflugerville</td>\n",
       "      <td>1025 Strickling Dr</td>\n",
       "      <td>78660.0</td>\n",
       "      <td>Absolutely darling one story home in charming ...</td>\n",
       "      <td>30.432112</td>\n",
       "      <td>-97.661659</td>\n",
       "      <td>1.98</td>\n",
       "      <td>2</td>\n",
       "      <td>True</td>\n",
       "      <td>...</td>\n",
       "      <td>4</td>\n",
       "      <td>8/8/18</td>\n",
       "      <td>8</td>\n",
       "      <td>2018</td>\n",
       "      <td>Agent Provided</td>\n",
       "      <td>6098.0</td>\n",
       "      <td>1678</td>\n",
       "      <td>2.0</td>\n",
       "      <td>3</td>\n",
       "      <td>1</td>\n",
       "    </tr>\n",
       "    <tr>\n",
       "      <th>4</th>\n",
       "      <td>60134862</td>\n",
       "      <td>pflugerville</td>\n",
       "      <td>15005 Donna Jane Loop</td>\n",
       "      <td>78660.0</td>\n",
       "      <td>Brimming with appeal &amp; warm livability! Sleek ...</td>\n",
       "      <td>30.437368</td>\n",
       "      <td>-97.656860</td>\n",
       "      <td>1.98</td>\n",
       "      <td>0</td>\n",
       "      <td>True</td>\n",
       "      <td>...</td>\n",
       "      <td>3</td>\n",
       "      <td>10/31/18</td>\n",
       "      <td>10</td>\n",
       "      <td>2018</td>\n",
       "      <td>Agent Provided</td>\n",
       "      <td>6708.0</td>\n",
       "      <td>2132</td>\n",
       "      <td>3.0</td>\n",
       "      <td>3</td>\n",
       "      <td>2</td>\n",
       "    </tr>\n",
       "  </tbody>\n",
       "</table>\n",
       "<p>5 rows × 29 columns</p>\n",
       "</div>"
      ],
      "text/plain": [
       "         zpid          city          streetAddress  zipcode  \\\n",
       "0   111373431  pflugerville   14424 Lake Victor Dr  78660.0   \n",
       "1   120900430  pflugerville     1104 Strickling Dr  78660.0   \n",
       "2  2084491383  pflugerville    1408 Fort Dessau Rd  78660.0   \n",
       "3   120901374  pflugerville     1025 Strickling Dr  78660.0   \n",
       "4    60134862  pflugerville  15005 Donna Jane Loop  78660.0   \n",
       "\n",
       "                                         description   latitude  longitude  \\\n",
       "0  14424 Lake Victor Dr, Pflugerville, TX 78660 i...  30.430632 -97.663078   \n",
       "1  Absolutely GORGEOUS 4 Bedroom home with 2 full...  30.432672 -97.661697   \n",
       "2  Under construction - estimated completion in A...  30.409748 -97.639771   \n",
       "3  Absolutely darling one story home in charming ...  30.432112 -97.661659   \n",
       "4  Brimming with appeal & warm livability! Sleek ...  30.437368 -97.656860   \n",
       "\n",
       "   propertyTaxRate  garageSpaces  hasAssociation  ...  numPriceChanges  \\\n",
       "0             1.98             2            True  ...                5   \n",
       "1             1.98             2            True  ...                1   \n",
       "2             1.98             0            True  ...                1   \n",
       "3             1.98             2            True  ...                4   \n",
       "4             1.98             0            True  ...                3   \n",
       "\n",
       "   latest_saledate  latest_salemonth  latest_saleyear  \\\n",
       "0           9/2/19                 9             2019   \n",
       "1         10/13/20                10             2020   \n",
       "2          7/31/19                 7             2019   \n",
       "3           8/8/18                 8             2018   \n",
       "4         10/31/18                10             2018   \n",
       "\n",
       "                                 latestPriceSource lotSizeSqFt  \\\n",
       "0  Coldwell Banker United, Realtors - South Austin      6011.0   \n",
       "1                                   Agent Provided      6185.0   \n",
       "2                                   Agent Provided      7840.0   \n",
       "3                                   Agent Provided      6098.0   \n",
       "4                                   Agent Provided      6708.0   \n",
       "\n",
       "   livingAreaSqFt  numOfBathrooms  numOfBedrooms  numOfStories  \n",
       "0            2601             3.0              4             2  \n",
       "1            1768             2.0              4             1  \n",
       "2            1478             2.0              3             1  \n",
       "3            1678             2.0              3             1  \n",
       "4            2132             3.0              3             2  \n",
       "\n",
       "[5 rows x 29 columns]"
      ]
     },
     "execution_count": 62,
     "metadata": {},
     "output_type": "execute_result"
    }
   ],
   "source": [
    "# display shape and head of data\n",
    "\n",
    "austin.shape\n",
    "austin.head()"
   ]
  },
  {
   "cell_type": "markdown",
   "id": "1aed0242-c7d8-427a-9ce7-1b8ed1c5d129",
   "metadata": {},
   "source": [
    "## Line chart:"
   ]
  },
  {
   "cell_type": "code",
   "execution_count": 277,
   "id": "b10e2e76-98f9-4ae8-8d1c-7646246ee024",
   "metadata": {
    "tags": []
   },
   "outputs": [
    {
     "data": {
      "image/png": "[encoded data removed]",
      "text/plain": [
       "<Figure size 1224x504 with 1 Axes>"
      ]
     },
     "metadata": {},
     "output_type": "display_data"
    }
   ],
   "source": [
    "# display house sold trend for year 2020 in each month\n",
    "\n",
    "# create df for year 2020\n",
    "yr_2020 = austin[austin['latest_saleyear']==2020]\n",
    "\n",
    "# set fig size and style\n",
    "\n",
    "plt.figure(figsize=(17,7))\n",
    "sns.set(style='white')\n",
    "\n",
    "# plot the line chart\n",
    "sns.lineplot(x=yr_2020['latest_salemonth'].value_counts().keys(), y = yr_2020['latest_salemonth'].value_counts().values)\n",
    "plt.title('Year 2020 House Sold Trend by Month',{'color':'red','size':16})\n",
    "plt.ylabel('House Sold Count')\n",
    "plt.xlabel('Months')\n",
    "for i,j in yr_2020['latest_salemonth'].value_counts().items():\n",
    "    plt.annotate(str(j), xy=(i, j))\n",
    "plt.show();"
   ]
  },
  {
   "cell_type": "markdown",
   "id": "6c98e066-f6c6-4f84-85eb-0bbeda29aade",
   "metadata": {},
   "source": [
    "Based on above line chart we can see in year 2020 july month most number houses were sold and in January least number of houses were sold."
   ]
  },
  {
   "cell_type": "markdown",
   "id": "b20bec22-a8c5-46e0-aa3b-9448f9b66bac",
   "metadata": {},
   "source": [
    "### Scatter Plot"
   ]
  },
  {
   "cell_type": "code",
   "execution_count": 79,
   "id": "eb6ac189-0ae0-4f84-80dd-bdec6c5f278f",
   "metadata": {},
   "outputs": [
    {
     "data": {
      "image/png": "[encoded data removed]",
      "text/plain": [
       "<Figure size 1224x504 with 1 Axes>"
      ]
     },
     "metadata": {},
     "output_type": "display_data"
    }
   ],
   "source": [
    "# show the house price- latestPrice vs livingAreaSqFt\n",
    "\n",
    "# remove outlier from living area and save into new df\n",
    "\n",
    "austin_scatter = austin[austin['livingAreaSqFt']<20000]\n",
    "\n",
    "# set fig size and style\n",
    "\n",
    "plt.figure(figsize=(17,7))\n",
    "sns.set(style='white')\n",
    "\n",
    "sns.scatterplot(data = austin_scatter, x = 'livingAreaSqFt', y ='latestPrice' )\n",
    "plt.title('House Price vs Living Area',{'color':'red','size':16})\n",
    "plt.ylabel('House Price')\n",
    "plt.xlabel('Living Area');"
   ]
  },
  {
   "cell_type": "markdown",
   "id": "9cfaa39b-d690-4d5f-8765-6332b7eef81f",
   "metadata": {},
   "source": [
    "Based on scatter plot we see the as area of house increases the house price is also increases, so they both are correlated to each other."
   ]
  },
  {
   "cell_type": "markdown",
   "id": "18b367ee-510e-49dc-aea4-aa78e94eaa7b",
   "metadata": {},
   "source": [
    "### Bar Plot"
   ]
  },
  {
   "cell_type": "code",
   "execution_count": 85,
   "id": "2cf8c098-fdbc-48f0-aa91-c93a04393069",
   "metadata": {},
   "outputs": [
    {
     "data": {
      "image/png": "[encoded data removed]",
      "text/plain": [
       "<Figure size 1224x504 with 1 Axes>"
      ]
     },
     "metadata": {},
     "output_type": "display_data"
    }
   ],
   "source": [
    "# lets see distribution number of bathroom houses using bar chart\n",
    "\n",
    "# set fig size and style\n",
    "\n",
    "plt.figure(figsize=(17,7))\n",
    "sns.set(style='white')\n",
    "\n",
    "sns.barplot(x = austin['numOfBathrooms'].value_counts().keys(),y=austin['numOfBathrooms'].value_counts().values)\n",
    "plt.title('House Bathrooms Distribution',{'color':'red','size':16})\n",
    "plt.ylabel('Number of Houses')\n",
    "plt.xlabel('Number of Bathrooms');"
   ]
  },
  {
   "cell_type": "markdown",
   "id": "1c34c78d-e143-470a-938e-d8ba5a335a79",
   "metadata": {},
   "source": [
    "Based on above bar char we can see there are houses with no bathrooms and houses with more than 10 bathrooms.\n",
    "Majority of the houses are with bathrooms 2, 3 and 4"
   ]
  },
  {
   "cell_type": "markdown",
   "id": "fa12a6f3-41b4-46d6-a7eb-9bc828327e21",
   "metadata": {},
   "source": [
    "### Histogram"
   ]
  },
  {
   "cell_type": "code",
   "execution_count": 90,
   "id": "d0d0a636-928c-4040-a126-17b37ab12f10",
   "metadata": {},
   "outputs": [
    {
     "data": {
      "image/png": "[encoded data removed]",
      "text/plain": [
       "<Figure size 1224x504 with 1 Axes>"
      ]
     },
     "metadata": {},
     "output_type": "display_data"
    }
   ],
   "source": [
    "# lets see distrib ution of house prices for all houses\n",
    "\n",
    "# set fig size and style\n",
    "\n",
    "plt.figure(figsize=(17,7))\n",
    "sns.set(style='white')\n",
    "\n",
    "sns.histplot(data=austin,x='latestPrice',bins=150)\n",
    "plt.title('House Price Distribution',{'color':'red','size':16})\n",
    "plt.ylabel('Volume')\n",
    "plt.xlabel('House Price');"
   ]
  },
  {
   "cell_type": "markdown",
   "id": "4ca5f7c7-5c72-4c5d-a272-aea1cdbc324e",
   "metadata": {},
   "source": [
    "Based on above hstogram we see that there are outliers in house price and mean house price is around - 0.5M"
   ]
  },
  {
   "cell_type": "markdown",
   "id": "d8c6ba8f-e82d-42b8-b644-314dda1532b1",
   "metadata": {},
   "source": [
    "### Density Plot"
   ]
  },
  {
   "cell_type": "code",
   "execution_count": 213,
   "id": "b08020a7-f7b2-40d8-9909-823f07116c89",
   "metadata": {},
   "outputs": [
    {
     "data": {
      "image/png": "[encoded data removed]",
      "text/plain": [
       "<Figure size 1224x504 with 1 Axes>"
      ]
     },
     "metadata": {},
     "output_type": "display_data"
    }
   ],
   "source": [
    "# lets see distribution of house prices for all houses using density plot\n",
    "\n",
    "# set fig size and style\n",
    "\n",
    "plt.figure(figsize=(17,7))\n",
    "sns.set(style='white')\n",
    "\n",
    "sns.kdeplot(data=austin,x='latestPrice')\n",
    "plt.title('House Price Distribution',{'color':'red','size':16})\n",
    "plt.ylabel('Volume')\n",
    "plt.xlabel('House Price');"
   ]
  },
  {
   "cell_type": "markdown",
   "id": "9350212d-52fd-4e8f-b0f8-65a86b85d7d1",
   "metadata": {},
   "source": [
    "Based on above density plot it shows that the house prices are dense around 0.5M "
   ]
  },
  {
   "cell_type": "markdown",
   "id": "a9eac607-7810-4908-84bb-fe83aa2bb648",
   "metadata": {},
   "source": [
    "### Pie Chart"
   ]
  },
  {
   "cell_type": "code",
   "execution_count": 112,
   "id": "4df7bf91-9413-45ce-bd41-4069ea7a9ae3",
   "metadata": {},
   "outputs": [
    {
     "data": {
      "image/png": "[encoded data removed]",
      "text/plain": [
       "<Figure size 720x720 with 1 Axes>"
      ]
     },
     "metadata": {},
     "output_type": "display_data"
    }
   ],
   "source": [
    "# create pie chart to show distribution of houses sold in each year\n",
    "\n",
    "data = austin['latest_saleyear'].value_counts().values\n",
    "\n",
    "lables = austin['latest_saleyear'].value_counts().keys()\n",
    "\n",
    "#define Seaborn color palette to use\n",
    "\n",
    "colors = sns.color_palette('pastel')[0:4]\n",
    "\n",
    "\n",
    "# set fig size and style\n",
    "\n",
    "plt.figure(figsize=(10,10))\n",
    "\n",
    "\n",
    "#create pie chart\n",
    "plt.pie(data, labels = lables, colors = colors, autopct='%.0f%%')\n",
    "plt.title('House Sale Distribution by year',{'color':'red','size':16})\n",
    "plt.show();"
   ]
  },
  {
   "cell_type": "markdown",
   "id": "3c5b19ee-a800-4702-95be-894bc8a4ea63",
   "metadata": {},
   "source": [
    "Based on above pie chart it is clear that in 2021 very less houses were sold and 2019 and 2020 years where most house were sold"
   ]
  },
  {
   "cell_type": "markdown",
   "id": "ce6f2dce-4bc8-427c-a59a-d22398d657f2",
   "metadata": {},
   "source": [
    "## END"
   ]
  }
 ],
 "metadata": {
  "kernelspec": {
   "display_name": "Python 3",
   "language": "python",
   "name": "python3"
  },
  "language_info": {
   "codemirror_mode": {
    "name": "ipython",
    "version": 3
   },
   "file_extension": ".py",
   "mimetype": "text/x-python",
   "name": "python",
   "nbconvert_exporter": "python",
   "pygments_lexer": "ipython3",
   "version": "3.8.2"
  }
 },
 "nbformat": 4,
 "nbformat_minor": 5
}
