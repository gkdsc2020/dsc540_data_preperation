{
 "cells": [
  {
   "cell_type": "markdown",
   "id": "2fb4d64b-bbe6-405e-8325-69b9105baa14",
   "metadata": {},
   "source": [
    "## Author# Ganesh Kale\n",
    "## Project Milestone# 4\n",
    "## Date# Nov 5, 2021"
   ]
  },
  {
   "cell_type": "markdown",
   "id": "c98fa73e-ee8c-4923-863f-4f202ff97bbf",
   "metadata": {},
   "source": [
    "### Project Overview:\n",
    "\n",
    "Project Overview:\n",
    "House Prices in USA are booming, and house prices will continue to race ahead, at nearly twice the pace predicted before this year. This is what we hear or read when talk about housing market in USA. Buying house is very critical job, one should be aware of lots of things before buying house and when buying house nobody sure about when is the right time to buy house and wants to have some tool that would consider all the factors determining house price and predict the house price. Predicting the house price is challenging but doable and with help of machine learning algorithms this can be achieved.\n",
    "\n",
    "This is the topic chosen for the final project to make data ready by collecting from different sources and cleaning, transforming, and merging all these data to make it final dataset in the ready format for machine learning algorithms so predicting house price model can be developed by training and validating on housing market dataset.\n",
    "To build predicting house price model, we should consider different factors such as house information, and facilities available in neighborhood such school, hospitals etc.\n",
    "As part of this exercise, Austin, Texas housing market data will be collected from 3 difference sources such as csv file with house related information, json file for hospital in neighborhood and tabular data for school information from website.\n",
    "\n",
    "3. *Json File* – The neighborhood public health locations information is pulled from data.gov using API. The data is in json format, and it will have public health locations information such as facility name, address, hours of operation, website etc. Data dictionary has all the detailed information about this dataset. \n",
    "\n",
    "Link to data set – \n",
    "\n",
    "https://catalog.data.gov/dataset/austin-public-health-locations"
   ]
  },
  {
   "cell_type": "markdown",
   "id": "b6ae2545-bd0a-4da7-9c87-489e7291718a",
   "metadata": {},
   "source": [
    "### Json File – Public Health Information:\n",
    "\n",
    "This data set is pulled using api from data.gov and it will have below information:\n",
    "\n",
    "1. Facility Name – Name of health facility \n",
    "2. street_name – Street address of facility\n",
    "3. City\n",
    "4. State\n",
    "5. Zip Code – Zip code of facility\n",
    "6. Hours – Hours of operations of facility\n",
    "7. Website – Website of the facility\n",
    "8. Phone Number – Phone Number of the facility\n",
    "9. Building ID – Facility building identifier\n",
    "10. Ownership Status – The facility is leased or rented etc.\n",
    "11. Owner – Owner of the facility\n",
    "12. Occupying division – Kind of facility such community service or disease prevention etc\n",
    "13. Occupancy Type – Facility is clinic or hospital etc\n",
    "14. Area - Area of facility\n",
    "15. Year Built – What year facility was built.\n",
    "16. lat - latitude of location\n",
    "17. long - longitude of location"
   ]
  },
  {
   "cell_type": "markdown",
   "id": "3e51fb16-b0d9-40b6-bcb8-54361da28623",
   "metadata": {},
   "source": [
    "#### _import required packages_"
   ]
  },
  {
   "cell_type": "code",
   "execution_count": 1,
   "id": "032cb326-c681-45a6-a84e-cf2e873f4f6c",
   "metadata": {},
   "outputs": [],
   "source": [
    "import numpy as np  # for numeric operations\n",
    "import pandas as pd  # for data manipulation\n",
    "import matplotlib.pyplot as plt  # for data visualization\n",
    "import seaborn as sns  # for data visualization\n",
    "import random   # for generating random numbers\n",
    "\n",
    "from IPython.core.interactiveshell import InteractiveShell\n",
    "InteractiveShell.ast_node_interactivity = 'all'\n",
    "\n",
    "# import packages required for webscraping\n",
    "\n",
    "import requests\n",
    "from bs4 import BeautifulSoup\n",
    "from requests.auth import HTTPBasicAuth"
   ]
  },
  {
   "cell_type": "code",
   "execution_count": 2,
   "id": "a3463291-9773-44ad-a491-657da4e5d5c2",
   "metadata": {},
   "outputs": [],
   "source": [
    "# get the key and tokens needed to access twitter data by running notebook where all keys are stored\n",
    "\n",
    "%run ./twitter_keys.ipynb"
   ]
  },
  {
   "cell_type": "code",
   "execution_count": 3,
   "id": "e88c1748-c746-423f-8475-0f3f39072605",
   "metadata": {},
   "outputs": [
    {
     "data": {
      "text/plain": [
       "'https://data.austintexas.gov/api/views/6v78-dj3u/rows.json?accessType=DOWNLOAD'"
      ]
     },
     "execution_count": 3,
     "metadata": {},
     "output_type": "execute_result"
    }
   ],
   "source": [
    "# data source file path, this is open licence data set so key is not required\n",
    "\n",
    "base_url = \"https://data.austintexas.gov/api/views/6v78-dj3u/rows.json?accessType=DOWNLOAD\"\n",
    "base_url"
   ]
  },
  {
   "cell_type": "code",
   "execution_count": 4,
   "id": "8c28dbee-ddfc-48ec-afd6-5eccaa2f215d",
   "metadata": {},
   "outputs": [],
   "source": [
    " # get the json formatted data loaded to response variable\n",
    "    \n",
    "response = requests.get(base_url).json()"
   ]
  },
  {
   "cell_type": "code",
   "execution_count": 5,
   "id": "09ac0aa5-8270-48aa-ab6f-5e8c09660f83",
   "metadata": {},
   "outputs": [
    {
     "data": {
      "text/plain": [
       "['sid',\n",
       " 'id',\n",
       " 'position',\n",
       " 'created_at',\n",
       " 'created_meta',\n",
       " 'updated_at',\n",
       " 'updated_meta',\n",
       " 'meta',\n",
       " 'Facility Name',\n",
       " 'Street Address',\n",
       " 'Zip Code',\n",
       " 'Hours',\n",
       " 'Website',\n",
       " 'Phone Number',\n",
       " 'Other Phone',\n",
       " 'Building ID',\n",
       " 'Ownership Status',\n",
       " 'Owner',\n",
       " 'Occupying Division',\n",
       " 'Occupancy Type',\n",
       " 'Sq. Ft. ',\n",
       " 'Year Built ',\n",
       " 'Single Member Council Districts',\n",
       " 'Boundaries: Zip Code Tabulation Areas, 2017',\n",
       " 'BOUNDARIES_single_member_districts',\n",
       " 'Neighborhood Planning Areas',\n",
       " 'Community Registry',\n",
       " 'Zipcodes',\n",
       " 'Zip Codes',\n",
       " 'Zoning Review Cases_data']"
      ]
     },
     "execution_count": 5,
     "metadata": {},
     "output_type": "execute_result"
    }
   ],
   "source": [
    "# get the headers/columns of data\n",
    "\n",
    "headers = response['meta']['view']['columns']\n",
    "\n",
    "columns = []   # list to staore columnnames\n",
    "\n",
    "# iterate thru headers list and get values iwth key -name\n",
    "\n",
    "for col in headers:\n",
    "    columns.append(col['name'])\n",
    "    \n",
    "# display column names\n",
    "columns"
   ]
  },
  {
   "cell_type": "code",
   "execution_count": 6,
   "id": "e3f08eb5-2762-4afb-9357-82edbdc59bec",
   "metadata": {},
   "outputs": [],
   "source": [
    "# get the data from the response\n",
    "\n",
    "data = response['data']"
   ]
  },
  {
   "cell_type": "code",
   "execution_count": 7,
   "id": "9e366b1b-50b4-4e26-936e-5dd6009c614d",
   "metadata": {
    "tags": []
   },
   "outputs": [],
   "source": [
    "# create data frame \n",
    "\n",
    "austin_health_loc = pd.DataFrame(data=data, columns=columns)"
   ]
  },
  {
   "cell_type": "code",
   "execution_count": 8,
   "id": "a15178e7-a72f-4561-8a5c-a298201bd642",
   "metadata": {},
   "outputs": [
    {
     "data": {
      "text/plain": [
       "(32, 30)"
      ]
     },
     "execution_count": 8,
     "metadata": {},
     "output_type": "execute_result"
    },
    {
     "data": {
      "text/html": [
       "<div>\n",
       "<style scoped>\n",
       "    .dataframe tbody tr th:only-of-type {\n",
       "        vertical-align: middle;\n",
       "    }\n",
       "\n",
       "    .dataframe tbody tr th {\n",
       "        vertical-align: top;\n",
       "    }\n",
       "\n",
       "    .dataframe thead th {\n",
       "        text-align: right;\n",
       "    }\n",
       "</style>\n",
       "<table border=\"1\" class=\"dataframe\">\n",
       "  <thead>\n",
       "    <tr style=\"text-align: right;\">\n",
       "      <th></th>\n",
       "      <th>sid</th>\n",
       "      <th>id</th>\n",
       "      <th>position</th>\n",
       "      <th>created_at</th>\n",
       "      <th>created_meta</th>\n",
       "      <th>updated_at</th>\n",
       "      <th>updated_meta</th>\n",
       "      <th>meta</th>\n",
       "      <th>Facility Name</th>\n",
       "      <th>Street Address</th>\n",
       "      <th>...</th>\n",
       "      <th>Sq. Ft.</th>\n",
       "      <th>Year Built</th>\n",
       "      <th>Single Member Council Districts</th>\n",
       "      <th>Boundaries: Zip Code Tabulation Areas, 2017</th>\n",
       "      <th>BOUNDARIES_single_member_districts</th>\n",
       "      <th>Neighborhood Planning Areas</th>\n",
       "      <th>Community Registry</th>\n",
       "      <th>Zipcodes</th>\n",
       "      <th>Zip Codes</th>\n",
       "      <th>Zoning Review Cases_data</th>\n",
       "    </tr>\n",
       "  </thead>\n",
       "  <tbody>\n",
       "    <tr>\n",
       "      <th>0</th>\n",
       "      <td>row-9rcs~hagx_ij4a</td>\n",
       "      <td>00000000-0000-0000-7775-951E0F3DD617</td>\n",
       "      <td>0</td>\n",
       "      <td>1569615426</td>\n",
       "      <td>None</td>\n",
       "      <td>1569615427</td>\n",
       "      <td>None</td>\n",
       "      <td>{ }</td>\n",
       "      <td>Bastrop WIC Clinic</td>\n",
       "      <td>[{\"address\": \"443 Texas Highway 71\", \"city\": \"...</td>\n",
       "      <td>...</td>\n",
       "      <td>1400</td>\n",
       "      <td>N/A</td>\n",
       "      <td>None</td>\n",
       "      <td>None</td>\n",
       "      <td>None</td>\n",
       "      <td>None</td>\n",
       "      <td>None</td>\n",
       "      <td>56</td>\n",
       "      <td>20320</td>\n",
       "      <td>None</td>\n",
       "    </tr>\n",
       "    <tr>\n",
       "      <th>1</th>\n",
       "      <td>row-c77s.qiv9-eq5z</td>\n",
       "      <td>00000000-0000-0000-8E95-17F5A9BD81D4</td>\n",
       "      <td>0</td>\n",
       "      <td>1569615426</td>\n",
       "      <td>None</td>\n",
       "      <td>1569615427</td>\n",
       "      <td>None</td>\n",
       "      <td>{ }</td>\n",
       "      <td>Blackland Neighborhood Center</td>\n",
       "      <td>[{\"address\": \"2005 Salina St\", \"city\": \"Austin...</td>\n",
       "      <td>...</td>\n",
       "      <td>347</td>\n",
       "      <td>1984</td>\n",
       "      <td>1</td>\n",
       "      <td>11</td>\n",
       "      <td>8</td>\n",
       "      <td>27</td>\n",
       "      <td>309</td>\n",
       "      <td>74</td>\n",
       "      <td>2865</td>\n",
       "      <td>1169</td>\n",
       "    </tr>\n",
       "    <tr>\n",
       "      <th>2</th>\n",
       "      <td>row-nna7~xzkk~huih</td>\n",
       "      <td>00000000-0000-0000-9052-B968E577A5D4</td>\n",
       "      <td>0</td>\n",
       "      <td>1569615426</td>\n",
       "      <td>None</td>\n",
       "      <td>1569615427</td>\n",
       "      <td>None</td>\n",
       "      <td>{ }</td>\n",
       "      <td>Clarksville Community Health Center</td>\n",
       "      <td>[{\"address\": \"1000 Toyath Street\", \"city\": \"Au...</td>\n",
       "      <td>...</td>\n",
       "      <td>3500</td>\n",
       "      <td>N/A</td>\n",
       "      <td>9</td>\n",
       "      <td>26</td>\n",
       "      <td>10</td>\n",
       "      <td>72</td>\n",
       "      <td>126</td>\n",
       "      <td>69</td>\n",
       "      <td>2858</td>\n",
       "      <td>442</td>\n",
       "    </tr>\n",
       "    <tr>\n",
       "      <th>3</th>\n",
       "      <td>row-xxuz.ct79.bx7i</td>\n",
       "      <td>00000000-0000-0000-0BC7-A00BBB9D75E9</td>\n",
       "      <td>0</td>\n",
       "      <td>1569615426</td>\n",
       "      <td>None</td>\n",
       "      <td>1569615427</td>\n",
       "      <td>None</td>\n",
       "      <td>{ }</td>\n",
       "      <td>Del Valle WIC Clinic</td>\n",
       "      <td>[{\"address\": \"3518 FM 973\", \"city\": \"Del Valle...</td>\n",
       "      <td>...</td>\n",
       "      <td>1000</td>\n",
       "      <td>N/A</td>\n",
       "      <td>None</td>\n",
       "      <td>45</td>\n",
       "      <td>None</td>\n",
       "      <td>None</td>\n",
       "      <td>484</td>\n",
       "      <td>45</td>\n",
       "      <td>8002</td>\n",
       "      <td>None</td>\n",
       "    </tr>\n",
       "    <tr>\n",
       "      <th>4</th>\n",
       "      <td>row-ubqs.tdv2.k72g</td>\n",
       "      <td>00000000-0000-0000-D34A-3975CBB20ADB</td>\n",
       "      <td>0</td>\n",
       "      <td>1569615426</td>\n",
       "      <td>None</td>\n",
       "      <td>1569615427</td>\n",
       "      <td>None</td>\n",
       "      <td>{ }</td>\n",
       "      <td>East Austin Neighborhood Center</td>\n",
       "      <td>[{\"address\": \"211 Comal St\", \"city\": \"Austin\",...</td>\n",
       "      <td>...</td>\n",
       "      <td>4304</td>\n",
       "      <td>1981</td>\n",
       "      <td>3</td>\n",
       "      <td>7</td>\n",
       "      <td>3</td>\n",
       "      <td>35</td>\n",
       "      <td>309</td>\n",
       "      <td>1</td>\n",
       "      <td>2857</td>\n",
       "      <td>553</td>\n",
       "    </tr>\n",
       "  </tbody>\n",
       "</table>\n",
       "<p>5 rows × 30 columns</p>\n",
       "</div>"
      ],
      "text/plain": [
       "                  sid                                    id  position  \\\n",
       "0  row-9rcs~hagx_ij4a  00000000-0000-0000-7775-951E0F3DD617         0   \n",
       "1  row-c77s.qiv9-eq5z  00000000-0000-0000-8E95-17F5A9BD81D4         0   \n",
       "2  row-nna7~xzkk~huih  00000000-0000-0000-9052-B968E577A5D4         0   \n",
       "3  row-xxuz.ct79.bx7i  00000000-0000-0000-0BC7-A00BBB9D75E9         0   \n",
       "4  row-ubqs.tdv2.k72g  00000000-0000-0000-D34A-3975CBB20ADB         0   \n",
       "\n",
       "   created_at created_meta  updated_at updated_meta meta  \\\n",
       "0  1569615426         None  1569615427         None  { }   \n",
       "1  1569615426         None  1569615427         None  { }   \n",
       "2  1569615426         None  1569615427         None  { }   \n",
       "3  1569615426         None  1569615427         None  { }   \n",
       "4  1569615426         None  1569615427         None  { }   \n",
       "\n",
       "                         Facility Name  \\\n",
       "0                   Bastrop WIC Clinic   \n",
       "1        Blackland Neighborhood Center   \n",
       "2  Clarksville Community Health Center   \n",
       "3                 Del Valle WIC Clinic   \n",
       "4      East Austin Neighborhood Center   \n",
       "\n",
       "                                      Street Address  ... Sq. Ft.   \\\n",
       "0  [{\"address\": \"443 Texas Highway 71\", \"city\": \"...  ...     1400   \n",
       "1  [{\"address\": \"2005 Salina St\", \"city\": \"Austin...  ...      347   \n",
       "2  [{\"address\": \"1000 Toyath Street\", \"city\": \"Au...  ...     3500   \n",
       "3  [{\"address\": \"3518 FM 973\", \"city\": \"Del Valle...  ...     1000   \n",
       "4  [{\"address\": \"211 Comal St\", \"city\": \"Austin\",...  ...     4304   \n",
       "\n",
       "  Year Built  Single Member Council Districts  \\\n",
       "0         N/A                            None   \n",
       "1        1984                               1   \n",
       "2         N/A                               9   \n",
       "3         N/A                            None   \n",
       "4        1981                               3   \n",
       "\n",
       "  Boundaries: Zip Code Tabulation Areas, 2017  \\\n",
       "0                                        None   \n",
       "1                                          11   \n",
       "2                                          26   \n",
       "3                                          45   \n",
       "4                                           7   \n",
       "\n",
       "  BOUNDARIES_single_member_districts Neighborhood Planning Areas  \\\n",
       "0                               None                        None   \n",
       "1                                  8                          27   \n",
       "2                                 10                          72   \n",
       "3                               None                        None   \n",
       "4                                  3                          35   \n",
       "\n",
       "  Community Registry Zipcodes Zip Codes Zoning Review Cases_data  \n",
       "0               None       56     20320                     None  \n",
       "1                309       74      2865                     1169  \n",
       "2                126       69      2858                      442  \n",
       "3                484       45      8002                     None  \n",
       "4                309        1      2857                      553  \n",
       "\n",
       "[5 rows x 30 columns]"
      ]
     },
     "execution_count": 8,
     "metadata": {},
     "output_type": "execute_result"
    }
   ],
   "source": [
    "# display shape and head of new school data frame\n",
    "\n",
    "austin_health_loc.shape\n",
    "austin_health_loc.head()"
   ]
  },
  {
   "cell_type": "markdown",
   "id": "c9abd188-5ac3-49d1-b78b-a56d18036e46",
   "metadata": {},
   "source": [
    "## Data Cleaning and Transformation"
   ]
  },
  {
   "cell_type": "markdown",
   "id": "262fd199-bfb3-4ef1-a493-9192999e1cf6",
   "metadata": {},
   "source": [
    "### 1. Update Headers\n",
    "\n",
    "The data collected for Austin public health facilities have too many features we do not need them so remove unwanted features"
   ]
  },
  {
   "cell_type": "code",
   "execution_count": 9,
   "id": "0d7ccd57-bd75-45a8-8a26-bef0da49b898",
   "metadata": {},
   "outputs": [
    {
     "data": {
      "text/plain": [
       "Index(['sid', 'id', 'position', 'created_at', 'created_meta', 'updated_at',\n",
       "       'updated_meta', 'meta', 'Facility Name', 'Street Address', 'Zip Code',\n",
       "       'Hours', 'Website', 'Phone Number', 'Other Phone', 'Building ID',\n",
       "       'Ownership Status', 'Owner', 'Occupying Division', 'Occupancy Type',\n",
       "       'Sq. Ft. ', 'Year Built ', 'Single Member Council Districts',\n",
       "       'Boundaries: Zip Code Tabulation Areas, 2017',\n",
       "       'BOUNDARIES_single_member_districts', 'Neighborhood Planning Areas',\n",
       "       'Community Registry', 'Zipcodes', 'Zip Codes',\n",
       "       'Zoning Review Cases_data'],\n",
       "      dtype='object')"
      ]
     },
     "execution_count": 9,
     "metadata": {},
     "output_type": "execute_result"
    }
   ],
   "source": [
    "# display all columns\n",
    "\n",
    "austin_health_loc.columns"
   ]
  },
  {
   "cell_type": "code",
   "execution_count": 10,
   "id": "26233c54-3f71-4839-af13-918ae0c13513",
   "metadata": {},
   "outputs": [
    {
     "data": {
      "text/plain": [
       "['Facility Name',\n",
       " 'Street Address',\n",
       " 'Zip Code',\n",
       " 'Hours',\n",
       " 'Website',\n",
       " 'Phone Number',\n",
       " 'Other Phone',\n",
       " 'Building ID',\n",
       " 'Ownership Status',\n",
       " 'Owner',\n",
       " 'Occupying Division',\n",
       " 'Occupancy Type',\n",
       " 'Sq. Ft. ',\n",
       " 'Year Built ']"
      ]
     },
     "execution_count": 10,
     "metadata": {},
     "output_type": "execute_result"
    }
   ],
   "source": [
    "# remove unwanted headers and keep only required ones\n",
    "\n",
    "new_cols = ['Facility Name', 'Street Address', 'Zip Code',\n",
    "       'Hours', 'Website', 'Phone Number', 'Other Phone', 'Building ID',\n",
    "       'Ownership Status', 'Owner', 'Occupying Division', 'Occupancy Type',\n",
    "       'Sq. Ft. ', 'Year Built ']\n",
    "new_cols"
   ]
  },
  {
   "cell_type": "code",
   "execution_count": 11,
   "id": "24249290-30f6-466d-86e7-dbbf9005a39f",
   "metadata": {},
   "outputs": [
    {
     "data": {
      "text/plain": [
       "(32, 14)"
      ]
     },
     "execution_count": 11,
     "metadata": {},
     "output_type": "execute_result"
    },
    {
     "data": {
      "text/html": [
       "<div>\n",
       "<style scoped>\n",
       "    .dataframe tbody tr th:only-of-type {\n",
       "        vertical-align: middle;\n",
       "    }\n",
       "\n",
       "    .dataframe tbody tr th {\n",
       "        vertical-align: top;\n",
       "    }\n",
       "\n",
       "    .dataframe thead th {\n",
       "        text-align: right;\n",
       "    }\n",
       "</style>\n",
       "<table border=\"1\" class=\"dataframe\">\n",
       "  <thead>\n",
       "    <tr style=\"text-align: right;\">\n",
       "      <th></th>\n",
       "      <th>Facility Name</th>\n",
       "      <th>Street Address</th>\n",
       "      <th>Zip Code</th>\n",
       "      <th>Hours</th>\n",
       "      <th>Website</th>\n",
       "      <th>Phone Number</th>\n",
       "      <th>Other Phone</th>\n",
       "      <th>Building ID</th>\n",
       "      <th>Ownership Status</th>\n",
       "      <th>Owner</th>\n",
       "      <th>Occupying Division</th>\n",
       "      <th>Occupancy Type</th>\n",
       "      <th>Sq. Ft.</th>\n",
       "      <th>Year Built</th>\n",
       "    </tr>\n",
       "  </thead>\n",
       "  <tbody>\n",
       "    <tr>\n",
       "      <th>0</th>\n",
       "      <td>Bastrop WIC Clinic</td>\n",
       "      <td>[{\"address\": \"443 Texas Highway 71\", \"city\": \"...</td>\n",
       "      <td>78602</td>\n",
       "      <td>Monday 7:30am to 7pm, closed 12 noon to 1pm; T...</td>\n",
       "      <td>None</td>\n",
       "      <td>512-972-4942</td>\n",
       "      <td>None</td>\n",
       "      <td>BAS</td>\n",
       "      <td>Lease</td>\n",
       "      <td>The Marketplace at Bastrop</td>\n",
       "      <td>Community Services</td>\n",
       "      <td>Clinic</td>\n",
       "      <td>1400</td>\n",
       "      <td>N/A</td>\n",
       "    </tr>\n",
       "    <tr>\n",
       "      <th>1</th>\n",
       "      <td>Blackland Neighborhood Center</td>\n",
       "      <td>[{\"address\": \"2005 Salina St\", \"city\": \"Austin...</td>\n",
       "      <td>78722</td>\n",
       "      <td>Monday to Thursday 8am to 6pm; Friday 8am to 1...</td>\n",
       "      <td>None</td>\n",
       "      <td>512-972-5790</td>\n",
       "      <td>None</td>\n",
       "      <td>BNC</td>\n",
       "      <td>Own</td>\n",
       "      <td>City of Austin</td>\n",
       "      <td>Community Services</td>\n",
       "      <td>Neighborhood Center, Offices</td>\n",
       "      <td>347</td>\n",
       "      <td>1984</td>\n",
       "    </tr>\n",
       "    <tr>\n",
       "      <th>2</th>\n",
       "      <td>Clarksville Community Health Center</td>\n",
       "      <td>[{\"address\": \"1000 Toyath Street\", \"city\": \"Au...</td>\n",
       "      <td>78703</td>\n",
       "      <td>Monday to Friday, 8am - 4:30pm</td>\n",
       "      <td>[http://www.austintexas.gov/department/clarksv...</td>\n",
       "      <td>None</td>\n",
       "      <td>None</td>\n",
       "      <td>CNC</td>\n",
       "      <td>Own</td>\n",
       "      <td>City of Austin</td>\n",
       "      <td>Disease Prevnetion and Health Promotion</td>\n",
       "      <td>Clinic, Offices</td>\n",
       "      <td>3500</td>\n",
       "      <td>N/A</td>\n",
       "    </tr>\n",
       "    <tr>\n",
       "      <th>3</th>\n",
       "      <td>Del Valle WIC Clinic</td>\n",
       "      <td>[{\"address\": \"3518 FM 973\", \"city\": \"Del Valle...</td>\n",
       "      <td>78617</td>\n",
       "      <td>Monday 8am to 7pm; closed 12 noon to 12:30pm; ...</td>\n",
       "      <td>[http://www.austintexas.gov/department/del-val...</td>\n",
       "      <td>512-972-4942</td>\n",
       "      <td>None</td>\n",
       "      <td>DEL</td>\n",
       "      <td>N/A</td>\n",
       "      <td>Travis County</td>\n",
       "      <td>Community Services</td>\n",
       "      <td>Clinic</td>\n",
       "      <td>1000</td>\n",
       "      <td>N/A</td>\n",
       "    </tr>\n",
       "    <tr>\n",
       "      <th>4</th>\n",
       "      <td>East Austin Neighborhood Center</td>\n",
       "      <td>[{\"address\": \"211 Comal St\", \"city\": \"Austin\",...</td>\n",
       "      <td>78702</td>\n",
       "      <td>Monday toThursday 8am to 6pm; Friday 8am to noon</td>\n",
       "      <td>[http://www.austintexas.gov/department/east-au...</td>\n",
       "      <td>512-972-6650</td>\n",
       "      <td>None</td>\n",
       "      <td>EAN</td>\n",
       "      <td>Own</td>\n",
       "      <td>City of Austin</td>\n",
       "      <td>Community Services</td>\n",
       "      <td>Clinic, Neighborhood Center</td>\n",
       "      <td>4304</td>\n",
       "      <td>1981</td>\n",
       "    </tr>\n",
       "  </tbody>\n",
       "</table>\n",
       "</div>"
      ],
      "text/plain": [
       "                         Facility Name  \\\n",
       "0                   Bastrop WIC Clinic   \n",
       "1        Blackland Neighborhood Center   \n",
       "2  Clarksville Community Health Center   \n",
       "3                 Del Valle WIC Clinic   \n",
       "4      East Austin Neighborhood Center   \n",
       "\n",
       "                                      Street Address Zip Code  \\\n",
       "0  [{\"address\": \"443 Texas Highway 71\", \"city\": \"...    78602   \n",
       "1  [{\"address\": \"2005 Salina St\", \"city\": \"Austin...    78722   \n",
       "2  [{\"address\": \"1000 Toyath Street\", \"city\": \"Au...    78703   \n",
       "3  [{\"address\": \"3518 FM 973\", \"city\": \"Del Valle...    78617   \n",
       "4  [{\"address\": \"211 Comal St\", \"city\": \"Austin\",...    78702   \n",
       "\n",
       "                                               Hours  \\\n",
       "0  Monday 7:30am to 7pm, closed 12 noon to 1pm; T...   \n",
       "1  Monday to Thursday 8am to 6pm; Friday 8am to 1...   \n",
       "2                     Monday to Friday, 8am - 4:30pm   \n",
       "3  Monday 8am to 7pm; closed 12 noon to 12:30pm; ...   \n",
       "4   Monday toThursday 8am to 6pm; Friday 8am to noon   \n",
       "\n",
       "                                             Website  Phone Number  \\\n",
       "0                                               None  512-972-4942   \n",
       "1                                               None  512-972-5790   \n",
       "2  [http://www.austintexas.gov/department/clarksv...          None   \n",
       "3  [http://www.austintexas.gov/department/del-val...  512-972-4942   \n",
       "4  [http://www.austintexas.gov/department/east-au...  512-972-6650   \n",
       "\n",
       "  Other Phone Building ID Ownership Status                       Owner  \\\n",
       "0        None         BAS            Lease  The Marketplace at Bastrop   \n",
       "1        None         BNC              Own              City of Austin   \n",
       "2        None         CNC              Own              City of Austin   \n",
       "3        None         DEL              N/A              Travis County    \n",
       "4        None         EAN              Own              City of Austin   \n",
       "\n",
       "                        Occupying Division                 Occupancy Type  \\\n",
       "0                      Community Services                          Clinic   \n",
       "1                       Community Services  Neighborhood Center, Offices    \n",
       "2  Disease Prevnetion and Health Promotion               Clinic, Offices    \n",
       "3                      Community Services                         Clinic    \n",
       "4                      Community Services    Clinic, Neighborhood Center    \n",
       "\n",
       "  Sq. Ft.  Year Built   \n",
       "0     1400         N/A  \n",
       "1      347        1984  \n",
       "2     3500         N/A  \n",
       "3     1000         N/A  \n",
       "4     4304        1981  "
      ]
     },
     "execution_count": 11,
     "metadata": {},
     "output_type": "execute_result"
    }
   ],
   "source": [
    "# update health facility data set based on new columns\n",
    "\n",
    "austin_health_loc = austin_health_loc[new_cols]\n",
    "\n",
    "# display shape and head of new health locations data frame\n",
    "\n",
    "austin_health_loc.shape\n",
    "austin_health_loc.head()"
   ]
  },
  {
   "cell_type": "markdown",
   "id": "7a5c78ff-5baf-41a9-a76e-c1dffcde3cd5",
   "metadata": {},
   "source": [
    "### 2. Handle Missing Data"
   ]
  },
  {
   "cell_type": "code",
   "execution_count": 12,
   "id": "8a5a69be-31db-40b5-bcd9-139a04e5f003",
   "metadata": {},
   "outputs": [
    {
     "data": {
      "text/plain": [
       "Facility Name          0\n",
       "Street Address         0\n",
       "Zip Code               0\n",
       "Hours                  5\n",
       "Website                8\n",
       "Phone Number           2\n",
       "Other Phone           31\n",
       "Building ID            2\n",
       "Ownership Status       1\n",
       "Owner                  1\n",
       "Occupying Division     1\n",
       "Occupancy Type         1\n",
       "Sq. Ft.                2\n",
       "Year Built             1\n",
       "dtype: int64"
      ]
     },
     "execution_count": 12,
     "metadata": {},
     "output_type": "execute_result"
    }
   ],
   "source": [
    "# identify missing values\n",
    "\n",
    "austin_health_loc.isna().sum()"
   ]
  },
  {
   "cell_type": "code",
   "execution_count": 13,
   "id": "d4cb823f-c893-40c9-b599-eb9c58c3b39c",
   "metadata": {},
   "outputs": [
    {
     "data": {
      "image/png": "[encoded data removed]",
      "text/plain": [
       "<Figure size 1728x720 with 3 Axes>"
      ]
     },
     "metadata": {
      "needs_background": "light"
     },
     "output_type": "display_data"
    }
   ],
   "source": [
    "# display missing values\n",
    "\n",
    "import missingno as msno\n",
    "\n",
    "msno.bar(austin_health_loc, color='b');\n",
    "\n",
    "# it seems there are no missing values"
   ]
  },
  {
   "cell_type": "code",
   "execution_count": 14,
   "id": "c36958ad-7ddd-4104-b0ac-32740e4453e2",
   "metadata": {},
   "outputs": [
    {
     "data": {
      "text/plain": [
       "31"
      ]
     },
     "execution_count": 14,
     "metadata": {},
     "output_type": "execute_result"
    }
   ],
   "source": [
    "# it seems 'Other phone' feature have most blank values\n",
    "\n",
    "austin_health_loc['Other Phone'].isna().sum()"
   ]
  },
  {
   "cell_type": "code",
   "execution_count": 15,
   "id": "e5a9248e-f3e9-4040-9a44-87c80fb6461c",
   "metadata": {},
   "outputs": [],
   "source": [
    "# drop column \"Other Phone\" sinceit has only blank value\n",
    "\n",
    "austin_health_loc.drop('Other Phone',inplace=True,axis=1)"
   ]
  },
  {
   "cell_type": "code",
   "execution_count": 16,
   "id": "d726ae87-af35-4683-8aa0-b1e6958e6952",
   "metadata": {},
   "outputs": [],
   "source": [
    "# fill na for rest of the columns with padding\n",
    "\n",
    "austin_health_loc.fillna(method='bfill',axis=0,inplace=True)"
   ]
  },
  {
   "cell_type": "code",
   "execution_count": 17,
   "id": "f94125f0-6604-44f5-bdd8-40b573814629",
   "metadata": {},
   "outputs": [
    {
     "data": {
      "text/html": [
       "<div>\n",
       "<style scoped>\n",
       "    .dataframe tbody tr th:only-of-type {\n",
       "        vertical-align: middle;\n",
       "    }\n",
       "\n",
       "    .dataframe tbody tr th {\n",
       "        vertical-align: top;\n",
       "    }\n",
       "\n",
       "    .dataframe thead th {\n",
       "        text-align: right;\n",
       "    }\n",
       "</style>\n",
       "<table border=\"1\" class=\"dataframe\">\n",
       "  <thead>\n",
       "    <tr style=\"text-align: right;\">\n",
       "      <th></th>\n",
       "      <th>Facility Name</th>\n",
       "      <th>Street Address</th>\n",
       "      <th>Zip Code</th>\n",
       "      <th>Hours</th>\n",
       "      <th>Website</th>\n",
       "      <th>Phone Number</th>\n",
       "      <th>Building ID</th>\n",
       "      <th>Ownership Status</th>\n",
       "      <th>Owner</th>\n",
       "      <th>Occupying Division</th>\n",
       "      <th>Occupancy Type</th>\n",
       "      <th>Sq. Ft.</th>\n",
       "      <th>Year Built</th>\n",
       "    </tr>\n",
       "  </thead>\n",
       "  <tbody>\n",
       "    <tr>\n",
       "      <th>0</th>\n",
       "      <td>Bastrop WIC Clinic</td>\n",
       "      <td>[{\"address\": \"443 Texas Highway 71\", \"city\": \"...</td>\n",
       "      <td>78602</td>\n",
       "      <td>Monday 7:30am to 7pm, closed 12 noon to 1pm; T...</td>\n",
       "      <td>[http://www.austintexas.gov/department/clarksv...</td>\n",
       "      <td>512-972-4942</td>\n",
       "      <td>BAS</td>\n",
       "      <td>Lease</td>\n",
       "      <td>The Marketplace at Bastrop</td>\n",
       "      <td>Community Services</td>\n",
       "      <td>Clinic</td>\n",
       "      <td>1400</td>\n",
       "      <td>N/A</td>\n",
       "    </tr>\n",
       "    <tr>\n",
       "      <th>1</th>\n",
       "      <td>Blackland Neighborhood Center</td>\n",
       "      <td>[{\"address\": \"2005 Salina St\", \"city\": \"Austin...</td>\n",
       "      <td>78722</td>\n",
       "      <td>Monday to Thursday 8am to 6pm; Friday 8am to 1...</td>\n",
       "      <td>[http://www.austintexas.gov/department/clarksv...</td>\n",
       "      <td>512-972-5790</td>\n",
       "      <td>BNC</td>\n",
       "      <td>Own</td>\n",
       "      <td>City of Austin</td>\n",
       "      <td>Community Services</td>\n",
       "      <td>Neighborhood Center, Offices</td>\n",
       "      <td>347</td>\n",
       "      <td>1984</td>\n",
       "    </tr>\n",
       "  </tbody>\n",
       "</table>\n",
       "</div>"
      ],
      "text/plain": [
       "                   Facility Name  \\\n",
       "0             Bastrop WIC Clinic   \n",
       "1  Blackland Neighborhood Center   \n",
       "\n",
       "                                      Street Address Zip Code  \\\n",
       "0  [{\"address\": \"443 Texas Highway 71\", \"city\": \"...    78602   \n",
       "1  [{\"address\": \"2005 Salina St\", \"city\": \"Austin...    78722   \n",
       "\n",
       "                                               Hours  \\\n",
       "0  Monday 7:30am to 7pm, closed 12 noon to 1pm; T...   \n",
       "1  Monday to Thursday 8am to 6pm; Friday 8am to 1...   \n",
       "\n",
       "                                             Website  Phone Number  \\\n",
       "0  [http://www.austintexas.gov/department/clarksv...  512-972-4942   \n",
       "1  [http://www.austintexas.gov/department/clarksv...  512-972-5790   \n",
       "\n",
       "  Building ID Ownership Status                       Owner  \\\n",
       "0         BAS            Lease  The Marketplace at Bastrop   \n",
       "1         BNC              Own              City of Austin   \n",
       "\n",
       "    Occupying Division                 Occupancy Type Sq. Ft.  Year Built   \n",
       "0  Community Services                          Clinic     1400         N/A  \n",
       "1   Community Services  Neighborhood Center, Offices       347        1984  "
      ]
     },
     "execution_count": 17,
     "metadata": {},
     "output_type": "execute_result"
    }
   ],
   "source": [
    "# display austin_health_loc df head after droping column and filling na values\n",
    "\n",
    "austin_health_loc.head(2)"
   ]
  },
  {
   "cell_type": "markdown",
   "id": "5f3b17e0-0a76-416e-9662-d93f0eb562cb",
   "metadata": {},
   "source": [
    "### 3. Feature Engineering/Transform Features:"
   ]
  },
  {
   "cell_type": "code",
   "execution_count": 18,
   "id": "be20d842-ed4a-40ed-9015-2edb09dc75fb",
   "metadata": {
    "tags": []
   },
   "outputs": [],
   "source": [
    "# the dataset has 'street address' column where it is address in list and dictionary format, \n",
    "#  split this column to create street address, city name, state, latitude and longitude etc seprate columns.\n",
    "\n",
    "# create function to clean address column and create new columns\n",
    "from ast import literal_eval\n",
    "\n",
    "def split_address(addr_list):\n",
    "    \n",
    "    new_cols = []\n",
    "    address = literal_eval(addr_list[0])\n",
    "    new_cols.append(address['address'])\n",
    "    new_cols.append(address['city'])\n",
    "    new_cols.append(address['state'])\n",
    "    new_cols.append(addr_list[1])\n",
    "    new_cols.append(addr_list[2])\n",
    "    return new_cols\n",
    "\n",
    "new_columns = ['street_name','city','state','lat','long']"
   ]
  },
  {
   "cell_type": "code",
   "execution_count": 19,
   "id": "d169280d-b405-4154-a85b-77e38320a323",
   "metadata": {},
   "outputs": [],
   "source": [
    "# iterate over function to create new columns based on street address feature\n",
    "\n",
    "values = []\n",
    "for i in range(austin_health_loc.shape[0]):\n",
    "    values.append(split_address(austin_health_loc['Street Address'][i]))\n",
    "    \n",
    "austin_health_loc[new_columns] = values"
   ]
  },
  {
   "cell_type": "code",
   "execution_count": 20,
   "id": "158862a4-f1fa-4bb9-a150-cd11685131b1",
   "metadata": {},
   "outputs": [],
   "source": [
    "# drop the stree address column\n",
    "\n",
    "austin_health_loc.drop('Street Address',inplace=True,axis=1)"
   ]
  },
  {
   "cell_type": "code",
   "execution_count": 21,
   "id": "09bf58fe-f0e2-40b0-bada-222ae5aee786",
   "metadata": {},
   "outputs": [
    {
     "data": {
      "text/html": [
       "<div>\n",
       "<style scoped>\n",
       "    .dataframe tbody tr th:only-of-type {\n",
       "        vertical-align: middle;\n",
       "    }\n",
       "\n",
       "    .dataframe tbody tr th {\n",
       "        vertical-align: top;\n",
       "    }\n",
       "\n",
       "    .dataframe thead th {\n",
       "        text-align: right;\n",
       "    }\n",
       "</style>\n",
       "<table border=\"1\" class=\"dataframe\">\n",
       "  <thead>\n",
       "    <tr style=\"text-align: right;\">\n",
       "      <th></th>\n",
       "      <th>Facility Name</th>\n",
       "      <th>Zip Code</th>\n",
       "      <th>Hours</th>\n",
       "      <th>Website</th>\n",
       "      <th>Phone Number</th>\n",
       "      <th>Building ID</th>\n",
       "      <th>Ownership Status</th>\n",
       "      <th>Owner</th>\n",
       "      <th>Occupying Division</th>\n",
       "      <th>Occupancy Type</th>\n",
       "      <th>Sq. Ft.</th>\n",
       "      <th>Year Built</th>\n",
       "      <th>street_name</th>\n",
       "      <th>city</th>\n",
       "      <th>state</th>\n",
       "      <th>lat</th>\n",
       "      <th>long</th>\n",
       "    </tr>\n",
       "  </thead>\n",
       "  <tbody>\n",
       "    <tr>\n",
       "      <th>0</th>\n",
       "      <td>Bastrop WIC Clinic</td>\n",
       "      <td>78602</td>\n",
       "      <td>Monday 7:30am to 7pm, closed 12 noon to 1pm; T...</td>\n",
       "      <td>[http://www.austintexas.gov/department/clarksv...</td>\n",
       "      <td>512-972-4942</td>\n",
       "      <td>BAS</td>\n",
       "      <td>Lease</td>\n",
       "      <td>The Marketplace at Bastrop</td>\n",
       "      <td>Community Services</td>\n",
       "      <td>Clinic</td>\n",
       "      <td>1400</td>\n",
       "      <td>N/A</td>\n",
       "      <td>443 Texas Highway 71</td>\n",
       "      <td>Bastrop</td>\n",
       "      <td>Texas</td>\n",
       "      <td>30.10646853400044</td>\n",
       "      <td>-97.33211573399967</td>\n",
       "    </tr>\n",
       "    <tr>\n",
       "      <th>1</th>\n",
       "      <td>Blackland Neighborhood Center</td>\n",
       "      <td>78722</td>\n",
       "      <td>Monday to Thursday 8am to 6pm; Friday 8am to 1...</td>\n",
       "      <td>[http://www.austintexas.gov/department/clarksv...</td>\n",
       "      <td>512-972-5790</td>\n",
       "      <td>BNC</td>\n",
       "      <td>Own</td>\n",
       "      <td>City of Austin</td>\n",
       "      <td>Community Services</td>\n",
       "      <td>Neighborhood Center, Offices</td>\n",
       "      <td>347</td>\n",
       "      <td>1984</td>\n",
       "      <td>2005 Salina St</td>\n",
       "      <td>Austin</td>\n",
       "      <td>Texas</td>\n",
       "      <td>30.280750365000472</td>\n",
       "      <td>-97.72245940699969</td>\n",
       "    </tr>\n",
       "    <tr>\n",
       "      <th>2</th>\n",
       "      <td>Clarksville Community Health Center</td>\n",
       "      <td>78703</td>\n",
       "      <td>Monday to Friday, 8am - 4:30pm</td>\n",
       "      <td>[http://www.austintexas.gov/department/clarksv...</td>\n",
       "      <td>512-972-4942</td>\n",
       "      <td>CNC</td>\n",
       "      <td>Own</td>\n",
       "      <td>City of Austin</td>\n",
       "      <td>Disease Prevnetion and Health Promotion</td>\n",
       "      <td>Clinic, Offices</td>\n",
       "      <td>3500</td>\n",
       "      <td>N/A</td>\n",
       "      <td>1000 Toyath Street</td>\n",
       "      <td>Austin</td>\n",
       "      <td>Texas</td>\n",
       "      <td>30.28122053000044</td>\n",
       "      <td>-97.76330054699969</td>\n",
       "    </tr>\n",
       "    <tr>\n",
       "      <th>3</th>\n",
       "      <td>Del Valle WIC Clinic</td>\n",
       "      <td>78617</td>\n",
       "      <td>Monday 8am to 7pm; closed 12 noon to 12:30pm; ...</td>\n",
       "      <td>[http://www.austintexas.gov/department/del-val...</td>\n",
       "      <td>512-972-4942</td>\n",
       "      <td>DEL</td>\n",
       "      <td>N/A</td>\n",
       "      <td>Travis County</td>\n",
       "      <td>Community Services</td>\n",
       "      <td>Clinic</td>\n",
       "      <td>1000</td>\n",
       "      <td>N/A</td>\n",
       "      <td>3518 FM 973</td>\n",
       "      <td>Del Valle</td>\n",
       "      <td>Texas</td>\n",
       "      <td>30.198796</td>\n",
       "      <td>-97.642069</td>\n",
       "    </tr>\n",
       "    <tr>\n",
       "      <th>4</th>\n",
       "      <td>East Austin Neighborhood Center</td>\n",
       "      <td>78702</td>\n",
       "      <td>Monday toThursday 8am to 6pm; Friday 8am to noon</td>\n",
       "      <td>[http://www.austintexas.gov/department/east-au...</td>\n",
       "      <td>512-972-6650</td>\n",
       "      <td>EAN</td>\n",
       "      <td>Own</td>\n",
       "      <td>City of Austin</td>\n",
       "      <td>Community Services</td>\n",
       "      <td>Clinic, Neighborhood Center</td>\n",
       "      <td>4304</td>\n",
       "      <td>1981</td>\n",
       "      <td>211 Comal St</td>\n",
       "      <td>Austin</td>\n",
       "      <td>Texas</td>\n",
       "      <td>30.259718</td>\n",
       "      <td>-97.727464</td>\n",
       "    </tr>\n",
       "  </tbody>\n",
       "</table>\n",
       "</div>"
      ],
      "text/plain": [
       "                         Facility Name Zip Code  \\\n",
       "0                   Bastrop WIC Clinic    78602   \n",
       "1        Blackland Neighborhood Center    78722   \n",
       "2  Clarksville Community Health Center    78703   \n",
       "3                 Del Valle WIC Clinic    78617   \n",
       "4      East Austin Neighborhood Center    78702   \n",
       "\n",
       "                                               Hours  \\\n",
       "0  Monday 7:30am to 7pm, closed 12 noon to 1pm; T...   \n",
       "1  Monday to Thursday 8am to 6pm; Friday 8am to 1...   \n",
       "2                     Monday to Friday, 8am - 4:30pm   \n",
       "3  Monday 8am to 7pm; closed 12 noon to 12:30pm; ...   \n",
       "4   Monday toThursday 8am to 6pm; Friday 8am to noon   \n",
       "\n",
       "                                             Website  Phone Number  \\\n",
       "0  [http://www.austintexas.gov/department/clarksv...  512-972-4942   \n",
       "1  [http://www.austintexas.gov/department/clarksv...  512-972-5790   \n",
       "2  [http://www.austintexas.gov/department/clarksv...  512-972-4942   \n",
       "3  [http://www.austintexas.gov/department/del-val...  512-972-4942   \n",
       "4  [http://www.austintexas.gov/department/east-au...  512-972-6650   \n",
       "\n",
       "  Building ID Ownership Status                       Owner  \\\n",
       "0         BAS            Lease  The Marketplace at Bastrop   \n",
       "1         BNC              Own              City of Austin   \n",
       "2         CNC              Own              City of Austin   \n",
       "3         DEL              N/A              Travis County    \n",
       "4         EAN              Own              City of Austin   \n",
       "\n",
       "                        Occupying Division                 Occupancy Type  \\\n",
       "0                      Community Services                          Clinic   \n",
       "1                       Community Services  Neighborhood Center, Offices    \n",
       "2  Disease Prevnetion and Health Promotion               Clinic, Offices    \n",
       "3                      Community Services                         Clinic    \n",
       "4                      Community Services    Clinic, Neighborhood Center    \n",
       "\n",
       "  Sq. Ft.  Year Built            street_name       city  state  \\\n",
       "0     1400         N/A  443 Texas Highway 71    Bastrop  Texas   \n",
       "1      347        1984        2005 Salina St     Austin  Texas   \n",
       "2     3500         N/A    1000 Toyath Street     Austin  Texas   \n",
       "3     1000         N/A           3518 FM 973  Del Valle  Texas   \n",
       "4     4304        1981          211 Comal St     Austin  Texas   \n",
       "\n",
       "                  lat                long  \n",
       "0   30.10646853400044  -97.33211573399967  \n",
       "1  30.280750365000472  -97.72245940699969  \n",
       "2   30.28122053000044  -97.76330054699969  \n",
       "3           30.198796          -97.642069  \n",
       "4           30.259718          -97.727464  "
      ]
     },
     "execution_count": 21,
     "metadata": {},
     "output_type": "execute_result"
    }
   ],
   "source": [
    "# display head of df after addingnew cols\n",
    "\n",
    "austin_health_loc.head()"
   ]
  },
  {
   "cell_type": "markdown",
   "id": "5408044d-2c44-4d7a-8a18-40e411dc1e7c",
   "metadata": {},
   "source": [
    "### 4. Duplicate Data"
   ]
  },
  {
   "cell_type": "code",
   "execution_count": 22,
   "id": "07a39f9e-9050-40c7-95f7-e76e7799e603",
   "metadata": {},
   "outputs": [
    {
     "name": "stdout",
     "output_type": "stream",
     "text": [
      "There are 0 duplicates in the dataset\n"
     ]
    }
   ],
   "source": [
    "# check for any duplicate facility name and street name in dataset\n",
    "\n",
    "dupes = austin_health_loc[['Facility Name','street_name']].duplicated().sum()\n",
    "\n",
    "# there are no duplicates in data set\n",
    "\n",
    "print(f\"There are {dupes} duplicates in the dataset\")"
   ]
  },
  {
   "cell_type": "markdown",
   "id": "57d39abc-d6a2-48de-bf4b-9599484847e3",
   "metadata": {},
   "source": [
    "Based on above dup count, there are no duplicates in the dataset, so we dont need to remove any"
   ]
  },
  {
   "cell_type": "markdown",
   "id": "d983f1f1-6cbd-4359-b959-51a7b52cca62",
   "metadata": {},
   "source": [
    "#### 5. Outliers and Bad Data"
   ]
  },
  {
   "cell_type": "code",
   "execution_count": 23,
   "id": "5fa3120f-04e2-42f2-950c-68c9919447f6",
   "metadata": {},
   "outputs": [
    {
     "data": {
      "text/plain": [
       "<Figure size 1080x504 with 0 Axes>"
      ]
     },
     "execution_count": 23,
     "metadata": {},
     "output_type": "execute_result"
    },
    {
     "data": {
      "text/plain": [
       "<AxesSubplot:xlabel='Zip Code', ylabel='count'>"
      ]
     },
     "execution_count": 23,
     "metadata": {},
     "output_type": "execute_result"
    },
    {
     "data": {
      "text/plain": [
       "Text(0.5, 1.0, 'Distribution of: Zip Code')"
      ]
     },
     "execution_count": 23,
     "metadata": {},
     "output_type": "execute_result"
    },
    {
     "data": {
      "text/plain": [
       "(array([ 0,  1,  2,  3,  4,  5,  6,  7,  8,  9, 10, 11, 12, 13, 14, 15, 16]),\n",
       " [Text(0, 0, '78602'),\n",
       "  Text(1, 0, '78722'),\n",
       "  Text(2, 0, '78703'),\n",
       "  Text(3, 0, '78617'),\n",
       "  Text(4, 0, '78702'),\n",
       "  Text(5, 0, '78744'),\n",
       "  Text(6, 0, '78621'),\n",
       "  Text(7, 0, '78745'),\n",
       "  Text(8, 0, '78653'),\n",
       "  Text(9, 0, '78758'),\n",
       "  Text(10, 0, '78741'),\n",
       "  Text(11, 0, '78735'),\n",
       "  Text(12, 0, '78660'),\n",
       "  Text(13, 0, '78754'),\n",
       "  Text(14, 0, '78704'),\n",
       "  Text(15, 0, '78752'),\n",
       "  Text(16, 0, '78751')])"
      ]
     },
     "execution_count": 23,
     "metadata": {},
     "output_type": "execute_result"
    },
    {
     "data": {
      "image/png": "[encoded data removed]",
      "text/plain": [
       "<Figure size 1080x504 with 1 Axes>"
      ]
     },
     "metadata": {},
     "output_type": "display_data"
    },
    {
     "data": {
      "text/plain": [
       "<Figure size 1080x504 with 0 Axes>"
      ]
     },
     "execution_count": 23,
     "metadata": {},
     "output_type": "execute_result"
    },
    {
     "data": {
      "text/plain": [
       "<AxesSubplot:xlabel='Ownership Status', ylabel='count'>"
      ]
     },
     "execution_count": 23,
     "metadata": {},
     "output_type": "execute_result"
    },
    {
     "data": {
      "text/plain": [
       "Text(0.5, 1.0, 'Distribution of: Ownership Status')"
      ]
     },
     "execution_count": 23,
     "metadata": {},
     "output_type": "execute_result"
    },
    {
     "data": {
      "text/plain": [
       "(array([0, 1, 2, 3]),\n",
       " [Text(0, 0, 'Lease'),\n",
       "  Text(1, 0, 'Own'),\n",
       "  Text(2, 0, 'N/A'),\n",
       "  Text(3, 0, 'Own ')])"
      ]
     },
     "execution_count": 23,
     "metadata": {},
     "output_type": "execute_result"
    },
    {
     "data": {
      "image/png": "[encoded data removed]",
      "text/plain": [
       "<Figure size 1080x504 with 1 Axes>"
      ]
     },
     "metadata": {},
     "output_type": "display_data"
    },
    {
     "data": {
      "text/plain": [
       "<Figure size 1080x504 with 0 Axes>"
      ]
     },
     "execution_count": 23,
     "metadata": {},
     "output_type": "execute_result"
    },
    {
     "data": {
      "text/plain": [
       "<AxesSubplot:xlabel='Occupying Division', ylabel='count'>"
      ]
     },
     "execution_count": 23,
     "metadata": {},
     "output_type": "execute_result"
    },
    {
     "data": {
      "text/plain": [
       "Text(0.5, 1.0, 'Distribution of: Occupying Division')"
      ]
     },
     "execution_count": 23,
     "metadata": {},
     "output_type": "execute_result"
    },
    {
     "data": {
      "text/plain": [
       "(array([ 0,  1,  2,  3,  4,  5,  6,  7,  8,  9, 10]),\n",
       " [Text(0, 0, 'Community Services '),\n",
       "  Text(1, 0, 'Community Services'),\n",
       "  Text(2, 0, 'Disease Prevnetion and Health Promotion'),\n",
       "  Text(3, 0, 'Comunity Services, Disease Prevention and Health Promotion'),\n",
       "  Text(4, 0, 'Administrative Support Services, Disease Prevnetion and Health Promotion, Epidemiology, Public Health Preparedness'),\n",
       "  Text(5, 0, 'Environmental Health Services '),\n",
       "  Text(6, 0, 'Epidemiology and Public Health Preparedness, Office of the Director'),\n",
       "  Text(7, 0, 'Community Services, Health Equity and Community Engagement'),\n",
       "  Text(8, 0, 'Administrative Support Services, Health Equity and Community Engagement, Office of the Director '),\n",
       "  Text(9, 0, 'Administrative Support Services, Community Services, Health Equity and Community Engagement '),\n",
       "  Text(10, 0, 'Community Services, Epidemiology, Public Health Preparedness ')])"
      ]
     },
     "execution_count": 23,
     "metadata": {},
     "output_type": "execute_result"
    },
    {
     "data": {
      "image/png": "[encoded data removed]",
      "text/plain": [
       "<Figure size 1080x504 with 1 Axes>"
      ]
     },
     "metadata": {},
     "output_type": "display_data"
    }
   ],
   "source": [
    "# display distribution chart for each feature and see if any outliers\n",
    "\n",
    "column_data = austin_health_loc[['Zip Code','Ownership Status','Occupying Division']]\n",
    "\n",
    "sns.set(style='white')\n",
    "\n",
    "\n",
    "for col in column_data:\n",
    "    plt.figure(figsize=(15,7))\n",
    "    sns.countplot(data = austin_health_loc, x = col, color = 'b')\n",
    "    plt.title(f'Distribution of: {col}', fontdict = {'color':'r','fontsize':15})\n",
    "    plt.xticks(rotation = 90);\n",
    "    plt.show();"
   ]
  },
  {
   "cell_type": "markdown",
   "id": "bf9e4ecb-88c7-4b6a-8287-c2c61c5f3bce",
   "metadata": {},
   "source": [
    "#### Based on above charts we can see that zip code 78702 have lots of facilities, Ownership status feature have some not realted status such as phone number and two separate statuses with same name as 'own' could be extra space. We are going to keep all of these as is since we are going to encode them."
   ]
  },
  {
   "cell_type": "markdown",
   "id": "541440e9-52fb-439b-bc86-d3748f2bdb40",
   "metadata": {},
   "source": [
    "### 6. Format Data:"
   ]
  },
  {
   "cell_type": "code",
   "execution_count": 24,
   "id": "198a4ca8-38e1-4c47-8b92-d9b8c369c1ea",
   "metadata": {},
   "outputs": [],
   "source": [
    "# encode columns required for final dataset and used in model building\n",
    "\n",
    "format_cols = ['Hours','Occupying Division','Occupancy Type','lat','long']\n",
    "\n",
    "from sklearn.preprocessing import LabelEncoder\n",
    "\n",
    "enc = LabelEncoder()\n",
    "\n",
    "for col in format_cols:\n",
    "    austin_health_loc[col] = enc.fit_transform(austin_health_loc[col])"
   ]
  },
  {
   "cell_type": "code",
   "execution_count": 25,
   "id": "b1c80e1a-0e7c-4398-b441-756e77f093a7",
   "metadata": {},
   "outputs": [
    {
     "data": {
      "text/html": [
       "<div>\n",
       "<style scoped>\n",
       "    .dataframe tbody tr th:only-of-type {\n",
       "        vertical-align: middle;\n",
       "    }\n",
       "\n",
       "    .dataframe tbody tr th {\n",
       "        vertical-align: top;\n",
       "    }\n",
       "\n",
       "    .dataframe thead th {\n",
       "        text-align: right;\n",
       "    }\n",
       "</style>\n",
       "<table border=\"1\" class=\"dataframe\">\n",
       "  <thead>\n",
       "    <tr style=\"text-align: right;\">\n",
       "      <th></th>\n",
       "      <th>Facility Name</th>\n",
       "      <th>Zip Code</th>\n",
       "      <th>Hours</th>\n",
       "      <th>Website</th>\n",
       "      <th>Phone Number</th>\n",
       "      <th>Building ID</th>\n",
       "      <th>Ownership Status</th>\n",
       "      <th>Owner</th>\n",
       "      <th>Occupying Division</th>\n",
       "      <th>Occupancy Type</th>\n",
       "      <th>Sq. Ft.</th>\n",
       "      <th>Year Built</th>\n",
       "      <th>street_name</th>\n",
       "      <th>city</th>\n",
       "      <th>state</th>\n",
       "      <th>lat</th>\n",
       "      <th>long</th>\n",
       "    </tr>\n",
       "  </thead>\n",
       "  <tbody>\n",
       "    <tr>\n",
       "      <th>0</th>\n",
       "      <td>Bastrop WIC Clinic</td>\n",
       "      <td>78602</td>\n",
       "      <td>1</td>\n",
       "      <td>[http://www.austintexas.gov/department/clarksv...</td>\n",
       "      <td>512-972-4942</td>\n",
       "      <td>BAS</td>\n",
       "      <td>Lease</td>\n",
       "      <td>The Marketplace at Bastrop</td>\n",
       "      <td>4</td>\n",
       "      <td>0</td>\n",
       "      <td>1400</td>\n",
       "      <td>N/A</td>\n",
       "      <td>443 Texas Highway 71</td>\n",
       "      <td>Bastrop</td>\n",
       "      <td>Texas</td>\n",
       "      <td>0</td>\n",
       "      <td>0</td>\n",
       "    </tr>\n",
       "    <tr>\n",
       "      <th>1</th>\n",
       "      <td>Blackland Neighborhood Center</td>\n",
       "      <td>78722</td>\n",
       "      <td>19</td>\n",
       "      <td>[http://www.austintexas.gov/department/clarksv...</td>\n",
       "      <td>512-972-5790</td>\n",
       "      <td>BNC</td>\n",
       "      <td>Own</td>\n",
       "      <td>City of Austin</td>\n",
       "      <td>3</td>\n",
       "      <td>6</td>\n",
       "      <td>347</td>\n",
       "      <td>1984</td>\n",
       "      <td>2005 Salina St</td>\n",
       "      <td>Austin</td>\n",
       "      <td>Texas</td>\n",
       "      <td>20</td>\n",
       "      <td>22</td>\n",
       "    </tr>\n",
       "    <tr>\n",
       "      <th>2</th>\n",
       "      <td>Clarksville Community Health Center</td>\n",
       "      <td>78703</td>\n",
       "      <td>15</td>\n",
       "      <td>[http://www.austintexas.gov/department/clarksv...</td>\n",
       "      <td>512-972-4942</td>\n",
       "      <td>CNC</td>\n",
       "      <td>Own</td>\n",
       "      <td>City of Austin</td>\n",
       "      <td>8</td>\n",
       "      <td>4</td>\n",
       "      <td>3500</td>\n",
       "      <td>N/A</td>\n",
       "      <td>1000 Toyath Street</td>\n",
       "      <td>Austin</td>\n",
       "      <td>Texas</td>\n",
       "      <td>21</td>\n",
       "      <td>28</td>\n",
       "    </tr>\n",
       "    <tr>\n",
       "      <th>3</th>\n",
       "      <td>Del Valle WIC Clinic</td>\n",
       "      <td>78617</td>\n",
       "      <td>3</td>\n",
       "      <td>[http://www.austintexas.gov/department/del-val...</td>\n",
       "      <td>512-972-4942</td>\n",
       "      <td>DEL</td>\n",
       "      <td>N/A</td>\n",
       "      <td>Travis County</td>\n",
       "      <td>4</td>\n",
       "      <td>1</td>\n",
       "      <td>1000</td>\n",
       "      <td>N/A</td>\n",
       "      <td>3518 FM 973</td>\n",
       "      <td>Del Valle</td>\n",
       "      <td>Texas</td>\n",
       "      <td>2</td>\n",
       "      <td>3</td>\n",
       "    </tr>\n",
       "    <tr>\n",
       "      <th>4</th>\n",
       "      <td>East Austin Neighborhood Center</td>\n",
       "      <td>78702</td>\n",
       "      <td>21</td>\n",
       "      <td>[http://www.austintexas.gov/department/east-au...</td>\n",
       "      <td>512-972-6650</td>\n",
       "      <td>EAN</td>\n",
       "      <td>Own</td>\n",
       "      <td>City of Austin</td>\n",
       "      <td>4</td>\n",
       "      <td>2</td>\n",
       "      <td>4304</td>\n",
       "      <td>1981</td>\n",
       "      <td>211 Comal St</td>\n",
       "      <td>Austin</td>\n",
       "      <td>Texas</td>\n",
       "      <td>16</td>\n",
       "      <td>24</td>\n",
       "    </tr>\n",
       "  </tbody>\n",
       "</table>\n",
       "</div>"
      ],
      "text/plain": [
       "                         Facility Name Zip Code  Hours  \\\n",
       "0                   Bastrop WIC Clinic    78602      1   \n",
       "1        Blackland Neighborhood Center    78722     19   \n",
       "2  Clarksville Community Health Center    78703     15   \n",
       "3                 Del Valle WIC Clinic    78617      3   \n",
       "4      East Austin Neighborhood Center    78702     21   \n",
       "\n",
       "                                             Website  Phone Number  \\\n",
       "0  [http://www.austintexas.gov/department/clarksv...  512-972-4942   \n",
       "1  [http://www.austintexas.gov/department/clarksv...  512-972-5790   \n",
       "2  [http://www.austintexas.gov/department/clarksv...  512-972-4942   \n",
       "3  [http://www.austintexas.gov/department/del-val...  512-972-4942   \n",
       "4  [http://www.austintexas.gov/department/east-au...  512-972-6650   \n",
       "\n",
       "  Building ID Ownership Status                       Owner  \\\n",
       "0         BAS            Lease  The Marketplace at Bastrop   \n",
       "1         BNC              Own              City of Austin   \n",
       "2         CNC              Own              City of Austin   \n",
       "3         DEL              N/A              Travis County    \n",
       "4         EAN              Own              City of Austin   \n",
       "\n",
       "   Occupying Division  Occupancy Type Sq. Ft.  Year Built   \\\n",
       "0                   4               0     1400         N/A   \n",
       "1                   3               6      347        1984   \n",
       "2                   8               4     3500         N/A   \n",
       "3                   4               1     1000         N/A   \n",
       "4                   4               2     4304        1981   \n",
       "\n",
       "            street_name       city  state  lat  long  \n",
       "0  443 Texas Highway 71    Bastrop  Texas    0     0  \n",
       "1        2005 Salina St     Austin  Texas   20    22  \n",
       "2    1000 Toyath Street     Austin  Texas   21    28  \n",
       "3           3518 FM 973  Del Valle  Texas    2     3  \n",
       "4          211 Comal St     Austin  Texas   16    24  "
      ]
     },
     "execution_count": 25,
     "metadata": {},
     "output_type": "execute_result"
    }
   ],
   "source": [
    "# display head of df after addingnew cols\n",
    "\n",
    "austin_health_loc.head()"
   ]
  },
  {
   "cell_type": "markdown",
   "id": "7e06f2f2-a1ef-4d35-a638-d65346008770",
   "metadata": {},
   "source": [
    "# END"
   ]
  }
 ],
 "metadata": {
  "kernelspec": {
   "display_name": "Python 3",
   "language": "python",
   "name": "python3"
  },
  "language_info": {
   "codemirror_mode": {
    "name": "ipython",
    "version": 3
   },
   "file_extension": ".py",
   "mimetype": "text/x-python",
   "name": "python",
   "nbconvert_exporter": "python",
   "pygments_lexer": "ipython3",
   "version": "3.8.2"
  }
 },
 "nbformat": 4,
 "nbformat_minor": 5
}
