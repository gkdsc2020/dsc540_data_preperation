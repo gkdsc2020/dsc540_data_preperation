{
 "cells": [
  {
   "cell_type": "markdown",
   "id": "e7e60ede-f2c8-482b-b2f0-662ebd261b9f",
   "metadata": {},
   "source": [
    "## Author# Ganesh Kale\n",
    "## Week# 11 & 12\n",
    "## Date# Nov 14, 2021"
   ]
  },
  {
   "cell_type": "markdown",
   "id": "abc686da-191e-4e02-a963-4ca7c4f4572b",
   "metadata": {},
   "source": [
    "### Activity 11   Retreiving Data From Database"
   ]
  },
  {
   "cell_type": "markdown",
   "id": "09df36b7-cc9d-4faf-bcf9-d0ab66bcbeb6",
   "metadata": {},
   "source": [
    "#### _import required packages_"
   ]
  },
  {
   "cell_type": "code",
   "execution_count": 1,
   "id": "e8548186-fb04-47e0-a731-aa06f0ede0a8",
   "metadata": {},
   "outputs": [],
   "source": [
    "import numpy as np  # for numeric operations\n",
    "import pandas as pd  # for data manipulation\n",
    "import matplotlib.pyplot as plt  # for data visualization\n",
    "import seaborn as sns  # for data visualization\n",
    "import random   # for generating random numbers\n",
    "import sqlite3  # for sqlite db connection\n",
    "\n",
    "from IPython.core.interactiveshell import InteractiveShell\n",
    "InteractiveShell.ast_node_interactivity = 'all'"
   ]
  },
  {
   "cell_type": "code",
   "execution_count": 5,
   "id": "ea874181-6bd2-4e22-9756-83294d6e6dfd",
   "metadata": {},
   "outputs": [],
   "source": [
    "# Connect to petsDB and check whether the connection has been successful.\n",
    "\n",
    "conn =  sqlite3.connect(\"Data/petsdb\", timeout=10)\n",
    "\n",
    "# create function to test the connection\n",
    "\n",
    "def test_connection(conn):\n",
    "    \n",
    "    try:\n",
    "        \n",
    "        cursor = conn.cursor()\n",
    "        cursor.execute(\"select * from persons limit 1\")\n",
    "        \n",
    "        conn.close() \n",
    "        \n",
    "        return True\n",
    "    \n",
    "    except sqlite3.ProgrammingError as error:\n",
    "        \n",
    "        print(f\"Received error: {error}\")\n",
    "\n",
    "        return False\n",
    "        \n",
    "    except Exception as ex:\n",
    "        \n",
    "        print(f\"Exception received: {ex}\")\n",
    "    \n",
    "        return False"
   ]
  },
  {
   "cell_type": "code",
   "execution_count": 6,
   "id": "5006ce2a-d8aa-4a98-afe9-80eacdd3bf48",
   "metadata": {},
   "outputs": [
    {
     "name": "stdout",
     "output_type": "stream",
     "text": [
      "The connection to petsdb is: True\n"
     ]
    }
   ],
   "source": [
    "#  test the connection\n",
    "\n",
    "print(f\"The connection to petsdb is: {test_connection(conn)}\")"
   ]
  },
  {
   "cell_type": "code",
   "execution_count": 8,
   "id": "3bc3dfa6-dd64-4120-b1b4-864ace684def",
   "metadata": {},
   "outputs": [],
   "source": [
    "# create function to run query on db table\n",
    "\n",
    "def fetch_data(query):\n",
    "    \n",
    "    with sqlite3.connect(\"Data/petsdb\", timeout=10) as conn:\n",
    "        \n",
    "        cursor = conn.cursor()\n",
    "        \n",
    "        results = cursor.execute(query)\n",
    "        \n",
    "        return results"
   ]
  },
  {
   "cell_type": "code",
   "execution_count": 10,
   "id": "600ce917-32ad-4581-bea6-f5853e78ef01",
   "metadata": {},
   "outputs": [
    {
     "name": "stdout",
     "output_type": "stream",
     "text": [
      "Age Group:5, Count: 2\n",
      "Age Group:6, Count: 1\n",
      "Age Group:7, Count: 1\n",
      "Age Group:8, Count: 3\n",
      "Age Group:9, Count: 1\n",
      "Age Group:11, Count: 2\n",
      "Age Group:12, Count: 3\n",
      "Age Group:13, Count: 1\n",
      "Age Group:14, Count: 4\n",
      "Age Group:16, Count: 2\n",
      "Age Group:17, Count: 2\n",
      "Age Group:18, Count: 3\n",
      "Age Group:19, Count: 1\n",
      "Age Group:22, Count: 3\n",
      "Age Group:23, Count: 2\n",
      "Age Group:24, Count: 3\n",
      "Age Group:25, Count: 2\n",
      "Age Group:27, Count: 1\n",
      "Age Group:30, Count: 1\n",
      "Age Group:31, Count: 3\n",
      "Age Group:32, Count: 1\n",
      "Age Group:33, Count: 1\n",
      "Age Group:34, Count: 2\n",
      "Age Group:35, Count: 3\n",
      "Age Group:36, Count: 3\n",
      "Age Group:37, Count: 1\n",
      "Age Group:39, Count: 2\n",
      "Age Group:40, Count: 1\n",
      "Age Group:42, Count: 1\n",
      "Age Group:44, Count: 2\n",
      "Age Group:48, Count: 2\n",
      "Age Group:49, Count: 1\n",
      "Age Group:50, Count: 1\n",
      "Age Group:51, Count: 2\n",
      "Age Group:52, Count: 2\n",
      "Age Group:53, Count: 2\n",
      "Age Group:54, Count: 2\n",
      "Age Group:58, Count: 1\n",
      "Age Group:59, Count: 1\n",
      "Age Group:60, Count: 1\n",
      "Age Group:61, Count: 1\n",
      "Age Group:62, Count: 2\n",
      "Age Group:63, Count: 1\n",
      "Age Group:65, Count: 2\n",
      "Age Group:66, Count: 2\n",
      "Age Group:67, Count: 1\n",
      "Age Group:68, Count: 3\n",
      "Age Group:69, Count: 1\n",
      "Age Group:70, Count: 1\n",
      "Age Group:71, Count: 4\n",
      "Age Group:72, Count: 1\n",
      "Age Group:73, Count: 5\n",
      "Age Group:74, Count: 3\n"
     ]
    }
   ],
   "source": [
    "# Find the different age groups in the persons database. \n",
    "\n",
    "query = '''\n",
    "            select age, count(*) from persons\n",
    "            group by age\n",
    "'''\n",
    "\n",
    "for row in fetch_data(query):\n",
    "    print(f\"Age Group:{row[0]}, Count: {row[1]}\")"
   ]
  },
  {
   "cell_type": "code",
   "execution_count": 11,
   "id": "c178292c-f1eb-4c9c-b293-5d392b41ab98",
   "metadata": {},
   "outputs": [
    {
     "name": "stdout",
     "output_type": "stream",
     "text": [
      "Maximum Age Group:73, Count: 5\n"
     ]
    }
   ],
   "source": [
    "# Find the age group that has the maximum number of people. \n",
    "\n",
    "query = '''\n",
    "            select age, count(*) as cnt from persons\n",
    "            group by age\n",
    "            order by cnt desc\n",
    "            limit 1\n",
    "'''\n",
    "\n",
    "for row in fetch_data(query):\n",
    "    print(f\"Maximum Age Group:{row[0]}, Count: {row[1]}\")"
   ]
  },
  {
   "cell_type": "code",
   "execution_count": 15,
   "id": "bd8dad3f-ebc8-4e04-9c3f-a4d4a059d5ef",
   "metadata": {},
   "outputs": [
    {
     "name": "stdout",
     "output_type": "stream",
     "text": [
      "These many persons do not have last name: 60\n"
     ]
    }
   ],
   "source": [
    "# Find the people who do not have a last name. \n",
    "\n",
    "query = '''\n",
    "            select count(*) from persons\n",
    "            where last_name is null\n",
    "'''\n",
    "\n",
    "for row in fetch_data(query):\n",
    "    print(f\"These many persons do not have last name: {row[0]}\")"
   ]
  },
  {
   "cell_type": "code",
   "execution_count": 16,
   "id": "920cc24b-cac6-400a-b490-f5d11f11a75f",
   "metadata": {},
   "outputs": [
    {
     "name": "stdout",
     "output_type": "stream",
     "text": [
      "There are total persons with more than one pet: 43\n"
     ]
    }
   ],
   "source": [
    "# Find out how many people have more than one pet. \n",
    "\n",
    "query = '''\n",
    "            select count(*) from (select count(owner_id) as cnt from pets\n",
    "            group by owner_id\n",
    "            having cnt > 1 )\n",
    "'''\n",
    "\n",
    "for row in fetch_data(query):\n",
    "    print(f\"There are total persons with more than one pet: {row[0]}\")"
   ]
  },
  {
   "cell_type": "code",
   "execution_count": 17,
   "id": "124eeea7-28f7-45c7-9c71-17c707580619",
   "metadata": {},
   "outputs": [
    {
     "name": "stdout",
     "output_type": "stream",
     "text": [
      "These many pets received treatments: 36\n"
     ]
    }
   ],
   "source": [
    "# Find out how many pets have received treatment. \n",
    "\n",
    "query = '''\n",
    "            select count(*) from pets\n",
    "            where treatment_done=1\n",
    "'''\n",
    "\n",
    "for row in fetch_data(query):\n",
    "    print(f\"These many pets received treatments: {row[0]}\")"
   ]
  },
  {
   "cell_type": "code",
   "execution_count": 19,
   "id": "3bb7a963-9e35-4475-b443-b929282df0b5",
   "metadata": {},
   "outputs": [
    {
     "name": "stdout",
     "output_type": "stream",
     "text": [
      "These many pets received treatments with known types: 16\n"
     ]
    }
   ],
   "source": [
    "# Find out how many pets have received treatment and the type of pet is known. \n",
    "\n",
    "\n",
    "query = '''\n",
    "            select count(*) from pets\n",
    "            where treatment_done=1\n",
    "            and pet_type is not null\n",
    "'''\n",
    "\n",
    "for row in fetch_data(query):\n",
    "    print(f\"These many pets received treatments with known types: {row[0]}\")"
   ]
  },
  {
   "cell_type": "code",
   "execution_count": 20,
   "id": "2054c4eb-e3df-4ea9-93d7-0572733a5d78",
   "metadata": {},
   "outputs": [
    {
     "name": "stdout",
     "output_type": "stream",
     "text": [
      "These many pets are from east port: 49\n"
     ]
    }
   ],
   "source": [
    "# Find out how many pets are from the city called east port. \n",
    "\n",
    "\n",
    "query = '''\n",
    "            select count(*) from pets\n",
    "            join persons on pets.owner_id = persons.id\n",
    "            where persons.city='east port'\n",
    "\n",
    "'''\n",
    "\n",
    "for row in fetch_data(query):\n",
    "    print(f\"These many pets are from east port: {row[0]}\")"
   ]
  },
  {
   "cell_type": "code",
   "execution_count": 22,
   "id": "dea59829-c758-4a4c-a0c1-db79697a7b5a",
   "metadata": {},
   "outputs": [
    {
     "name": "stdout",
     "output_type": "stream",
     "text": [
      "These many pets are from east port and received treatments: 11\n"
     ]
    }
   ],
   "source": [
    "# Find out how many pets are from the city called east port and who received a treatment.\n",
    "\n",
    "\n",
    "query = '''\n",
    "            select count(*) from pets\n",
    "            join persons on pets.owner_id = persons.id\n",
    "            where persons.city='east port'\n",
    "            and pets.treatment_done = 1\n",
    "\n",
    "'''\n",
    "\n",
    "for row in fetch_data(query):\n",
    "    print(f\"These many pets are from east port and received treatments: {row[0]}\")"
   ]
  },
  {
   "cell_type": "markdown",
   "id": "8c3199e1-924d-48bf-8eb9-19312ee8662c",
   "metadata": {},
   "source": [
    "# END"
   ]
  }
 ],
 "metadata": {
  "kernelspec": {
   "display_name": "Python 3",
   "language": "python",
   "name": "python3"
  },
  "language_info": {
   "codemirror_mode": {
    "name": "ipython",
    "version": 3
   },
   "file_extension": ".py",
   "mimetype": "text/x-python",
   "name": "python",
   "nbconvert_exporter": "python",
   "pygments_lexer": "ipython3",
   "version": "3.8.2"
  }
 },
 "nbformat": 4,
 "nbformat_minor": 5
}
