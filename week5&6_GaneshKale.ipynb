{
 "cells": [
  {
   "cell_type": "markdown",
   "id": "6f1397ff-35b1-482e-b9d3-514edaf88bc8",
   "metadata": {},
   "source": [
    "## Author# Ganesh Kale\n",
    "## Week# 5 & 6\n",
    "## Date# Oct 01, 2021"
   ]
  },
  {
   "cell_type": "markdown",
   "id": "31d6d0c5-9e18-4fa5-b8d0-fa028067fc77",
   "metadata": {},
   "source": [
    "#### _import required packages_"
   ]
  },
  {
   "cell_type": "code",
   "execution_count": 1,
   "id": "c30a698e-25f2-4c80-95b4-c031e1066268",
   "metadata": {},
   "outputs": [],
   "source": [
    "import numpy as np  # for numeric operations\n",
    "import pandas as pd  # for data manipulation\n",
    "import matplotlib.pyplot as plt  # for data visualization\n",
    "import seaborn as sns  # for data visualization\n",
    "import random   # for generating random numbers\n",
    "\n",
    "from IPython.core.interactiveshell import InteractiveShell\n",
    "InteractiveShell.ast_node_interactivity = 'all'\n",
    "\n",
    "# import packages required for webscraping\n",
    "\n",
    "import requests\n",
    "from bs4 import BeautifulSoup"
   ]
  },
  {
   "cell_type": "markdown",
   "id": "75ead07d-2a1a-4a20-9488-334926e9ad50",
   "metadata": {},
   "source": [
    "### Exercise - 1"
   ]
  },
  {
   "cell_type": "code",
   "execution_count": 2,
   "id": "bed6b606-e53e-491e-9625-7eb95a34ddc3",
   "metadata": {},
   "outputs": [],
   "source": [
    "# store the webpage link for table to download in variable\n",
    "\n",
    "url =  \"https://en.wikipedia.org/wiki/List_of_countries_by_GDP_(nominal)\"\n",
    "\n",
    "page = requests.get(url)      # access the web page"
   ]
  },
  {
   "cell_type": "code",
   "execution_count": 15,
   "id": "e47722d7-cc15-469a-a70e-32c6d81d9cc0",
   "metadata": {},
   "outputs": [],
   "source": [
    "# save the page object in soup object\n",
    "\n",
    "soup = BeautifulSoup(page.text, 'lxml')"
   ]
  },
  {
   "cell_type": "code",
   "execution_count": 91,
   "id": "a45abc10-c6bd-46df-9796-c9fb8e4dde35",
   "metadata": {
    "tags": []
   },
   "outputs": [],
   "source": [
    "# find the table in the soup object\n",
    "\n",
    "table = soup.find('table', attrs={'class':'wikitable'})\n"
   ]
  },
  {
   "cell_type": "code",
   "execution_count": 52,
   "id": "3ba4010a-26f7-4409-a3c6-6ec5e1a08046",
   "metadata": {},
   "outputs": [],
   "source": [
    "# get all the rows under table element\n",
    "\n",
    "table_rows = table.tbody.find_all('tr')"
   ]
  },
  {
   "cell_type": "code",
   "execution_count": 53,
   "id": "d36bf1d5-d8b1-4936-bf81-27cb6a968239",
   "metadata": {},
   "outputs": [],
   "source": [
    "# store main headers in the list\n",
    "\n",
    "main_headers = table_head_rows[0]\n",
    "\n",
    "# find all the headers from main_headers and remove new line chars and store in list\n",
    "\n",
    "main_headers_names = [head.get_text().strip() for head in main_headers.findAll('th')]"
   ]
  },
  {
   "cell_type": "code",
   "execution_count": 54,
   "id": "9d697041-e734-43e3-9ed2-9f6d789489f2",
   "metadata": {},
   "outputs": [
    {
     "data": {
      "text/plain": [
       "['Country or territory', 'Region', 'IMF[1]', 'UN[12]', 'World Bank[13]']"
      ]
     },
     "execution_count": 54,
     "metadata": {},
     "output_type": "execute_result"
    }
   ],
   "source": [
    "# display main headers\n",
    "\n",
    "main_headers_names"
   ]
  },
  {
   "cell_type": "code",
   "execution_count": 55,
   "id": "c4d098a0-0737-4cf5-a13a-12ede804f645",
   "metadata": {},
   "outputs": [],
   "source": [
    "# store sub headers in the list\n",
    "\n",
    "sub_headers = table_head_rows[1]\n",
    "\n",
    "# find all the headers from main_headers and remove new line chars and store in list\n",
    "\n",
    "sub_headers_names = [head.get_text().strip() for head in sub_headers.findAll('th')]"
   ]
  },
  {
   "cell_type": "code",
   "execution_count": 56,
   "id": "7a36559e-9443-45cb-a079-39b03f849d93",
   "metadata": {},
   "outputs": [
    {
     "data": {
      "text/plain": [
       "['Estimate', 'Year', 'Estimate', 'Year', 'Estimate', 'Year']"
      ]
     },
     "execution_count": 56,
     "metadata": {},
     "output_type": "execute_result"
    }
   ],
   "source": [
    "# display sub headers\n",
    "\n",
    "sub_headers_names"
   ]
  },
  {
   "cell_type": "code",
   "execution_count": 79,
   "id": "91e263ca-9c24-4bf9-8817-7a9c40561a23",
   "metadata": {},
   "outputs": [],
   "source": [
    "# find all the data from each row excpet top 2\n",
    "\n",
    "data = table_rows[3:]\n",
    "\n",
    "# using list comprehension get data from each rows for each column and store in nested list\n",
    "\n",
    "rows = [[td.get_text().strip().encode(\"ascii\", \"ignore\").decode().replace('*','') for td in tr.find_all('td')] for tr in data]"
   ]
  },
  {
   "cell_type": "code",
   "execution_count": 81,
   "id": "2127c6dd-b6ed-4ae2-b7d5-02f8181ece2a",
   "metadata": {
    "tags": []
   },
   "outputs": [
    {
     "data": {
      "text/plain": [
       "[['China',\n",
       "  'Asia',\n",
       "  '16,642,318',\n",
       "  '[n 2]2021',\n",
       "  '14,342,933',\n",
       "  '[n 3]2020',\n",
       "  '14,722,731',\n",
       "  '2020'],\n",
       " ['Japan',\n",
       "  'Asia',\n",
       "  '5,378,136',\n",
       "  '2021',\n",
       "  '5,082,465',\n",
       "  '2020',\n",
       "  '5,064,873',\n",
       "  '2019'],\n",
       " ['Germany',\n",
       "  'Europe',\n",
       "  '4,319,286',\n",
       "  '2021',\n",
       "  '3,861,123',\n",
       "  '2020',\n",
       "  '3,806,060',\n",
       "  '2020'],\n",
       " ['United Kingdom',\n",
       "  'Europe',\n",
       "  '3,124,650',\n",
       "  '2021',\n",
       "  '2,826,441',\n",
       "  '2020',\n",
       "  '2,707,744',\n",
       "  '2020']]"
      ]
     },
     "execution_count": 81,
     "metadata": {},
     "output_type": "execute_result"
    }
   ],
   "source": [
    "# display top 4 data from rows nested list\n",
    "\n",
    "rows[:4]"
   ]
  },
  {
   "cell_type": "code",
   "execution_count": 88,
   "id": "5ce3cb9e-b3f0-4720-99a2-a16d759357a2",
   "metadata": {},
   "outputs": [
    {
     "data": {
      "text/plain": [
       "['Country or territory',\n",
       " 'Region',\n",
       " 'IMF[1]-Estimate',\n",
       " 'IMF[1]-Year',\n",
       " 'UN[12]-Estimate',\n",
       " 'UN[12]-Year',\n",
       " 'World Bank[13]-Estimate',\n",
       " 'World Bank[13]-Year']"
      ]
     },
     "execution_count": 88,
     "metadata": {},
     "output_type": "execute_result"
    }
   ],
   "source": [
    "# create one header by clubing main and sub header \n",
    "\n",
    "headers = []\n",
    "\n",
    "for head in main_headers_names[2:]:\n",
    "    for item in ['Estimate', 'Year']:\n",
    "        new_col = head+'-'+item\n",
    "        headers.append(new_col)\n",
    "\n",
    "# dislplay final headers by adding new headers to main headers\n",
    "\n",
    "final_headers = main_headers_names[:2]+headers\n",
    "final_headers"
   ]
  },
  {
   "cell_type": "code",
   "execution_count": 89,
   "id": "6ee1ef0d-9e6c-4376-85ff-4de0da3829c5",
   "metadata": {},
   "outputs": [],
   "source": [
    "# save retrieved data in dataframe\n",
    "\n",
    "gdp = pd.DataFrame(data=rows, columns=final_headers)"
   ]
  },
  {
   "cell_type": "code",
   "execution_count": 90,
   "id": "d1fbbfaa-2f1b-485f-9b0f-2d4e1a35784e",
   "metadata": {},
   "outputs": [
    {
     "data": {
      "text/plain": [
       "(212, 8)"
      ]
     },
     "execution_count": 90,
     "metadata": {},
     "output_type": "execute_result"
    },
    {
     "data": {
      "text/html": [
       "<div>\n",
       "<style scoped>\n",
       "    .dataframe tbody tr th:only-of-type {\n",
       "        vertical-align: middle;\n",
       "    }\n",
       "\n",
       "    .dataframe tbody tr th {\n",
       "        vertical-align: top;\n",
       "    }\n",
       "\n",
       "    .dataframe thead th {\n",
       "        text-align: right;\n",
       "    }\n",
       "</style>\n",
       "<table border=\"1\" class=\"dataframe\">\n",
       "  <thead>\n",
       "    <tr style=\"text-align: right;\">\n",
       "      <th></th>\n",
       "      <th>Country or territory</th>\n",
       "      <th>Region</th>\n",
       "      <th>IMF[1]-Estimate</th>\n",
       "      <th>IMF[1]-Year</th>\n",
       "      <th>UN[12]-Estimate</th>\n",
       "      <th>UN[12]-Year</th>\n",
       "      <th>World Bank[13]-Estimate</th>\n",
       "      <th>World Bank[13]-Year</th>\n",
       "    </tr>\n",
       "  </thead>\n",
       "  <tbody>\n",
       "    <tr>\n",
       "      <th>0</th>\n",
       "      <td>China</td>\n",
       "      <td>Asia</td>\n",
       "      <td>16,642,318</td>\n",
       "      <td>[n 2]2021</td>\n",
       "      <td>14,342,933</td>\n",
       "      <td>[n 3]2020</td>\n",
       "      <td>14,722,731</td>\n",
       "      <td>2020</td>\n",
       "    </tr>\n",
       "    <tr>\n",
       "      <th>1</th>\n",
       "      <td>Japan</td>\n",
       "      <td>Asia</td>\n",
       "      <td>5,378,136</td>\n",
       "      <td>2021</td>\n",
       "      <td>5,082,465</td>\n",
       "      <td>2020</td>\n",
       "      <td>5,064,873</td>\n",
       "      <td>2019</td>\n",
       "    </tr>\n",
       "    <tr>\n",
       "      <th>2</th>\n",
       "      <td>Germany</td>\n",
       "      <td>Europe</td>\n",
       "      <td>4,319,286</td>\n",
       "      <td>2021</td>\n",
       "      <td>3,861,123</td>\n",
       "      <td>2020</td>\n",
       "      <td>3,806,060</td>\n",
       "      <td>2020</td>\n",
       "    </tr>\n",
       "    <tr>\n",
       "      <th>3</th>\n",
       "      <td>United Kingdom</td>\n",
       "      <td>Europe</td>\n",
       "      <td>3,124,650</td>\n",
       "      <td>2021</td>\n",
       "      <td>2,826,441</td>\n",
       "      <td>2020</td>\n",
       "      <td>2,707,744</td>\n",
       "      <td>2020</td>\n",
       "    </tr>\n",
       "    <tr>\n",
       "      <th>4</th>\n",
       "      <td>India</td>\n",
       "      <td>Asia</td>\n",
       "      <td>3,049,704</td>\n",
       "      <td>2021</td>\n",
       "      <td>2,891,582</td>\n",
       "      <td>2020</td>\n",
       "      <td>2,622,984</td>\n",
       "      <td>2020</td>\n",
       "    </tr>\n",
       "  </tbody>\n",
       "</table>\n",
       "</div>"
      ],
      "text/plain": [
       "  Country or territory  Region IMF[1]-Estimate IMF[1]-Year UN[12]-Estimate  \\\n",
       "0                China    Asia      16,642,318   [n 2]2021      14,342,933   \n",
       "1                Japan    Asia       5,378,136        2021       5,082,465   \n",
       "2              Germany  Europe       4,319,286        2021       3,861,123   \n",
       "3       United Kingdom  Europe       3,124,650        2021       2,826,441   \n",
       "4                India    Asia       3,049,704        2021       2,891,582   \n",
       "\n",
       "  UN[12]-Year World Bank[13]-Estimate World Bank[13]-Year  \n",
       "0   [n 3]2020              14,722,731                2020  \n",
       "1        2020               5,064,873                2019  \n",
       "2        2020               3,806,060                2020  \n",
       "3        2020               2,707,744                2020  \n",
       "4        2020               2,622,984                2020  "
      ]
     },
     "execution_count": 90,
     "metadata": {},
     "output_type": "execute_result"
    }
   ],
   "source": [
    "# display shape and head of new gdp data frame\n",
    "\n",
    "gdp.shape\n",
    "gdp.head()"
   ]
  },
  {
   "cell_type": "code",
   "execution_count": 92,
   "id": "9e5aaf44-76f4-43e5-a675-b9ca891b0409",
   "metadata": {},
   "outputs": [],
   "source": [
    "#  save the data into csv file\n",
    "\n",
    "gdp.to_csv('wiki_gdp_dat_by_country.csv',index=False)"
   ]
  },
  {
   "cell_type": "markdown",
   "id": "1ca52d9b-c964-480a-9306-b50d20d538b7",
   "metadata": {},
   "source": [
    "### END"
   ]
  }
 ],
 "metadata": {
  "kernelspec": {
   "display_name": "Python 3",
   "language": "python",
   "name": "python3"
  },
  "language_info": {
   "codemirror_mode": {
    "name": "ipython",
    "version": 3
   },
   "file_extension": ".py",
   "mimetype": "text/x-python",
   "name": "python",
   "nbconvert_exporter": "python",
   "pygments_lexer": "ipython3",
   "version": "3.8.2"
  }
 },
 "nbformat": 4,
 "nbformat_minor": 5
}
